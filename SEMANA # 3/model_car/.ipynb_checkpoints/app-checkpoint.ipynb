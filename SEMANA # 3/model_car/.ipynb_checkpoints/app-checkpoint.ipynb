{
 "cells": [
  {
   "cell_type": "code",
   "execution_count": null,
   "id": "28bd8b20-59e2-47fb-9006-cbcf9d38ce37",
   "metadata": {},
   "outputs": [],
   "source": [
    "!pip install flask_restx"
   ]
  },
  {
   "cell_type": "code",
   "execution_count": null,
   "id": "b3d7ccd2-5726-4f36-b901-2053438a1e4b",
   "metadata": {},
   "outputs": [],
   "source": [
    "!pip install xgboost"
   ]
  },
  {
   "cell_type": "code",
   "execution_count": null,
   "id": "49397033-7064-41ad-bd1c-adcbfebbdc7a",
   "metadata": {},
   "outputs": [],
   "source": [
    "from flask import Flask, request\n",
    "from flask_restx import Api, Resource, fields\n",
    "import joblib\n",
    "import numpy as np\n",
    "import xgboost\n",
    "import prediction"
   ]
  },
  {
   "cell_type": "code",
   "execution_count": null,
   "id": "280f5d86-4b9d-4879-9d44-6fc25e98d713",
   "metadata": {},
   "outputs": [],
   "source": [
    "app = Flask(__name__)\n",
    "cors = CORS(app, resources={r\"*\": {\"origins\": \"*\"}})\n",
    "api = Api(app)"
   ]
  },
  {
   "cell_type": "code",
   "execution_count": null,
   "id": "7a46dfd2-bdd7-41de-ad5d-c395b0ba8b98",
   "metadata": {},
   "outputs": [],
   "source": [
    "class GetPrediction(Resource):\n",
    "    def get(self):\n",
    "        return {\"error\":\"Invalid Method.\"}\n",
    "\n",
    "    def post(self):\n",
    "        try:\n",
    "            data = request.get_json()\n",
    "            predict = prediction.predict_price(data)\n",
    "            predictOutput = predict\n",
    "            return {'Precio':predictOutput}\n",
    "\n",
    "        except Exception as error:\n",
    "            return {'error': error}"
   ]
  }
 ],
 "metadata": {
  "kernelspec": {
   "display_name": "Python 3.8 - default",
   "language": "python",
   "name": "py38_default"
  },
  "language_info": {
   "codemirror_mode": {
    "name": "ipython",
    "version": 3
   },
   "file_extension": ".py",
   "mimetype": "text/x-python",
   "name": "python",
   "nbconvert_exporter": "python",
   "pygments_lexer": "ipython3",
   "version": "3.8.18"
  }
 },
 "nbformat": 4,
 "nbformat_minor": 5
}
