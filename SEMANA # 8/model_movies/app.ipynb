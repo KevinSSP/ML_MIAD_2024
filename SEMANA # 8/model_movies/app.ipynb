{
 "cells": [
  {
   "cell_type": "code",
   "execution_count": 1,
   "id": "28bd8b20-59e2-47fb-9006-cbcf9d38ce37",
   "metadata": {},
   "outputs": [
    {
     "name": "stdout",
     "output_type": "stream",
     "text": [
      "Collecting flask_restx\n",
      "  Downloading flask_restx-1.3.0-py2.py3-none-any.whl.metadata (9.3 kB)\n",
      "Collecting aniso8601>=0.82 (from flask_restx)\n",
      "  Downloading aniso8601-9.0.1-py2.py3-none-any.whl.metadata (23 kB)\n",
      "Collecting jsonschema (from flask_restx)\n",
      "  Downloading jsonschema-4.22.0-py3-none-any.whl.metadata (8.2 kB)\n",
      "Collecting Flask!=2.0.0,>=0.8 (from flask_restx)\n",
      "  Downloading flask-3.0.3-py3-none-any.whl.metadata (3.2 kB)\n",
      "Requirement already satisfied: werkzeug!=2.0.0 in c:\\users\\kevin\\appdata\\local\\programs\\python\\python311\\lib\\site-packages (from flask_restx) (3.0.3)\n",
      "Collecting pytz (from flask_restx)\n",
      "  Downloading pytz-2024.1-py2.py3-none-any.whl.metadata (22 kB)\n",
      "Collecting importlib-resources (from flask_restx)\n",
      "  Downloading importlib_resources-6.4.0-py3-none-any.whl.metadata (3.9 kB)\n",
      "Collecting Jinja2>=3.1.2 (from Flask!=2.0.0,>=0.8->flask_restx)\n",
      "  Downloading jinja2-3.1.4-py3-none-any.whl.metadata (2.6 kB)\n",
      "Collecting itsdangerous>=2.1.2 (from Flask!=2.0.0,>=0.8->flask_restx)\n",
      "  Downloading itsdangerous-2.2.0-py3-none-any.whl.metadata (1.9 kB)\n",
      "Collecting click>=8.1.3 (from Flask!=2.0.0,>=0.8->flask_restx)\n",
      "  Downloading click-8.1.7-py3-none-any.whl.metadata (3.0 kB)\n",
      "Collecting blinker>=1.6.2 (from Flask!=2.0.0,>=0.8->flask_restx)\n",
      "  Downloading blinker-1.8.2-py3-none-any.whl.metadata (1.6 kB)\n",
      "Requirement already satisfied: MarkupSafe>=2.1.1 in c:\\users\\kevin\\appdata\\local\\programs\\python\\python311\\lib\\site-packages (from werkzeug!=2.0.0->flask_restx) (2.1.5)\n",
      "Collecting attrs>=22.2.0 (from jsonschema->flask_restx)\n",
      "  Downloading attrs-23.2.0-py3-none-any.whl.metadata (9.5 kB)\n",
      "Collecting jsonschema-specifications>=2023.03.6 (from jsonschema->flask_restx)\n",
      "  Downloading jsonschema_specifications-2023.12.1-py3-none-any.whl.metadata (3.0 kB)\n",
      "Collecting referencing>=0.28.4 (from jsonschema->flask_restx)\n",
      "  Downloading referencing-0.35.1-py3-none-any.whl.metadata (2.8 kB)\n",
      "Collecting rpds-py>=0.7.1 (from jsonschema->flask_restx)\n",
      "  Downloading rpds_py-0.18.1-cp311-none-win_amd64.whl.metadata (4.2 kB)\n",
      "Requirement already satisfied: colorama in c:\\users\\kevin\\appdata\\roaming\\python\\python311\\site-packages (from click>=8.1.3->Flask!=2.0.0,>=0.8->flask_restx) (0.4.6)\n",
      "Downloading flask_restx-1.3.0-py2.py3-none-any.whl (2.8 MB)\n",
      "   ---------------------------------------- 0.0/2.8 MB ? eta -:--:--\n",
      "   ------------------------ --------------- 1.7/2.8 MB 52.2 MB/s eta 0:00:01\n",
      "   ---------------------------------------- 2.8/2.8 MB 35.7 MB/s eta 0:00:00\n",
      "Downloading aniso8601-9.0.1-py2.py3-none-any.whl (52 kB)\n",
      "   ---------------------------------------- 0.0/52.8 kB ? eta -:--:--\n",
      "   ---------------------------------------- 52.8/52.8 kB 2.7 MB/s eta 0:00:00\n",
      "Downloading flask-3.0.3-py3-none-any.whl (101 kB)\n",
      "   ---------------------------------------- 0.0/101.7 kB ? eta -:--:--\n",
      "   ---------------------------------------- 101.7/101.7 kB ? eta 0:00:00\n",
      "Downloading importlib_resources-6.4.0-py3-none-any.whl (38 kB)\n",
      "Downloading jsonschema-4.22.0-py3-none-any.whl (88 kB)\n",
      "   ---------------------------------------- 0.0/88.3 kB ? eta -:--:--\n",
      "   ---------------------------------------- 88.3/88.3 kB ? eta 0:00:00\n",
      "Downloading pytz-2024.1-py2.py3-none-any.whl (505 kB)\n",
      "   ---------------------------------------- 0.0/505.5 kB ? eta -:--:--\n",
      "   --------------------------------------- 505.5/505.5 kB 31.0 MB/s eta 0:00:00\n",
      "Downloading attrs-23.2.0-py3-none-any.whl (60 kB)\n",
      "   ---------------------------------------- 0.0/60.8 kB ? eta -:--:--\n",
      "   ---------------------------------------- 60.8/60.8 kB 3.4 MB/s eta 0:00:00\n",
      "Downloading blinker-1.8.2-py3-none-any.whl (9.5 kB)\n",
      "Downloading click-8.1.7-py3-none-any.whl (97 kB)\n",
      "   ---------------------------------------- 0.0/97.9 kB ? eta -:--:--\n",
      "   ---------------------------------------- 97.9/97.9 kB ? eta 0:00:00\n",
      "Downloading itsdangerous-2.2.0-py3-none-any.whl (16 kB)\n",
      "Downloading jinja2-3.1.4-py3-none-any.whl (133 kB)\n",
      "   ---------------------------------------- 0.0/133.3 kB ? eta -:--:--\n",
      "   ---------------------------------------- 133.3/133.3 kB 8.2 MB/s eta 0:00:00\n",
      "Downloading jsonschema_specifications-2023.12.1-py3-none-any.whl (18 kB)\n",
      "Downloading referencing-0.35.1-py3-none-any.whl (26 kB)\n",
      "Downloading rpds_py-0.18.1-cp311-none-win_amd64.whl (209 kB)\n",
      "   ---------------------------------------- 0.0/209.0 kB ? eta -:--:--\n",
      "   --------------------------------------- 209.0/209.0 kB 12.4 MB/s eta 0:00:00\n",
      "Installing collected packages: pytz, aniso8601, rpds-py, Jinja2, itsdangerous, importlib-resources, click, blinker, attrs, referencing, Flask, jsonschema-specifications, jsonschema, flask_restx\n",
      "Successfully installed Flask-3.0.3 Jinja2-3.1.4 aniso8601-9.0.1 attrs-23.2.0 blinker-1.8.2 click-8.1.7 flask_restx-1.3.0 importlib-resources-6.4.0 itsdangerous-2.2.0 jsonschema-4.22.0 jsonschema-specifications-2023.12.1 pytz-2024.1 referencing-0.35.1 rpds-py-0.18.1\n"
     ]
    }
   ],
   "source": [
    "!pip install flask_restx"
   ]
  },
  {
   "cell_type": "code",
   "execution_count": null,
   "id": "5f13a4db-dcba-4249-9b28-95203118f076",
   "metadata": {},
   "outputs": [],
   "source": []
  },
  {
   "cell_type": "code",
   "execution_count": 6,
   "id": "b3d7ccd2-5726-4f36-b901-2053438a1e4b",
   "metadata": {},
   "outputs": [
    {
     "name": "stdout",
     "output_type": "stream",
     "text": [
      "Collecting pandas\n",
      "  Downloading pandas-2.2.2-cp311-cp311-win_amd64.whl.metadata (19 kB)\n",
      "Requirement already satisfied: numpy>=1.23.2 in c:\\users\\kevin\\appdata\\local\\programs\\python\\python311\\lib\\site-packages (from pandas) (1.26.4)\n",
      "Requirement already satisfied: python-dateutil>=2.8.2 in c:\\users\\kevin\\appdata\\roaming\\python\\python311\\site-packages (from pandas) (2.9.0.post0)\n",
      "Requirement already satisfied: pytz>=2020.1 in c:\\users\\kevin\\appdata\\local\\programs\\python\\python311\\lib\\site-packages (from pandas) (2024.1)\n",
      "Collecting tzdata>=2022.7 (from pandas)\n",
      "  Downloading tzdata-2024.1-py2.py3-none-any.whl.metadata (1.4 kB)\n",
      "Requirement already satisfied: six>=1.5 in c:\\users\\kevin\\appdata\\local\\programs\\python\\python311\\lib\\site-packages (from python-dateutil>=2.8.2->pandas) (1.16.0)\n",
      "Downloading pandas-2.2.2-cp311-cp311-win_amd64.whl (11.6 MB)\n",
      "   ---------------------------------------- 0.0/11.6 MB ? eta -:--:--\n",
      "   --- ------------------------------------ 1.1/11.6 MB 23.3 MB/s eta 0:00:01\n",
      "   ---------- ----------------------------- 2.9/11.6 MB 31.4 MB/s eta 0:00:01\n",
      "   ------------------- -------------------- 5.7/11.6 MB 36.8 MB/s eta 0:00:01\n",
      "   ------------------------- -------------- 7.4/11.6 MB 39.8 MB/s eta 0:00:01\n",
      "   --------------------------- ------------ 8.1/11.6 MB 32.5 MB/s eta 0:00:01\n",
      "   ------------------------------- -------- 9.2/11.6 MB 31.0 MB/s eta 0:00:01\n",
      "   ----------------------------------- ---- 10.3/11.6 MB 31.2 MB/s eta 0:00:01\n",
      "   ---------------------------------------  11.5/11.6 MB 31.2 MB/s eta 0:00:01\n",
      "   ---------------------------------------- 11.6/11.6 MB 28.4 MB/s eta 0:00:00\n",
      "Downloading tzdata-2024.1-py2.py3-none-any.whl (345 kB)\n",
      "   ---------------------------------------- 0.0/345.4 kB ? eta -:--:--\n",
      "   --------------------------------------- 345.4/345.4 kB 10.8 MB/s eta 0:00:00\n",
      "Installing collected packages: tzdata, pandas\n",
      "Successfully installed pandas-2.2.2 tzdata-2024.1\n"
     ]
    }
   ],
   "source": [
    "!pip install pandas"
   ]
  },
  {
   "cell_type": "code",
   "execution_count": 13,
   "id": "51ccfcdd-cf1b-4d80-b877-f2a780bf63be",
   "metadata": {},
   "outputs": [
    {
     "name": "stdout",
     "output_type": "stream",
     "text": [
      "Name: tensorflow\n",
      "Version: 2.15.0\n",
      "Summary: TensorFlow is an open source machine learning framework for everyone.\n",
      "Home-page: https://www.tensorflow.org/\n",
      "Author: Google Inc.\n",
      "Author-email: packages@tensorflow.org\n",
      "License: Apache 2.0\n",
      "Location: C:\\Users\\Kevin\\AppData\\Local\\Programs\\Python\\Python311\\Lib\\site-packages\n",
      "Requires: tensorflow-intel\n",
      "Required-by: \n"
     ]
    }
   ],
   "source": [
    "!pip show tensorflow"
   ]
  },
  {
   "cell_type": "code",
   "execution_count": 54,
   "id": "49397033-7064-41ad-bd1c-adcbfebbdc7a",
   "metadata": {},
   "outputs": [],
   "source": [
    "from flask import Flask, request, jsonify\n",
    "from flask_restx import Api, Resource, fields\n",
    "import joblib\n",
    "import numpy as np\n",
    "#import xgboost\n",
    "import predictionv2\n",
    "from flask_cors import CORS\n",
    "import utils\n"
   ]
  },
  {
   "cell_type": "code",
   "execution_count": 55,
   "id": "280f5d86-4b9d-4879-9d44-6fc25e98d713",
   "metadata": {},
   "outputs": [],
   "source": [
    "app = Flask(__name__)\n",
    "cors = CORS(app, resources={r\"*\": {\"origins\": \"*\"}})\n",
    "api = Api(app)"
   ]
  },
  {
   "cell_type": "code",
   "execution_count": 56,
   "id": "7a46dfd2-bdd7-41de-ad5d-c395b0ba8b98",
   "metadata": {},
   "outputs": [],
   "source": [
    "class GetPrediction(Resource):\n",
    "    def get(self):\n",
    "        return {\"error\": \"Invalid Method.\"}, 405\n",
    "\n",
    "    def post(self):\n",
    "        try:\n",
    "            data = request.get_json()\n",
    "            predict = predictionv2.predict_genres(data)\n",
    "            return jsonify({\"result\": predict})\n",
    "\n",
    "        except Exception as error:\n",
    "            return {\"error\": str(error)}, 500"
   ]
  },
  {
   "cell_type": "code",
   "execution_count": 58,
   "id": "1c992e26-8f76-475f-b289-d8f9a2d0cd3f",
   "metadata": {},
   "outputs": [],
   "source": [
    "api.add_resource(GetPrediction,'/getPrediction')"
   ]
  },
  {
   "cell_type": "code",
   "execution_count": 59,
   "id": "21a460bb-4e1a-4def-b482-a69c0ff51211",
   "metadata": {},
   "outputs": [
    {
     "name": "stdout",
     "output_type": "stream",
     "text": [
      " * Serving Flask app '__main__'\n",
      " * Debug mode: on\n"
     ]
    },
    {
     "name": "stderr",
     "output_type": "stream",
     "text": [
      "WARNING: This is a development server. Do not use it in a production deployment. Use a production WSGI server instead.\n",
      " * Running on all addresses (0.0.0.0)\n",
      " * Running on http://127.0.0.1:5000\n",
      " * Running on http://192.168.43.231:5000\n",
      "Press CTRL+C to quit\n",
      "127.0.0.1 - - [26/May/2024 09:12:31] \"POST /getPrediction HTTP/1.1\" 500 -\n"
     ]
    }
   ],
   "source": [
    "app.run(debug=True, use_reloader=False, host='0.0.0.0', port=5000)"
   ]
  },
  {
   "cell_type": "code",
   "execution_count": null,
   "id": "d628f78e-f7d2-4ed0-992d-19cd31f59671",
   "metadata": {},
   "outputs": [],
   "source": []
  }
 ],
 "metadata": {
  "kernelspec": {
   "display_name": "Python 3",
   "language": "python",
   "name": "python3"
  },
  "language_info": {
   "codemirror_mode": {
    "name": "ipython",
    "version": 3
   },
   "file_extension": ".py",
   "mimetype": "text/x-python",
   "name": "python",
   "nbconvert_exporter": "python",
   "pygments_lexer": "ipython3",
   "version": "3.11.3"
  }
 },
 "nbformat": 4,
 "nbformat_minor": 5
}
