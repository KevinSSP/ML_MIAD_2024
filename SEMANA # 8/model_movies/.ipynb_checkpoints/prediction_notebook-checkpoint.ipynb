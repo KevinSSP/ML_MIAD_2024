{
 "cells": [
  {
   "cell_type": "code",
   "execution_count": 8,
   "id": "5bf04285-57e8-4218-b700-fbeba866df20",
   "metadata": {},
   "outputs": [],
   "source": [
    "import pandas as pd\n",
    "import json\n",
    "import joblib\n",
    "import sys\n",
    "import os"
   ]
  },
  {
   "cell_type": "code",
   "execution_count": 2,
   "id": "bef7cc50-a0f2-48a2-9d4c-1d371d27069c",
   "metadata": {},
   "outputs": [],
   "source": [
    "\n",
    "indata = {\n",
    "    'Year': 2017,\n",
    "    'Mileage': 9913,\n",
    "    'State': 'FL',\n",
    "    'Make': 'Jeep',\n",
    "    'Model': 'Wrangler'\n",
    "}"
   ]
  },
  {
   "cell_type": "code",
   "execution_count": 9,
   "id": "0cdfa9d5-5570-4580-98d0-f9084fb3ac3c",
   "metadata": {},
   "outputs": [],
   "source": [
    "def predict_price(indata):\n",
    "    reg = joblib.load(os.path.dirname(__file__) + '\\\\prediction_car_reg.pkl') \n",
    "\n",
    "    if type(indata) == dict:\n",
    "        df = pd.DataFrame(indata)\n",
    "    else:\n",
    "        df = indata\n",
    "        \n",
    "    print(df)\n",
    "    \n",
    "    #y_pred = model.predict(df)\n",
    "    \n",
    "    print('y_pred')"
   ]
  },
  {
   "cell_type": "code",
   "execution_count": 10,
   "id": "b50ced9e-7c70-4e0a-b116-6febba575776",
   "metadata": {},
   "outputs": [
    {
     "ename": "NameError",
     "evalue": "name '__file__' is not defined",
     "output_type": "error",
     "traceback": [
      "\u001b[1;31m---------------------------------------------------------------------------\u001b[0m",
      "\u001b[1;31mNameError\u001b[0m                                 Traceback (most recent call last)",
      "Cell \u001b[1;32mIn[10], line 1\u001b[0m\n\u001b[1;32m----> 1\u001b[0m \u001b[43mpredict_price\u001b[49m\u001b[43m(\u001b[49m\u001b[43mindata\u001b[49m\u001b[43m)\u001b[49m\n",
      "Cell \u001b[1;32mIn[9], line 2\u001b[0m, in \u001b[0;36mpredict_price\u001b[1;34m(indata)\u001b[0m\n\u001b[0;32m      1\u001b[0m \u001b[38;5;28;01mdef\u001b[39;00m \u001b[38;5;21mpredict_price\u001b[39m(indata):\n\u001b[1;32m----> 2\u001b[0m     reg \u001b[38;5;241m=\u001b[39m joblib\u001b[38;5;241m.\u001b[39mload(os\u001b[38;5;241m.\u001b[39mpath\u001b[38;5;241m.\u001b[39mdirname(\u001b[38;5;18;43m__file__\u001b[39;49m) \u001b[38;5;241m+\u001b[39m \u001b[38;5;124m'\u001b[39m\u001b[38;5;130;01m\\\\\u001b[39;00m\u001b[38;5;124mprediction_car_reg.pkl\u001b[39m\u001b[38;5;124m'\u001b[39m) \n\u001b[0;32m      4\u001b[0m     \u001b[38;5;28;01mif\u001b[39;00m \u001b[38;5;28mtype\u001b[39m(indata) \u001b[38;5;241m==\u001b[39m \u001b[38;5;28mdict\u001b[39m:\n\u001b[0;32m      5\u001b[0m         df \u001b[38;5;241m=\u001b[39m pd\u001b[38;5;241m.\u001b[39mDataFrame(indata)\n",
      "\u001b[1;31mNameError\u001b[0m: name '__file__' is not defined"
     ]
    }
   ],
   "source": [
    "predict_price(indata)"
   ]
  },
  {
   "cell_type": "code",
   "execution_count": null,
   "id": "dd17866d-324b-4bf2-ba95-da89a4f586fb",
   "metadata": {},
   "outputs": [],
   "source": []
  }
 ],
 "metadata": {
  "kernelspec": {
   "display_name": "Python 3.8 - default",
   "language": "python",
   "name": "py38_default"
  },
  "language_info": {
   "codemirror_mode": {
    "name": "ipython",
    "version": 3
   },
   "file_extension": ".py",
   "mimetype": "text/x-python",
   "name": "python",
   "nbconvert_exporter": "python",
   "pygments_lexer": "ipython3",
   "version": "3.8.18"
  }
 },
 "nbformat": 4,
 "nbformat_minor": 5
}
