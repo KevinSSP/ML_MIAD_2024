{
  "cells": [
    {
      "cell_type": "markdown",
      "metadata": {
        "id": "dj1IHYjT9H5K"
      },
      "source": [
        "![image info](https://raw.githubusercontent.com/albahnsen/MIAD_ML_and_NLP/main/images/banner_1.png)"
      ]
    },
    {
      "cell_type": "markdown",
      "metadata": {
        "id": "fG5W-ZSs9H5N"
      },
      "source": [
        "# Taller: Construcción e implementación de modelos Bagging, Random Forest y XGBoost\n",
        "\n",
        "En este taller podrán poner en práctica sus conocimientos sobre la construcción e implementación de modelos de Bagging, Random Forest y XGBoost. El taller está constituido por 8 puntos, en los cuales deberan seguir las intrucciones de cada numeral para su desarrollo."
      ]
    },
    {
      "cell_type": "markdown",
      "metadata": {
        "id": "o_Q2tRR09H5O"
      },
      "source": [
        "## Datos predicción precio de automóviles\n",
        "\n",
        "En este taller se usará el conjunto de datos de Car Listings de Kaggle donde cada observación representa el precio de un automóvil teniendo en cuenta distintas variables como año, marca, modelo, entre otras. El objetivo es predecir el precio del automóvil. Para más detalles puede visitar el siguiente enlace: [datos](https://www.kaggle.com/jpayne/852k-used-car-listings)."
      ]
    },
    {
      "cell_type": "code",
      "execution_count": null,
      "metadata": {
        "id": "c5DRIL289H5P"
      },
      "outputs": [],
      "source": [
        "import warnings\n",
        "warnings.filterwarnings('ignore')"
      ]
    },
    {
      "cell_type": "code",
      "execution_count": null,
      "metadata": {
        "id": "P9Bi1RKh9H5Q",
        "colab": {
          "base_uri": "https://localhost:8080/",
          "height": 206
        },
        "outputId": "42491e65-c852-4f33-b074-edfa0864caef"
      },
      "outputs": [
        {
          "output_type": "execute_result",
          "data": {
            "text/plain": [
              "     Price  Year  Mileage  M_Camry  M_Camry4dr  M_CamryBase  M_CamryL  \\\n",
              "7    21995  2014     6480    False       False        False      True   \n",
              "11   13995  2014    39972    False       False        False     False   \n",
              "167  17941  2016    18989    False       False        False     False   \n",
              "225  12493  2014    51330    False       False        False      True   \n",
              "270   7994  2007   116065    False        True        False     False   \n",
              "\n",
              "     M_CamryLE  M_CamrySE  M_CamryXLE  \n",
              "7        False      False       False  \n",
              "11        True      False       False  \n",
              "167      False       True       False  \n",
              "225      False      False       False  \n",
              "270      False      False       False  "
            ],
            "text/html": [
              "\n",
              "  <div id=\"df-3e66f699-0a0f-4e8a-95b0-75c92ce23a6f\" class=\"colab-df-container\">\n",
              "    <div>\n",
              "<style scoped>\n",
              "    .dataframe tbody tr th:only-of-type {\n",
              "        vertical-align: middle;\n",
              "    }\n",
              "\n",
              "    .dataframe tbody tr th {\n",
              "        vertical-align: top;\n",
              "    }\n",
              "\n",
              "    .dataframe thead th {\n",
              "        text-align: right;\n",
              "    }\n",
              "</style>\n",
              "<table border=\"1\" class=\"dataframe\">\n",
              "  <thead>\n",
              "    <tr style=\"text-align: right;\">\n",
              "      <th></th>\n",
              "      <th>Price</th>\n",
              "      <th>Year</th>\n",
              "      <th>Mileage</th>\n",
              "      <th>M_Camry</th>\n",
              "      <th>M_Camry4dr</th>\n",
              "      <th>M_CamryBase</th>\n",
              "      <th>M_CamryL</th>\n",
              "      <th>M_CamryLE</th>\n",
              "      <th>M_CamrySE</th>\n",
              "      <th>M_CamryXLE</th>\n",
              "    </tr>\n",
              "  </thead>\n",
              "  <tbody>\n",
              "    <tr>\n",
              "      <th>7</th>\n",
              "      <td>21995</td>\n",
              "      <td>2014</td>\n",
              "      <td>6480</td>\n",
              "      <td>False</td>\n",
              "      <td>False</td>\n",
              "      <td>False</td>\n",
              "      <td>True</td>\n",
              "      <td>False</td>\n",
              "      <td>False</td>\n",
              "      <td>False</td>\n",
              "    </tr>\n",
              "    <tr>\n",
              "      <th>11</th>\n",
              "      <td>13995</td>\n",
              "      <td>2014</td>\n",
              "      <td>39972</td>\n",
              "      <td>False</td>\n",
              "      <td>False</td>\n",
              "      <td>False</td>\n",
              "      <td>False</td>\n",
              "      <td>True</td>\n",
              "      <td>False</td>\n",
              "      <td>False</td>\n",
              "    </tr>\n",
              "    <tr>\n",
              "      <th>167</th>\n",
              "      <td>17941</td>\n",
              "      <td>2016</td>\n",
              "      <td>18989</td>\n",
              "      <td>False</td>\n",
              "      <td>False</td>\n",
              "      <td>False</td>\n",
              "      <td>False</td>\n",
              "      <td>False</td>\n",
              "      <td>True</td>\n",
              "      <td>False</td>\n",
              "    </tr>\n",
              "    <tr>\n",
              "      <th>225</th>\n",
              "      <td>12493</td>\n",
              "      <td>2014</td>\n",
              "      <td>51330</td>\n",
              "      <td>False</td>\n",
              "      <td>False</td>\n",
              "      <td>False</td>\n",
              "      <td>True</td>\n",
              "      <td>False</td>\n",
              "      <td>False</td>\n",
              "      <td>False</td>\n",
              "    </tr>\n",
              "    <tr>\n",
              "      <th>270</th>\n",
              "      <td>7994</td>\n",
              "      <td>2007</td>\n",
              "      <td>116065</td>\n",
              "      <td>False</td>\n",
              "      <td>True</td>\n",
              "      <td>False</td>\n",
              "      <td>False</td>\n",
              "      <td>False</td>\n",
              "      <td>False</td>\n",
              "      <td>False</td>\n",
              "    </tr>\n",
              "  </tbody>\n",
              "</table>\n",
              "</div>\n",
              "    <div class=\"colab-df-buttons\">\n",
              "\n",
              "  <div class=\"colab-df-container\">\n",
              "    <button class=\"colab-df-convert\" onclick=\"convertToInteractive('df-3e66f699-0a0f-4e8a-95b0-75c92ce23a6f')\"\n",
              "            title=\"Convert this dataframe to an interactive table.\"\n",
              "            style=\"display:none;\">\n",
              "\n",
              "  <svg xmlns=\"http://www.w3.org/2000/svg\" height=\"24px\" viewBox=\"0 -960 960 960\">\n",
              "    <path d=\"M120-120v-720h720v720H120Zm60-500h600v-160H180v160Zm220 220h160v-160H400v160Zm0 220h160v-160H400v160ZM180-400h160v-160H180v160Zm440 0h160v-160H620v160ZM180-180h160v-160H180v160Zm440 0h160v-160H620v160Z\"/>\n",
              "  </svg>\n",
              "    </button>\n",
              "\n",
              "  <style>\n",
              "    .colab-df-container {\n",
              "      display:flex;\n",
              "      gap: 12px;\n",
              "    }\n",
              "\n",
              "    .colab-df-convert {\n",
              "      background-color: #E8F0FE;\n",
              "      border: none;\n",
              "      border-radius: 50%;\n",
              "      cursor: pointer;\n",
              "      display: none;\n",
              "      fill: #1967D2;\n",
              "      height: 32px;\n",
              "      padding: 0 0 0 0;\n",
              "      width: 32px;\n",
              "    }\n",
              "\n",
              "    .colab-df-convert:hover {\n",
              "      background-color: #E2EBFA;\n",
              "      box-shadow: 0px 1px 2px rgba(60, 64, 67, 0.3), 0px 1px 3px 1px rgba(60, 64, 67, 0.15);\n",
              "      fill: #174EA6;\n",
              "    }\n",
              "\n",
              "    .colab-df-buttons div {\n",
              "      margin-bottom: 4px;\n",
              "    }\n",
              "\n",
              "    [theme=dark] .colab-df-convert {\n",
              "      background-color: #3B4455;\n",
              "      fill: #D2E3FC;\n",
              "    }\n",
              "\n",
              "    [theme=dark] .colab-df-convert:hover {\n",
              "      background-color: #434B5C;\n",
              "      box-shadow: 0px 1px 3px 1px rgba(0, 0, 0, 0.15);\n",
              "      filter: drop-shadow(0px 1px 2px rgba(0, 0, 0, 0.3));\n",
              "      fill: #FFFFFF;\n",
              "    }\n",
              "  </style>\n",
              "\n",
              "    <script>\n",
              "      const buttonEl =\n",
              "        document.querySelector('#df-3e66f699-0a0f-4e8a-95b0-75c92ce23a6f button.colab-df-convert');\n",
              "      buttonEl.style.display =\n",
              "        google.colab.kernel.accessAllowed ? 'block' : 'none';\n",
              "\n",
              "      async function convertToInteractive(key) {\n",
              "        const element = document.querySelector('#df-3e66f699-0a0f-4e8a-95b0-75c92ce23a6f');\n",
              "        const dataTable =\n",
              "          await google.colab.kernel.invokeFunction('convertToInteractive',\n",
              "                                                    [key], {});\n",
              "        if (!dataTable) return;\n",
              "\n",
              "        const docLinkHtml = 'Like what you see? Visit the ' +\n",
              "          '<a target=\"_blank\" href=https://colab.research.google.com/notebooks/data_table.ipynb>data table notebook</a>'\n",
              "          + ' to learn more about interactive tables.';\n",
              "        element.innerHTML = '';\n",
              "        dataTable['output_type'] = 'display_data';\n",
              "        await google.colab.output.renderOutput(dataTable, element);\n",
              "        const docLink = document.createElement('div');\n",
              "        docLink.innerHTML = docLinkHtml;\n",
              "        element.appendChild(docLink);\n",
              "      }\n",
              "    </script>\n",
              "  </div>\n",
              "\n",
              "\n",
              "<div id=\"df-03f76a40-4fa7-499e-b995-e7e1f74eee7e\">\n",
              "  <button class=\"colab-df-quickchart\" onclick=\"quickchart('df-03f76a40-4fa7-499e-b995-e7e1f74eee7e')\"\n",
              "            title=\"Suggest charts\"\n",
              "            style=\"display:none;\">\n",
              "\n",
              "<svg xmlns=\"http://www.w3.org/2000/svg\" height=\"24px\"viewBox=\"0 0 24 24\"\n",
              "     width=\"24px\">\n",
              "    <g>\n",
              "        <path d=\"M19 3H5c-1.1 0-2 .9-2 2v14c0 1.1.9 2 2 2h14c1.1 0 2-.9 2-2V5c0-1.1-.9-2-2-2zM9 17H7v-7h2v7zm4 0h-2V7h2v10zm4 0h-2v-4h2v4z\"/>\n",
              "    </g>\n",
              "</svg>\n",
              "  </button>\n",
              "\n",
              "<style>\n",
              "  .colab-df-quickchart {\n",
              "      --bg-color: #E8F0FE;\n",
              "      --fill-color: #1967D2;\n",
              "      --hover-bg-color: #E2EBFA;\n",
              "      --hover-fill-color: #174EA6;\n",
              "      --disabled-fill-color: #AAA;\n",
              "      --disabled-bg-color: #DDD;\n",
              "  }\n",
              "\n",
              "  [theme=dark] .colab-df-quickchart {\n",
              "      --bg-color: #3B4455;\n",
              "      --fill-color: #D2E3FC;\n",
              "      --hover-bg-color: #434B5C;\n",
              "      --hover-fill-color: #FFFFFF;\n",
              "      --disabled-bg-color: #3B4455;\n",
              "      --disabled-fill-color: #666;\n",
              "  }\n",
              "\n",
              "  .colab-df-quickchart {\n",
              "    background-color: var(--bg-color);\n",
              "    border: none;\n",
              "    border-radius: 50%;\n",
              "    cursor: pointer;\n",
              "    display: none;\n",
              "    fill: var(--fill-color);\n",
              "    height: 32px;\n",
              "    padding: 0;\n",
              "    width: 32px;\n",
              "  }\n",
              "\n",
              "  .colab-df-quickchart:hover {\n",
              "    background-color: var(--hover-bg-color);\n",
              "    box-shadow: 0 1px 2px rgba(60, 64, 67, 0.3), 0 1px 3px 1px rgba(60, 64, 67, 0.15);\n",
              "    fill: var(--button-hover-fill-color);\n",
              "  }\n",
              "\n",
              "  .colab-df-quickchart-complete:disabled,\n",
              "  .colab-df-quickchart-complete:disabled:hover {\n",
              "    background-color: var(--disabled-bg-color);\n",
              "    fill: var(--disabled-fill-color);\n",
              "    box-shadow: none;\n",
              "  }\n",
              "\n",
              "  .colab-df-spinner {\n",
              "    border: 2px solid var(--fill-color);\n",
              "    border-color: transparent;\n",
              "    border-bottom-color: var(--fill-color);\n",
              "    animation:\n",
              "      spin 1s steps(1) infinite;\n",
              "  }\n",
              "\n",
              "  @keyframes spin {\n",
              "    0% {\n",
              "      border-color: transparent;\n",
              "      border-bottom-color: var(--fill-color);\n",
              "      border-left-color: var(--fill-color);\n",
              "    }\n",
              "    20% {\n",
              "      border-color: transparent;\n",
              "      border-left-color: var(--fill-color);\n",
              "      border-top-color: var(--fill-color);\n",
              "    }\n",
              "    30% {\n",
              "      border-color: transparent;\n",
              "      border-left-color: var(--fill-color);\n",
              "      border-top-color: var(--fill-color);\n",
              "      border-right-color: var(--fill-color);\n",
              "    }\n",
              "    40% {\n",
              "      border-color: transparent;\n",
              "      border-right-color: var(--fill-color);\n",
              "      border-top-color: var(--fill-color);\n",
              "    }\n",
              "    60% {\n",
              "      border-color: transparent;\n",
              "      border-right-color: var(--fill-color);\n",
              "    }\n",
              "    80% {\n",
              "      border-color: transparent;\n",
              "      border-right-color: var(--fill-color);\n",
              "      border-bottom-color: var(--fill-color);\n",
              "    }\n",
              "    90% {\n",
              "      border-color: transparent;\n",
              "      border-bottom-color: var(--fill-color);\n",
              "    }\n",
              "  }\n",
              "</style>\n",
              "\n",
              "  <script>\n",
              "    async function quickchart(key) {\n",
              "      const quickchartButtonEl =\n",
              "        document.querySelector('#' + key + ' button');\n",
              "      quickchartButtonEl.disabled = true;  // To prevent multiple clicks.\n",
              "      quickchartButtonEl.classList.add('colab-df-spinner');\n",
              "      try {\n",
              "        const charts = await google.colab.kernel.invokeFunction(\n",
              "            'suggestCharts', [key], {});\n",
              "      } catch (error) {\n",
              "        console.error('Error during call to suggestCharts:', error);\n",
              "      }\n",
              "      quickchartButtonEl.classList.remove('colab-df-spinner');\n",
              "      quickchartButtonEl.classList.add('colab-df-quickchart-complete');\n",
              "    }\n",
              "    (() => {\n",
              "      let quickchartButtonEl =\n",
              "        document.querySelector('#df-03f76a40-4fa7-499e-b995-e7e1f74eee7e button');\n",
              "      quickchartButtonEl.style.display =\n",
              "        google.colab.kernel.accessAllowed ? 'block' : 'none';\n",
              "    })();\n",
              "  </script>\n",
              "</div>\n",
              "\n",
              "    </div>\n",
              "  </div>\n"
            ],
            "application/vnd.google.colaboratory.intrinsic+json": {
              "type": "dataframe",
              "variable_name": "data",
              "summary": "{\n  \"name\": \"data\",\n  \"rows\": 10495,\n  \"fields\": [\n    {\n      \"column\": \"Price\",\n      \"properties\": {\n        \"dtype\": \"number\",\n        \"std\": 3922,\n        \"min\": 5002,\n        \"max\": 32444,\n        \"num_unique_values\": 3660,\n        \"samples\": [\n          15285,\n          17966,\n          13787\n        ],\n        \"semantic_type\": \"\",\n        \"description\": \"\"\n      }\n    },\n    {\n      \"column\": \"Year\",\n      \"properties\": {\n        \"dtype\": \"number\",\n        \"std\": 3,\n        \"min\": 1998,\n        \"max\": 2018,\n        \"num_unique_values\": 20,\n        \"samples\": [\n          2014,\n          2018,\n          2002\n        ],\n        \"semantic_type\": \"\",\n        \"description\": \"\"\n      }\n    },\n    {\n      \"column\": \"Mileage\",\n      \"properties\": {\n        \"dtype\": \"number\",\n        \"std\": 36791,\n        \"min\": 5,\n        \"max\": 232658,\n        \"num_unique_values\": 9913,\n        \"samples\": [\n          91918,\n          24261,\n          100093\n        ],\n        \"semantic_type\": \"\",\n        \"description\": \"\"\n      }\n    },\n    {\n      \"column\": \"M_Camry\",\n      \"properties\": {\n        \"dtype\": \"boolean\",\n        \"num_unique_values\": 2,\n        \"samples\": [\n          true,\n          false\n        ],\n        \"semantic_type\": \"\",\n        \"description\": \"\"\n      }\n    },\n    {\n      \"column\": \"M_Camry4dr\",\n      \"properties\": {\n        \"dtype\": \"boolean\",\n        \"num_unique_values\": 2,\n        \"samples\": [\n          true,\n          false\n        ],\n        \"semantic_type\": \"\",\n        \"description\": \"\"\n      }\n    },\n    {\n      \"column\": \"M_CamryBase\",\n      \"properties\": {\n        \"dtype\": \"boolean\",\n        \"num_unique_values\": 2,\n        \"samples\": [\n          true,\n          false\n        ],\n        \"semantic_type\": \"\",\n        \"description\": \"\"\n      }\n    },\n    {\n      \"column\": \"M_CamryL\",\n      \"properties\": {\n        \"dtype\": \"boolean\",\n        \"num_unique_values\": 2,\n        \"samples\": [\n          false,\n          true\n        ],\n        \"semantic_type\": \"\",\n        \"description\": \"\"\n      }\n    },\n    {\n      \"column\": \"M_CamryLE\",\n      \"properties\": {\n        \"dtype\": \"boolean\",\n        \"num_unique_values\": 2,\n        \"samples\": [\n          true,\n          false\n        ],\n        \"semantic_type\": \"\",\n        \"description\": \"\"\n      }\n    },\n    {\n      \"column\": \"M_CamrySE\",\n      \"properties\": {\n        \"dtype\": \"boolean\",\n        \"num_unique_values\": 2,\n        \"samples\": [\n          true,\n          false\n        ],\n        \"semantic_type\": \"\",\n        \"description\": \"\"\n      }\n    },\n    {\n      \"column\": \"M_CamryXLE\",\n      \"properties\": {\n        \"dtype\": \"boolean\",\n        \"num_unique_values\": 2,\n        \"samples\": [\n          true,\n          false\n        ],\n        \"semantic_type\": \"\",\n        \"description\": \"\"\n      }\n    }\n  ]\n}"
            }
          },
          "metadata": {},
          "execution_count": 79
        }
      ],
      "source": [
        "# Importación de librerías\n",
        "%matplotlib inline\n",
        "import pandas as pd\n",
        "from sklearn.ensemble import BaggingRegressor, RandomForestRegressor\n",
        "from sklearn.metrics import mean_squared_error, r2_score\n",
        "from sklearn.model_selection import cross_val_score\n",
        "from sklearn.tree import DecisionTreeRegressor\n",
        "import matplotlib.pyplot as plt\n",
        "from math import log\n",
        "import numpy as np\n",
        "from sklearn import metrics\n",
        "from xgboost import XGBRegressor\n",
        "\n",
        "# Lectura de la información de archivo .csv\n",
        "data = pd.read_csv('https://raw.githubusercontent.com/albahnsen/MIAD_ML_and_NLP/main/datasets/dataTrain_carListings.zip')\n",
        "\n",
        "# Preprocesamiento de datos para el taller\n",
        "data = data.loc[data['Model'].str.contains('Camry')].drop(['Make', 'State'], axis=1)\n",
        "data = data.join(pd.get_dummies(data['Model'], prefix='M'))\n",
        "data = data.drop(['Model'], axis=1)\n",
        "\n",
        "# Visualización dataset\n",
        "data.head()"
      ]
    },
    {
      "cell_type": "code",
      "execution_count": null,
      "metadata": {
        "id": "0zREd2dJ9H5Q"
      },
      "outputs": [],
      "source": [
        "# Separación de variables predictoras (X) y variable de interés (y)\n",
        "y = data['Price']\n",
        "X = data.drop(['Price'], axis=1)"
      ]
    },
    {
      "cell_type": "code",
      "execution_count": null,
      "metadata": {
        "id": "6CPwCk-D9H5R"
      },
      "outputs": [],
      "source": [
        "# Separación de datos en set de entrenamiento y test\n",
        "from sklearn.model_selection import train_test_split\n",
        "X_train, X_test, y_train, y_test = train_test_split(X, y, test_size=0.33, random_state=42)"
      ]
    },
    {
      "cell_type": "markdown",
      "metadata": {
        "id": "siffwJZv9H5R"
      },
      "source": [
        "### Punto 1 - Árbol de decisión manual\n",
        "\n",
        "En la celda 1 creen un árbol de decisión **manualmente**  que considere los set de entrenamiento y test definidos anteriormente y presenten el RMSE y MAE del modelo en el set de test."
      ]
    },
    {
      "cell_type": "code",
      "execution_count": null,
      "metadata": {
        "id": "z1LYd5o_9H5R",
        "colab": {
          "base_uri": "https://localhost:8080/"
        },
        "outputId": "fe07641e-acd7-4ddc-f307-085b463b7c9a"
      },
      "outputs": [
        {
          "output_type": "stream",
          "name": "stdout",
          "text": [
            "RMSE 3910.4887177372943\n",
            "MAE 3109.378928857319\n"
          ]
        }
      ],
      "source": [
        "def rmse_score(y_true, y_pred):\n",
        "    return np.sqrt(np.mean((y_true - y_pred) ** 2))\n",
        "\n",
        "def mae_score(y_true, y_pred):\n",
        "    return np.mean(np.abs(y_true - y_pred))\n",
        "\n",
        "def split_dataset(X, y, feature, threshold):\n",
        "    left_mask = X[feature] <= threshold\n",
        "    right_mask = ~left_mask\n",
        "    return X[left_mask], y[left_mask], X[right_mask], y[right_mask]\n",
        "\n",
        "def build_decision_tree(X, y, depth=0, max_depth=None, min_samples_leaf=5):\n",
        "    best_feature = None\n",
        "    best_threshold = None\n",
        "    best_score = float('inf')\n",
        "\n",
        "    current_score = rmse_score(y, np.mean(y))\n",
        "\n",
        "    if depth == max_depth or len(y) < min_samples_leaf:\n",
        "        return {'value': np.mean(y)}\n",
        "\n",
        "    for feature in X.columns:\n",
        "        for threshold in np.unique(X[feature]):\n",
        "            X_left, y_left, X_right, y_right = split_dataset(X, y, feature, threshold)\n",
        "            left_score = rmse_score(y_left, np.mean(y_left))\n",
        "            right_score = rmse_score(y_right, np.mean(y_right))\n",
        "            score = left_score + right_score\n",
        "            if score < best_score:\n",
        "                best_feature = feature\n",
        "                best_threshold = threshold\n",
        "                best_score = score\n",
        "    if best_score >= current_score:\n",
        "        return {'value': np.mean(y)}\n",
        "\n",
        "    X_left, y_left, X_right, y_right = split_dataset(X, y, best_feature, best_threshold)\n",
        "\n",
        "    left_tree = build_decision_tree(X_left, y_left, depth+1, max_depth, min_samples_leaf)\n",
        "    right_tree = build_decision_tree(X_right, y_right, depth+1, max_depth, min_samples_leaf)\n",
        "\n",
        "    return {'feature': best_feature, 'threshold': best_threshold, 'left': left_tree, 'right': right_tree}\n",
        "\n",
        "decision_tree = build_decision_tree(X_train, y_train, max_depth=3, min_samples_leaf=3)\n",
        "\n",
        "def predict(tree, X):\n",
        "    if 'value' in tree:\n",
        "        return tree['value']\n",
        "    if X[tree['feature']] <= tree['threshold']:\n",
        "        return predict(tree['left'], X)\n",
        "    else:\n",
        "        return predict(tree['right'], X)\n",
        "\n",
        "y_pred_test = np.array([predict(decision_tree, X) for _, X in X_test.iterrows()])\n",
        "\n",
        "rmse_test = rmse_score(y_test, y_pred_test)\n",
        "mae_test = mae_score(y_test, y_pred_test)\n",
        "\n",
        "print(\"RMSE\", rmse_test)\n",
        "print(\"MAE\", mae_test)"
      ]
    },
    {
      "cell_type": "markdown",
      "metadata": {
        "id": "FOHzk5Iu9H5S"
      },
      "source": [
        "### Punto 2 - Bagging manual\n",
        "\n",
        "En la celda 2 creen un modelo bagging **manualmente** con 10 árboles de regresión y comenten sobre el desempeño del modelo."
      ]
    },
    {
      "cell_type": "code",
      "execution_count": null,
      "metadata": {
        "id": "Pvh-hxNV9H5S",
        "colab": {
          "base_uri": "https://localhost:8080/"
        },
        "outputId": "7f8814c8-149d-4ebb-eb11-642457fd19aa"
      },
      "outputs": [
        {
          "output_type": "stream",
          "name": "stdout",
          "text": [
            "RMSE: 1791.88906624985\n",
            "MAE: 1338.1446472217642\n"
          ]
        }
      ],
      "source": [
        "# Celda 2\n",
        "def bootstrap_samples(X, y):\n",
        "    n_samples = X.shape[0]\n",
        "    indices = np.random.choice(n_samples, size=n_samples, replace=True)\n",
        "    return X.iloc[indices], y.iloc[indices]\n",
        "\n",
        "n_trees = 10\n",
        "trees = []\n",
        "for _ in range(n_trees):\n",
        "    X_boot, y_boot = bootstrap_samples(X_train, y_train)\n",
        "    tree = DecisionTreeRegressor()\n",
        "    tree.fit(X_boot, y_boot)\n",
        "    trees.append(tree)\n",
        "\n",
        "y_pred_bagging = np.zeros_like(y_test, dtype=float)\n",
        "for tree in trees:\n",
        "    y_pred_tree = tree.predict(X_test)\n",
        "    y_pred_bagging += y_pred_tree\n",
        "y_pred_bagging /= n_trees\n",
        "\n",
        "rmse_bagging = rmse_score(y_test, y_pred_bagging)\n",
        "mae_bagging = mae_score(y_test, y_pred_bagging)\n",
        "\n",
        "print(\"RMSE:\", rmse_bagging)\n",
        "print(\"MAE:\", mae_bagging)"
      ]
    },
    {
      "cell_type": "markdown",
      "source": [
        "El desempeñó del modelo de bagging manual fue mejor que el desempeñó que el árbol de decisión mostrando un rmse y un mae inferior al modelo anterior, esto se debe a que los modelos de bagging consideran todas las variables predictoras vs el modelo random forrest lo que le permite desarrollar mejores opciones a la hora de crear un árbol de decisión."
      ],
      "metadata": {
        "id": "fH3fRir793m_"
      }
    },
    {
      "cell_type": "markdown",
      "metadata": {
        "id": "vQhmTL349H5S"
      },
      "source": [
        "### Punto 3 - Bagging con librería\n",
        "\n",
        "En la celda 3, con la librería sklearn, entrenen un modelo bagging con 10 árboles de regresión y el parámetro `max_features` igual a `log(n_features)` y comenten sobre el desempeño del modelo."
      ]
    },
    {
      "cell_type": "code",
      "execution_count": null,
      "metadata": {
        "id": "ljN7_X099H5T",
        "colab": {
          "base_uri": "https://localhost:8080/"
        },
        "outputId": "0bb1993e-8f6f-49c9-c1c2-8bac28c165dc"
      },
      "outputs": [
        {
          "output_type": "stream",
          "name": "stdout",
          "text": [
            "MSE:  7663764.018995856\n",
            "RMSE:  2768.3504147769763\n",
            "R2:  0.49897417785514286\n"
          ]
        }
      ],
      "source": [
        "# Celda 3\n",
        "\n",
        "# Número de características\n",
        "n_features = X_train.shape[1]\n",
        "max_features = int(log(n_features))\n",
        "\n",
        "# Decision Tree como estimador base\n",
        "dt_estimator = DecisionTreeRegressor(random_state=42)\n",
        "\n",
        "# Crea el modelo Bagging con 10 árboles de regresión y max_features=log(n_features)\n",
        "bagging_model = BaggingRegressor(base_estimator=dt_estimator, n_estimators=10, max_features=max_features, random_state=42)\n",
        "bagging_model.fit(X_train, y_train)\n",
        "\n",
        "# Predicciones sobre Test\n",
        "y_pred = bagging_model.predict(X_test)\n",
        "\n",
        "# Metricas del modelo\n",
        "mse = mean_squared_error(y_test, y_pred)\n",
        "rmse = np.sqrt(mse)\n",
        "R2 = r2_score(y_test, y_pred)\n",
        "\n",
        "print(\"MSE: \", mse)\n",
        "print(\"RMSE: \", rmse)\n",
        "print(\"R2: \", R2)"
      ]
    },
    {
      "cell_type": "markdown",
      "source": [
        "**Análisis Celda 3 - Bagging con Librería**\n",
        "\n",
        "El modelo de Bagging con DecisionTreeRegressor produjo un MSE de aproximadamente 7,663,764, un RMSE de alrededor de 2,768.35 y un R2 de 0.4989. El MSE y RMSE nos indican que el modelo tiene errores de predicción moderados. Aunque RMSE nos proporciona una idea clara de cuánto varían las predicciones del modelo de los valores reales, una cifra más baja sería preferible para lograr una mejor precisión en la predicción del precio de los automóviles.\n",
        "\n",
        "Por otro lado, el coeficiente de determinación (R2) de 0.4989 sugiere que el modelo puede explicar aproximadamente el 50% de la variabilidad en el precio de los automóviles, lo cual es un resultado moderado. Esto indica que, si bien el modelo está capturando algo de la variabilidad en los datos, todavía hay margen para mejorar su desempeño. COmo posibles áreas de mejora podrían incluir ajustes en los hiperparámetros, así como considerar la introducción de otros modelos de regresión más complejos, como Gradient Boosting o XGBoost, para obtener resultados más precisos."
      ],
      "metadata": {
        "id": "I_R2TKtLjdBz"
      }
    },
    {
      "cell_type": "markdown",
      "metadata": {
        "id": "cwP7zag79H5T"
      },
      "source": [
        "### Punto 4 - Random forest con librería\n",
        "\n",
        "En la celda 4, usando la librería sklearn entrenen un modelo de Randon Forest para regresión  y comenten sobre el desempeño del modelo."
      ]
    },
    {
      "cell_type": "code",
      "execution_count": null,
      "metadata": {
        "id": "cgup_ShJ9H5T",
        "colab": {
          "base_uri": "https://localhost:8080/"
        },
        "outputId": "67d0e854-af36-4a3d-889a-45830494fd6a"
      },
      "outputs": [
        {
          "output_type": "stream",
          "name": "stdout",
          "text": [
            "MSE:  3116678.915374798\n",
            "RMSE:  1547.9812489642388\n",
            "R2:  0.7962441677396794\n"
          ]
        }
      ],
      "source": [
        "# Celda 4\n",
        "\n",
        "# Crea el modelo RandomForestRegressor\n",
        "rf_model = RandomForestRegressor(random_state=42)\n",
        "rf_model.fit(X_train, y_train)\n",
        "\n",
        "# Predicciones sobre test\n",
        "y_pred = rf_model.predict(X_test)\n",
        "\n",
        "# Metricas del modelo\n",
        "mse_rf = mean_squared_error(y_test, y_pred)\n",
        "rmse = np.sqrt(mse)\n",
        "R2 = r2_score(y_test, y_pred)\n",
        "\n",
        "print(\"MSE: \", mse_rf)\n",
        "print(\"RMSE: \", rmse)\n",
        "print(\"R2: \", R2)"
      ]
    },
    {
      "cell_type": "markdown",
      "source": [
        "**Análisis Celda 4 - Random Forest con Libreria**\n",
        "\n",
        "El Random Forest para regresión muestra un rendimiento significativamente mejorado en comparación con el anterior modelo. Los valores de MSE y RMSE son bastante bajos, con 3,116,678.92 y 1,765.41 respectivamente, lo que indica que las predicciones del modelo están más cerca de los valores reales. Un RMSE más bajo significa que los errores de predicción son menores, lo que demuestra que el modelo tiene una precisión bastante buena al predecir el precio de los automóviles en el conjunto de prueba.\n",
        "\n",
        "El coeficiente de determinación, R², es de 0.7962, lo que sugiere que el modelo puede explicar aproximadamente el 80% de la variabilidad en los precios de los automóviles. Este es un ajuste mucho más fuerte en comparación con el modelo anterior, lo que indica que Random Forest es capaz de capturar patrones complejos en los datos. En general, el rendimiento del modelo es bueno, y podría mejorarse aún más con la optimización de los hiperparámetros para mejorar su precisión."
      ],
      "metadata": {
        "id": "uQtKGDObjkAt"
      }
    },
    {
      "cell_type": "markdown",
      "metadata": {
        "id": "AVcGTUq-9H5T"
      },
      "source": [
        "### Punto 5 - Calibración de parámetros Random forest\n",
        "\n",
        "En la celda 5, calibren los parámetros max_depth, max_features y n_estimators del modelo de Randon Forest para regresión, comenten sobre el desempeño del modelo y describan cómo cada parámetro afecta el desempeño del modelo."
      ]
    },
    {
      "cell_type": "code",
      "execution_count": null,
      "metadata": {
        "id": "gfE7xaJV9H5U",
        "colab": {
          "base_uri": "https://localhost:8080/",
          "height": 482
        },
        "outputId": "d2c54c39-0006-4c78-a3b0-19fff9f33b45"
      },
      "outputs": [
        {
          "output_type": "execute_result",
          "data": {
            "text/plain": [
              "Text(0, 0.5, 'MSE')"
            ]
          },
          "metadata": {},
          "execution_count": 21
        },
        {
          "output_type": "display_data",
          "data": {
            "text/plain": [
              "<Figure size 640x480 with 1 Axes>"
            ],
            "image/png": "[encoded data removed]"
          },
          "metadata": {}
        }
      ],
      "source": [
        "#1. Calibracion de n_estimators\n",
        "# Creación de lista de valores para iterar sobre diferentes valores de n_estimators\n",
        "estimator_range = range(10, 310, 10)\n",
        "\n",
        "# Definición de lista para almacenar el MSE promedio para cada valor de n_estimators\n",
        "mse_scores = []\n",
        "\n",
        "# Uso de un 5-fold cross-validation para cada valor de n_estimators\n",
        "for estimator in estimator_range:\n",
        "    rf_model = RandomForestRegressor(n_estimators=estimator, random_state=42, n_jobs=-1)\n",
        "    mse_scores.append(-(cross_val_score(rf_model, X, y, cv=5, scoring='neg_mean_squared_error').mean()))\n",
        "\n",
        "# Gráfica del desempeño del modelo vs la cantidad de n_estimators\n",
        "plt.plot(estimator_range, mse_scores)\n",
        "plt.xlabel('n_estimators')\n",
        "plt.ylabel('MSE')"
      ]
    },
    {
      "cell_type": "code",
      "source": [
        "#2. Calibracion de max_features\n",
        "# Creación de lista de valores para iterar sobre diferentes valores de max_features\n",
        "feature_range = range(1, X_train.shape[1]+1)\n",
        "\n",
        "# Definición de lista para almacenar el MSE promedio para cada valor de max_features\n",
        "mse_scores = []\n",
        "\n",
        "# Uso de un 5-fold cross-validation para cada valor de max_features\n",
        "for feature in feature_range:\n",
        "    rf_model = RandomForestRegressor(n_estimators=275, max_features=feature, random_state=42, n_jobs=-1)\n",
        "    mse_scores.append(-(cross_val_score(rf_model, X, y, cv=5, scoring='neg_mean_squared_error').mean()))\n",
        "\n",
        "# Gráfica del desempeño del modelo vs la cantidad de max_features\n",
        "plt.plot(feature_range, mse_scores)\n",
        "plt.xlabel('max_features')\n",
        "plt.ylabel('MSE')"
      ],
      "metadata": {
        "colab": {
          "base_uri": "https://localhost:8080/",
          "height": 482
        },
        "id": "5_JnmTzcjq0V",
        "outputId": "663afb5f-d8f5-49ef-c62a-0d7cc927d508"
      },
      "execution_count": null,
      "outputs": [
        {
          "output_type": "execute_result",
          "data": {
            "text/plain": [
              "Text(0, 0.5, 'MSE')"
            ]
          },
          "metadata": {},
          "execution_count": 22
        },
        {
          "output_type": "display_data",
          "data": {
            "text/plain": [
              "<Figure size 640x480 with 1 Axes>"
            ],
            "image/png": "[encoded data removed]"
          },
          "metadata": {}
        }
      ]
    },
    {
      "cell_type": "code",
      "source": [
        "# Definición del modelo con los parámetros max_features=9 y n_estimators=275\n",
        "rf_model = RandomForestRegressor(n_estimators=275, max_features=9, random_state=42, n_jobs=-1)\n",
        "rf_model.fit(X, y)\n",
        "\n",
        "# Predicciones sobre test\n",
        "y_pred = rf_model.predict(X_test)\n",
        "\n",
        "# Metricas del modelo\n",
        "mse_rf_calib = mean_squared_error(y_test, y_pred)\n",
        "rmse = np.sqrt(mse)\n",
        "R2 = r2_score(y_test, y_pred)\n",
        "\n",
        "print(\"MSE: \", mse_rf_calib)\n",
        "print(\"RMSE: \", rmse)\n",
        "print(\"R2: \", R2)"
      ],
      "metadata": {
        "colab": {
          "base_uri": "https://localhost:8080/"
        },
        "id": "46n5-IoRjsN-",
        "outputId": "7d2dc6cd-1bd6-4573-ba37-f9943ef68471"
      },
      "execution_count": null,
      "outputs": [
        {
          "output_type": "stream",
          "name": "stdout",
          "text": [
            "MSE:  445572.3746790863\n",
            "RMSE:  1547.9812489642388\n",
            "R2:  0.9708702845239908\n"
          ]
        }
      ]
    },
    {
      "cell_type": "markdown",
      "source": [
        "**Análisis Celda 5 - Calibración de Parámetros Random Forest**\n",
        "\n",
        "El Random Forest con los parámetros ajustados `n_estimators=275` y `max_features=9` ha mostrado un rendimiento alto. El modelo ha logrado un MSE de 445,572.37 y un RMSE de 667.51, lo que indica que las predicciones del modelo están muy cerca de los valores reales, con una precisión significativa. Además, un R2 de 0.97 sugiere que el modelo explica el 97% de la variabilidad de los precios de los automóviles en el conjunto de datos de prueba, lo que es un un buen resultado. Este alto rendimiento sugiere que el modelo está bien ajustado y es capaz de generalizar bien a datos nuevos.\n",
        "\n",
        "Los parámetros ajustados desempeñan un papel importante en la mejora del modelo. El parámetro `n_estimators=275` indica que el modelo utiliza 275 árboles de decisión, lo que mejora la robustez y estabilidad del modelo al promediar las predicciones de todos los árboles. Este número elevado de árboles puede ayudar a capturar patrones complejos en los datos, mejorando la precisión de las predicciones. Por otro lado, `max_features=9` especifica cuántas características se consideran al dividir cada nodo en los árboles, permitiendo una exploración adecuada del espacio de características y evitando el sobreajuste. Al ajustar estos parámetros, el modelo ha logrado un equilibrio entre precisión y generalización, logrando un rendimiento mejorado."
      ],
      "metadata": {
        "id": "e4yn5z27jvR2"
      }
    },
    {
      "cell_type": "markdown",
      "metadata": {
        "id": "Ey233drX9H5U"
      },
      "source": [
        "### Punto 6 - XGBoost con librería\n",
        "\n",
        "En la celda 6 implementen un modelo XGBoost de regresión con la librería sklearn y comenten sobre el desempeño del modelo."
      ]
    },
    {
      "cell_type": "code",
      "execution_count": null,
      "metadata": {
        "id": "shc1m2Aj9H5U",
        "colab": {
          "base_uri": "https://localhost:8080/"
        },
        "outputId": "7ab9952a-8aa9-4636-fb5f-20b3c6c45d8d"
      },
      "outputs": [
        {
          "output_type": "stream",
          "name": "stdout",
          "text": [
            "MSE:  2576781.074646859\n",
            "RMSE:  1547.9812489642388\n",
            "R2:  0.8315404997841507\n"
          ]
        }
      ],
      "source": [
        "# Celda 6\n",
        "xgb_model = XGBRegressor()\n",
        "\n",
        "# Creación del modelo con set de entrenamiento y predicciones sobre test\n",
        "xgb_model.fit(X_train, y_train)\n",
        "y_pred = xgb_model.predict(X_test)\n",
        "\n",
        "# Cálculo del desempeño del modelo\n",
        "mse_xgb = mean_squared_error(y_test, y_pred)\n",
        "rmse = np.sqrt(mse)\n",
        "R2 = r2_score(y_test, y_pred)\n",
        "\n",
        "print(\"MSE: \", mse_xgb)\n",
        "print(\"RMSE: \", rmse)\n",
        "print(\"R2: \", R2)"
      ]
    },
    {
      "cell_type": "markdown",
      "source": [
        "**Análisis Celda 6 - XGBoost con Libreria**\n",
        "\n",
        "El XGBoost para regresión muestra un rendimiento significativamente mejorado en comparación con el anterior modelo. Los valores de MSE y RMSE son bastante bajos, con 2,576,781.07 y 1,605.23 respectivamente, lo que indica que las predicciones del modelo están más cerca de los valores reales. Un RMSE más bajo significa que los errores de predicción son menores, lo que demuestra que el modelo tiene una precisión bastante buena al predecir el precio de los automóviles en el conjunto de prueba.\n",
        "\n",
        "El coeficiente de determinación, R², es de 0.8315, lo que sugiere que el modelo puede explicar aproximadamente el 83% de la variabilidad en los precios de los automóviles. Este es un ajuste mucho más fuerte en comparación con el modelo anterior, lo que indica que XGBoost es capaz de capturar patrones complejos en los datos. En general, el rendimiento del modelo es bueno, y podría mejorarse aún más con la optimización de los hiperparámetros para mejorar su precisión."
      ],
      "metadata": {
        "id": "fHWHe2ot2Nlf"
      }
    },
    {
      "cell_type": "markdown",
      "metadata": {
        "id": "gQRmBFbH9H5U"
      },
      "source": [
        "### Punto 7 - Calibración de parámetros XGBoost\n",
        "\n",
        "En la celda 7 calibren los parámetros learning rate, gamma y colsample_bytree del modelo XGBoost para regresión, comenten sobre el desempeño del modelo y describan cómo cada parámetro afecta el desempeño del modelo."
      ]
    },
    {
      "cell_type": "code",
      "execution_count": null,
      "metadata": {
        "id": "3UgQBjsm9H5U",
        "colab": {
          "base_uri": "https://localhost:8080/",
          "height": 482
        },
        "outputId": "d922e94c-cfe0-437c-e1f6-ef6775d1179b"
      },
      "outputs": [
        {
          "output_type": "stream",
          "name": "stdout",
          "text": [
            "El número óptimo para el learning rate de los arboles es de 0.05\n"
          ]
        },
        {
          "output_type": "display_data",
          "data": {
            "text/plain": [
              "<Figure size 640x480 with 1 Axes>"
            ],
            "image/png": "[encoded data removed]"
          },
          "metadata": {}
        }
      ],
      "source": [
        "# Celda 7\n",
        "#1. Calibracion del learning rate\n",
        "# Creación de lista de valores para iterar sobre diferentes valores del learning rate\n",
        "estimator_range = range(0, 20, 1)\n",
        "\n",
        "# Definición de lista para almacenar el MSE promedio para cada valor del learning rate\n",
        "mse_scores_lr = []\n",
        "\n",
        "# Uso de un 5-fold cross-validation para cada valor del learning rate\n",
        "for estimator in estimator_range:\n",
        "    lr_xgb_model = XGBRegressor(learning_rate = (estimator*0.05), random_state=123, n_jobs=-1)\n",
        "    mse_scores_lr.append(-(cross_val_score(lr_xgb_model, X, y, cv=5, scoring='neg_mean_squared_error').mean()))\n",
        "\n",
        "# Gráfica del desempeño del modelo vs la cantidad del learning rate\n",
        "plt.plot(estimator_range, mse_scores_lr)\n",
        "plt.xlabel('learning rate')\n",
        "plt.ylabel('MSE')\n",
        "\n",
        "lr_best = estimator_range[mse_scores_lr.index(min(mse_scores_lr))]\n",
        "print('El número óptimo para el learning rate de los arboles es de ' + str(lr_best*0.05))"
      ]
    },
    {
      "cell_type": "code",
      "source": [
        "#2. Calibracion del gamma\n",
        "# Creación de lista de valores para iterar sobre diferentes valores del gamma\n",
        "estimator_range = range(0, 100, 5)\n",
        "\n",
        "# Definición de lista para almacenar el MSE promedio para cada valor del gamma\n",
        "mse_scores_gamma = []\n",
        "\n",
        "# Uso de un 5-fold cross-validation para cada valor del gamma\n",
        "for estimator in estimator_range:\n",
        "    gamma_xgb = XGBRegressor(learning_rate = 0.05, random_state=123, gamma = estimator, n_jobs=-1)\n",
        "    mse_scores_gamma.append(-(cross_val_score(gamma_xgb, X, y, cv=5, scoring='neg_mean_squared_error').mean()))\n",
        "\n",
        "# Gráfica del desempeño del modelo vs la cantidad del gamma\n",
        "plt.plot(estimator_range, mse_scores_gamma)\n",
        "plt.xlabel('Gamma')\n",
        "plt.ylabel('MSE')\n",
        "\n",
        "gamma_best = estimator_range[mse_scores_gamma.index(min(mse_scores_gamma))]\n",
        "print('El número óptimo para el gamma es de ' + str(gamma_best))"
      ],
      "metadata": {
        "colab": {
          "base_uri": "https://localhost:8080/",
          "height": 482
        },
        "id": "_TG1X-Ml4f-d",
        "outputId": "c9ab0b18-e106-497b-aebe-4a7ec67d28fa"
      },
      "execution_count": null,
      "outputs": [
        {
          "output_type": "stream",
          "name": "stdout",
          "text": [
            "El número óptimo para el gamma es de 0\n"
          ]
        },
        {
          "output_type": "display_data",
          "data": {
            "text/plain": [
              "<Figure size 640x480 with 1 Axes>"
            ],
            "image/png": "[encoded data removed]"
          },
          "metadata": {}
        }
      ]
    },
    {
      "cell_type": "code",
      "source": [
        "#3. Calibracion del colsample_bytree\n",
        "# Creación de lista de valores para iterar sobre diferentes valores del colsample_bytree\n",
        "estimator_range = range(0, 20, 1)\n",
        "\n",
        "# Definición de lista para almacenar el MSE promedio para cada valor del colsample_bytree\n",
        "mse_scores_bytree = []\n",
        "\n",
        "# Uso de un 5-fold cross-validation para cada valor del colsample_bytree\n",
        "for estimator in estimator_range:\n",
        "    bytree_xgb = XGBRegressor(learning_rate = 0.05, random_state=123, gamma = 0, colsample_bytree = (estimator*0.05))\n",
        "    mse_scores_bytree.append(-(cross_val_score(bytree_xgb, X, y, cv=5, scoring='neg_mean_squared_error').mean()))\n",
        "\n",
        "# Gráfica del desempeño del modelo vs la cantidad del colsample_bytree\n",
        "plt.plot(estimator_range, mse_scores_bytree)\n",
        "plt.xlabel('Colsample_bytree')\n",
        "plt.ylabel('MSE')\n",
        "\n",
        "bytree_best = estimator_range[mse_scores_bytree.index(min(mse_scores_bytree))]\n",
        "print('El número óptimo para colsamplebytree es de ' + str(bytree_best*0.05))"
      ],
      "metadata": {
        "colab": {
          "base_uri": "https://localhost:8080/",
          "height": 482
        },
        "id": "L8RAKj1x5gDy",
        "outputId": "aee36adb-7890-493e-a84e-f4e33180cacb"
      },
      "execution_count": null,
      "outputs": [
        {
          "output_type": "stream",
          "name": "stdout",
          "text": [
            "El número óptimo para colsamplebytree es de 0.7000000000000001\n"
          ]
        },
        {
          "output_type": "display_data",
          "data": {
            "text/plain": [
              "<Figure size 640x480 with 1 Axes>"
            ],
            "image/png": "[encoded data removed]"
          },
          "metadata": {}
        }
      ]
    },
    {
      "cell_type": "code",
      "source": [
        "# Definición del modelo con los parámetros calibrados\n",
        "xgb_model_calib = XGBRegressor(learning_rate = 0.05, random_state=123, gamma = 0, colsample_bytree = 0.7)\n",
        "\n",
        "# Creación del modelo con set de entrenamiento y predicciones sobre test\n",
        "xgb_model_calib.fit(X_train, y_train)\n",
        "y_pred = xgb_model_calib.predict(X_test)\n",
        "\n",
        "# Cálculo del desempeño del modelo\n",
        "mse_xgb_calib = mean_squared_error(y_test, y_pred)\n",
        "rmse = np.sqrt(mse)\n",
        "R2 = r2_score(y_test, y_pred)\n",
        "\n",
        "print(\"MSE: \", mse_xgb_calib)\n",
        "print(\"RMSE: \", rmse)\n",
        "print(\"R2: \", R2)"
      ],
      "metadata": {
        "colab": {
          "base_uri": "https://localhost:8080/"
        },
        "id": "mkOAQctGA8VF",
        "outputId": "11d8331a-75a4-47ee-d23c-a2fcb68e336d"
      },
      "execution_count": null,
      "outputs": [
        {
          "output_type": "stream",
          "name": "stdout",
          "text": [
            "MSE:  2396245.9471448846\n",
            "RMSE:  1547.9812489642388\n",
            "R2:  0.843343154518626\n"
          ]
        }
      ]
    },
    {
      "cell_type": "markdown",
      "source": [
        "**Análisis Celda 7 - Calibración de Parámetros XGBoost**\n",
        "\n",
        "El XGBoost con los parámetros ajustados `learning rate = 0.05`, `gamma = 0` y `Colsample_bytre = 0.7` ha mostrado un rendimiento alto. El modelo ha logrado un MSE de 2,396,245.94 y un RMSE de 1,547.98, lo que indica que las predicciones del modelo están muy cerca de los valores reales, con una precisión significativa. Además, un R2 de 0.8433 sugiere que el modelo explica el 84% de la variabilidad de los precios de los automóviles en el conjunto de datos de prueba, lo que es un un buen resultado.\n",
        "\n",
        "Los parámetros ajustados desempeñan un papel importante en la mejora del modelo. El parámetro `learning rate = 0.05` indica que el modelo actualiza un 5% de los pesos en cada iteración, es importante calibrar el learning rate ya que este parámetro será el encargado de controlar la ponderación de los nuevos árboles agregados al modelo. Por otro lado, `gamma = 0` controla la complejidad del modelo y funciona regularizando utilizando información entre árboles, con este parametro de regularización se buscará penalizar los modelos altamente complejos y combatir el sobreajuste en el modelo de XGBoost. Finalmente, `Colsample_bytre = 0.7` define qué porcentaje de columnas se utilizarán para construir cada árbol. Al ajustar estos parámetros, el modelo ha logrado un rendimiento mejorado."
      ],
      "metadata": {
        "id": "EXIK5llO5e3-"
      }
    },
    {
      "cell_type": "markdown",
      "metadata": {
        "id": "0Ovs-sML9H5U"
      },
      "source": [
        "### Punto 8 - Comparación y análisis de resultados\n",
        "En la celda 8 comparen los resultados obtenidos de los diferentes modelos (random forest y XGBoost) y comenten las ventajas del mejor modelo y las desventajas del modelo con el menor desempeño."
      ]
    },
    {
      "cell_type": "code",
      "execution_count": null,
      "metadata": {
        "id": "z_0RmeRy9H5V",
        "colab": {
          "base_uri": "https://localhost:8080/",
          "height": 563
        },
        "outputId": "63b9df2f-f8b5-4051-9e4a-6b7b7483f68e"
      },
      "outputs": [
        {
          "output_type": "display_data",
          "data": {
            "text/plain": [
              "<Figure size 640x480 with 1 Axes>"
            ],
            "image/png": "[encoded data removed]"
          },
          "metadata": {}
        }
      ],
      "source": [
        "# Celda 8\n",
        "#Mediante un gráfico se pretenderá observar el comportamiento de los diferentes modelos\n",
        "fig = plt.figure()\n",
        "ax = fig.add_axes([0,0,1,1])\n",
        "ax.set_title(\"Comparación de modelos\")\n",
        "ejeX = ['RF','RFCalibrado','XGB','XGBCalibrado']\n",
        "ejeY = [round(mse_rf,4) ,round(mse_rf_calib,4),round(mse_xgb,4),round(mse_xgb_calib,4)]\n",
        "ax.bar(ejeX,ejeY)\n",
        "def addlabels(x,y,plotP):\n",
        "    for i in range(len(x)):\n",
        "        plotP.text(i,y[i],y[i])\n",
        "addlabels(ejeX,ejeY,plt)\n",
        "plt.show()"
      ]
    },
    {
      "cell_type": "markdown",
      "source": [
        "**Análisis Celda 8 - Comparación y Análisis de Resultados**\n",
        "\n",
        "Como se puede evidenciar en el gráfico, los modelos presentan diferentes niveles de MSE, siendo el modelo Random Forest Calibrado con parametros optimizados el que cuenta con un mejor desempeño ya que tiene un MSE de 445,572.3747 seguido del modelo de XGBoost Calibrado (2,396,245.9471). Este resultado tiene sentido era el esperado y está de acuerdo con la teoría y práctica donde el modelo de XGBoost es uno de los mas utilizados pur su eficiencia y rendimiento ya que cuenta con mejoras algortimicas como los on la regularización (Parametros que se clabriraron para obtener le XGBoost con parametros optimizados)."
      ],
      "metadata": {
        "id": "4R5rrUG5Q6da"
      }
    }
  ],
  "metadata": {
    "kernelspec": {
      "display_name": "Python 3 (ipykernel)",
      "language": "python",
      "name": "python3"
    },
    "language_info": {
      "codemirror_mode": {
        "name": "ipython",
        "version": 3
      },
      "file_extension": ".py",
      "mimetype": "text/x-python",
      "name": "python",
      "nbconvert_exporter": "python",
      "pygments_lexer": "ipython3",
      "version": "3.9.12"
    },
    "colab": {
      "provenance": []
    }
  },
  "nbformat": 4,
  "nbformat_minor": 0
}