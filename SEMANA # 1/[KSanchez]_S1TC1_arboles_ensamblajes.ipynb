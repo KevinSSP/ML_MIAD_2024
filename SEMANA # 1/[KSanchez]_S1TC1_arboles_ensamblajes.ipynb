{
  "cells": [
    {
      "cell_type": "markdown",
      "metadata": {
        "id": "WuAIwnE8TvVn"
      },
      "source": [
        "![image info](https://raw.githubusercontent.com/albahnsen/MIAD_ML_and_NLP/main/images/banner_1.png)"
      ]
    },
    {
      "cell_type": "markdown",
      "metadata": {
        "id": "mmxpoX-MTvVt"
      },
      "source": [
        "# Taller: Construcción e implementación de árboles de decisión y métodos de ensamblaje\n",
        "\n",
        "En este taller podrá poner en práctica los sus conocimientos sobre construcción e implementación de árboles de decisión y métodos de ensamblajes. El taller está constituido por 9 puntos, 5 relacionados con árboles de decisión (parte A) y 4 con métodos de ensamblaje (parte B)."
      ]
    },
    {
      "cell_type": "markdown",
      "metadata": {
        "id": "LfjFKoYDTvVu"
      },
      "source": [
        "## Parte A - Árboles de decisión\n",
        "\n",
        "En esta parte del taller se usará el conjunto de datos de Capital Bikeshare de Kaggle, donde cada observación representa el alquiler de bicicletas durante una hora y día determinado. Para más detalles puede visitar los siguientes enlaces: [datos](https://archive.ics.uci.edu/ml/machine-learning-databases/00275/Bike-Sharing-Dataset.zip), [dicccionario de datos](https://archive.ics.uci.edu/ml/datasets/Bike+Sharing+Dataset#)."
      ]
    },
    {
      "cell_type": "markdown",
      "metadata": {
        "id": "J-eHE9yRTvVv"
      },
      "source": [
        "### Datos prestamo de bicicletas"
      ]
    },
    {
      "cell_type": "code",
      "execution_count": 154,
      "metadata": {
        "id": "6_aijWv1TvVv"
      },
      "outputs": [],
      "source": [
        "import warnings\n",
        "warnings.filterwarnings('ignore')"
      ]
    },
    {
      "cell_type": "code",
      "execution_count": 155,
      "metadata": {
        "id": "DV6gFoz7TvVx"
      },
      "outputs": [],
      "source": [
        "# Importación de librerías\n",
        "%matplotlib inline\n",
        "import pandas as pd\n",
        "import numpy as np\n",
        "from sklearn.model_selection import cross_val_score\n",
        "from sklearn.linear_model import LinearRegression\n",
        "from sklearn.tree import DecisionTreeRegressor, export_graphviz\n",
        "import matplotlib.pyplot as plt\n",
        "from sklearn.model_selection import GridSearchCV, train_test_split\n",
        "from sklearn.metrics import mean_squared_error\n",
        "from sklearn.tree import DecisionTreeClassifier\n",
        "from sklearn.linear_model import LogisticRegression\n",
        "from sklearn.metrics import accuracy_score, f1_score\n",
        "from sklearn.ensemble import VotingClassifier\n",
        "from sklearn import metrics\n"
      ]
    },
    {
      "cell_type": "code",
      "execution_count": 156,
      "metadata": {
        "colab": {
          "base_uri": "https://localhost:8080/"
        },
        "id": "lcAnYaODTvVx",
        "outputId": "aba7066f-ad48-4f7d-ed6d-fbfcd51bf154"
      },
      "outputs": [
        {
          "output_type": "stream",
          "name": "stdout",
          "text": [
            "                     season  holiday  workingday  weather  temp   atemp  \\\n",
            "datetime                                                                  \n",
            "2011-01-01 00:00:00       1        0           0        1  9.84  14.395   \n",
            "2011-01-01 01:00:00       1        0           0        1  9.02  13.635   \n",
            "2011-01-01 02:00:00       1        0           0        1  9.02  13.635   \n",
            "2011-01-01 03:00:00       1        0           0        1  9.84  14.395   \n",
            "2011-01-01 04:00:00       1        0           0        1  9.84  14.395   \n",
            "\n",
            "                     humidity  windspeed  casual  registered  total  hour  \n",
            "datetime                                                                   \n",
            "2011-01-01 00:00:00        81        0.0       3          13     16     0  \n",
            "2011-01-01 01:00:00        80        0.0       8          32     40     1  \n",
            "2011-01-01 02:00:00        80        0.0       5          27     32     2  \n",
            "2011-01-01 03:00:00        75        0.0       3          10     13     3  \n",
            "2011-01-01 04:00:00        75        0.0       0           1      1     4  \n"
          ]
        }
      ],
      "source": [
        "# Lectura de la información de archivo .csv\n",
        "bikes = pd.read_csv('https://raw.githubusercontent.com/davidzarruk/MIAD_ML_NLP_2023/main/datasets/bikeshare.csv', index_col='datetime', parse_dates=True)\n",
        "\n",
        "# Renombrar variable \"count\" a \"total\"\n",
        "bikes.rename(columns={'count':'total'}, inplace=True)\n",
        "\n",
        "# Crear la hora como una variable\n",
        "bikes['hour'] = bikes.index.hour\n",
        "\n",
        "# Visualización de los datos\n",
        "print(bikes.head())"
      ]
    },
    {
      "cell_type": "code",
      "source": [
        "print(bikes.info())"
      ],
      "metadata": {
        "colab": {
          "base_uri": "https://localhost:8080/"
        },
        "id": "q20KBLsN4Kq9",
        "outputId": "3df3c72c-f439-4da1-e462-146efbed153c"
      },
      "execution_count": 37,
      "outputs": [
        {
          "output_type": "stream",
          "name": "stdout",
          "text": [
            "<class 'pandas.core.frame.DataFrame'>\n",
            "DatetimeIndex: 10886 entries, 2011-01-01 00:00:00 to 2012-12-19 23:00:00\n",
            "Data columns (total 12 columns):\n",
            " #   Column      Non-Null Count  Dtype  \n",
            "---  ------      --------------  -----  \n",
            " 0   season      10886 non-null  int64  \n",
            " 1   holiday     10886 non-null  int64  \n",
            " 2   workingday  10886 non-null  int64  \n",
            " 3   weather     10886 non-null  int64  \n",
            " 4   temp        10886 non-null  float64\n",
            " 5   atemp       10886 non-null  float64\n",
            " 6   humidity    10886 non-null  int64  \n",
            " 7   windspeed   10886 non-null  float64\n",
            " 8   casual      10886 non-null  int64  \n",
            " 9   registered  10886 non-null  int64  \n",
            " 10  total       10886 non-null  int64  \n",
            " 11  hour        10886 non-null  int32  \n",
            "dtypes: float64(3), int32(1), int64(8)\n",
            "memory usage: 1.0 MB\n",
            "None\n"
          ]
        }
      ]
    },
    {
      "cell_type": "markdown",
      "metadata": {
        "id": "GYKyn4PATvVy"
      },
      "source": [
        "### Punto 1 - Análisis descriptivo\n",
        "\n",
        "Ejecute las celdas 1.1 y 1.2. A partir de los resultados realice un análisis descriptivo sobre las variables \"season\" y \"hour\", escriba sus inferencias sobre los datos. Para complementar su análisis puede usar métricas como máximo, mínimo, percentiles entre otros."
      ]
    },
    {
      "cell_type": "code",
      "execution_count": 157,
      "metadata": {
        "colab": {
          "base_uri": "https://localhost:8080/"
        },
        "id": "VJSoETTZTvVy",
        "outputId": "2e30a275-6c8e-450b-f48e-a25762d2f98e"
      },
      "outputs": [
        {
          "output_type": "execute_result",
          "data": {
            "text/plain": [
              "season\n",
              "1    116.343261\n",
              "2    215.251372\n",
              "3    234.417124\n",
              "4    198.988296\n",
              "Name: total, dtype: float64"
            ]
          },
          "metadata": {},
          "execution_count": 157
        }
      ],
      "source": [
        "# Celda 1.1\n",
        "bikes.groupby('season').total.mean()"
      ]
    },
    {
      "cell_type": "markdown",
      "source": [
        "Basándonos en los datos proporcionados, se observa una clara variación en la demanda de alquiler de bicicletas según la estación del año. El análisis revela que el verano muestra la mayor demanda promedio, con alrededor de 234 alquileres, seguido de cerca por el primavera, con aproximadamente 215 alquileres en promedio. Estas estaciones, caracterizadas por temperaturas moderadas y condiciones climáticas más estables, parecen favorecer la actividad de ciclismo al aire libre. Por otro lado, la invierno exhibe la menor demanda, con alrededor de 116 alquileres en promedio, quizás debido al clima frío y lluvias.\n",
        "\n",
        "Este patrón de demanda estacional puede ser crucial para la planificación y gestión de servicios de alquiler de bicicletas. Por ejemplo, las empresas podrían ajustar sus operaciones y ofertas promocionales para aprovechar al máximo los períodos de alta demanda en primavera y verano, mientras que podrían considerar estrategias alternativas, como campañas de marketing específicas o descuentos, para estimular la demanda durante los períodos más tranquilos de otoño e invierno. Además, comprender estos patrones estacionales también puede ayudar en la gestión de inventario y en la asignación de recursos, asegurando que haya suficientes bicicletas disponibles durante los picos de demanda y optimizando la eficiencia operativa durante los períodos más tranquilos."
      ],
      "metadata": {
        "id": "OJaCN_lRVY0g"
      }
    },
    {
      "cell_type": "code",
      "execution_count": 158,
      "metadata": {
        "scrolled": true,
        "colab": {
          "base_uri": "https://localhost:8080/"
        },
        "id": "fOUj2SAuTvVz",
        "outputId": "40a1b537-5998-460f-acd4-9f34af6d22cd"
      },
      "outputs": [
        {
          "output_type": "execute_result",
          "data": {
            "text/plain": [
              "hour\n",
              "0      55.138462\n",
              "1      33.859031\n",
              "2      22.899554\n",
              "3      11.757506\n",
              "4       6.407240\n",
              "5      19.767699\n",
              "6      76.259341\n",
              "7     213.116484\n",
              "8     362.769231\n",
              "9     221.780220\n",
              "10    175.092308\n",
              "11    210.674725\n",
              "12    256.508772\n",
              "13    257.787281\n",
              "14    243.442982\n",
              "15    254.298246\n",
              "16    316.372807\n",
              "17    468.765351\n",
              "18    430.859649\n",
              "19    315.278509\n",
              "20    228.517544\n",
              "21    173.370614\n",
              "22    133.576754\n",
              "23     89.508772\n",
              "Name: total, dtype: float64"
            ]
          },
          "metadata": {},
          "execution_count": 158
        }
      ],
      "source": [
        "# Celda 1.2\n",
        "bikes.groupby('hour').total.mean()"
      ]
    },
    {
      "cell_type": "markdown",
      "source": [
        "Basándonos en los datos proporcionados, se observa una clara variación en la demanda de alquiler de bicicletas según la hora del día. El análisis revela que las horas con mayor demanda promedio son las comprendidas entre las 17:00 y las 18:00 horas, con aproximadamente 469 y 431 alquileres en promedio respectivamente. Estas horas coinciden típicamente con el final de la jornada laboral, donde las personas podrían optar por utilizar bicicletas como medio de transporte para regresar a casa. Además, las horas comprendidas entre las 7:00 y las 9:00 horas también muestran una demanda significativa, con alrededor de 213 a 363 alquileres en promedio, correspondiendo al inicio de la jornada laboral y el desplazamiento hacia el trabajo.\n",
        "\n",
        "Este patrón de demanda horaria puede ser útil para la planificación y gestión de servicios de alquiler de bicicletas. Por ejemplo, las empresas podrían ajustar sus operaciones, como el número de bicicletas disponibles y las tarifas, para satisfacer la demanda durante los picos de uso observados en las horas punta de la mañana y la tarde. Además, podrían implementar estrategias de marketing o promociones especiales para fomentar el uso de bicicletas durante las horas de menor demanda, como durante la noche o las primeras horas de la mañana."
      ],
      "metadata": {
        "id": "o5C2I1_WWYNn"
      }
    },
    {
      "cell_type": "markdown",
      "metadata": {
        "id": "0aQFOTbmTvVz"
      },
      "source": [
        "### Punto 2 - Análisis de gráficos\n",
        "\n",
        "Primero ejecute la celda 2.1 y asegúrese de comprender el código y el resultado. Luego, en cada una de celdas 2.2 y 2.3 escriba un código que genere una gráfica del número de bicicletas rentadas promedio para cada valor de la variable \"hour\" (hora) cuando la variable \"season\" es igual a 1 (invierno) e igual a 3 (verano), respectivamente. Analice y escriba sus hallazgos."
      ]
    },
    {
      "cell_type": "code",
      "execution_count": 159,
      "metadata": {
        "colab": {
          "base_uri": "https://localhost:8080/",
          "height": 466
        },
        "id": "-rPdXKuxTvV0",
        "outputId": "749d5977-b302-4d69-c21d-1c77eba2495f"
      },
      "outputs": [
        {
          "output_type": "execute_result",
          "data": {
            "text/plain": [
              "<Axes: xlabel='hour'>"
            ]
          },
          "metadata": {},
          "execution_count": 159
        },
        {
          "output_type": "display_data",
          "data": {
            "text/plain": [
              "<Figure size 640x480 with 1 Axes>"
            ],
            "image/png": "[encoded data removed]"
          },
          "metadata": {}
        }
      ],
      "source": [
        "# Celda 2.1 - rentas promedio para cada valor de la variable \"hour\"\n",
        "bikes.groupby('hour').total.mean().plot()"
      ]
    },
    {
      "cell_type": "markdown",
      "source": [
        "De acuerdo a la grafica vemos que hay mayor cantidad de alquiler de bicicletas en horas de la mañana se podria decir que horas de entrada de oficina y en horarios de la tarde de finalizacion de jornada laboral. Esto refleja que las personas utilizan la bicicleta como medio de transporte para movilizarse hacia el trabajo y despues del trabajo."
      ],
      "metadata": {
        "id": "KUFGEqSOXuXy"
      }
    },
    {
      "cell_type": "code",
      "execution_count": 160,
      "metadata": {
        "colab": {
          "base_uri": "https://localhost:8080/",
          "height": 565
        },
        "id": "jO4auPY5TvV0",
        "outputId": "e292b1b6-e365-407d-8160-c2e7e9c15370"
      },
      "outputs": [
        {
          "output_type": "display_data",
          "data": {
            "text/plain": [
              "<Figure size 1000x600 with 1 Axes>"
            ],
            "image/png": "[encoded data removed]"
          },
          "metadata": {}
        }
      ],
      "source": [
        "# Celda 2.2 - \"season\"=1 escriba su código y hallazgos\n",
        "\n",
        "# Filtrar el DataFrame por la temporada de invierno (season=1)\n",
        "bikes_invierno = bikes[bikes['season'] == 1]\n",
        "\n",
        "# Agrupar por hora y calcular la media del total de alquileres\n",
        "promedio_por_hora = bikes_invierno.groupby('hour')['total'].mean()\n",
        "\n",
        "# Crear la gráfica\n",
        "plt.figure(figsize=(10, 6))\n",
        "plt.plot(promedio_por_hora, marker='o', linestyle='-')\n",
        "plt.title('Número Promedio de Bicicletas Alquiladas por Hora (Invierno)')\n",
        "plt.xlabel('Hora del día')\n",
        "plt.ylabel('Número Promedio de Bicicletas Alquiladas')\n",
        "plt.xticks(promedio_por_hora.index)\n",
        "plt.grid(True)\n",
        "plt.show()\n"
      ]
    },
    {
      "cell_type": "markdown",
      "source": [
        "Se siguen manteniendo los picos de alquiler de bicicletas en horas de la mañana y en horas de la tarde pero se ve una reduccion considerable en el promedio de alquiler de bicicletas durante la temporada de invierno."
      ],
      "metadata": {
        "id": "fKwC6GE8YQzU"
      }
    },
    {
      "cell_type": "code",
      "execution_count": 161,
      "metadata": {
        "colab": {
          "base_uri": "https://localhost:8080/",
          "height": 565
        },
        "id": "iC1Y6CG4TvV0",
        "outputId": "03299d3a-46c6-4ffb-d536-569292ca86e1"
      },
      "outputs": [
        {
          "output_type": "display_data",
          "data": {
            "text/plain": [
              "<Figure size 1000x600 with 1 Axes>"
            ],
            "image/png": "[encoded data removed]"
          },
          "metadata": {}
        }
      ],
      "source": [
        "# Celda 2.3 - \"season\"=3 escriba su código y hallazgos\n",
        "\n",
        "bikes_verano = bikes[bikes['season'] == 3]\n",
        "\n",
        "# Agrupar por hora y calcular la media del total de alquileres\n",
        "promedio_por_hora = bikes_verano.groupby('hour')['total'].mean()\n",
        "\n",
        "# Crear la gráfica\n",
        "plt.figure(figsize=(10, 6))\n",
        "plt.plot(promedio_por_hora, marker='o', linestyle='-')\n",
        "plt.title('Número Promedio de Bicicletas Alquiladas por Hora (Verano)')\n",
        "plt.xlabel('Hora del día')\n",
        "plt.ylabel('Número Promedio de Bicicletas Alquiladas')\n",
        "plt.xticks(promedio_por_hora.index)\n",
        "plt.grid(True)\n",
        "plt.show()"
      ]
    },
    {
      "cell_type": "markdown",
      "source": [
        "Se siguen manteniendo los picos de alquiler de bicicletas en horas de la mañana y en horas de la tarde pero se ve un incremento considerable en el promedio de alquiler de bicicletas durante la temporada de verano."
      ],
      "metadata": {
        "id": "dMC5Lg5iY28W"
      }
    },
    {
      "cell_type": "markdown",
      "metadata": {
        "id": "bPH0zjO1TvV1"
      },
      "source": [
        "### Punto 3 - Regresión lineal\n",
        "En la celda 3 ajuste un modelo de regresión lineal a todo el conjunto de datos, utilizando \"total\" como variable de respuesta y \"season\" y \"hour\" como las únicas variables predictoras, teniendo en cuenta que la variable \"season\" es categórica. Luego, imprima los coeficientes e interprételos. ¿Cuáles son las limitaciones de la regresión lineal en este caso?"
      ]
    },
    {
      "cell_type": "code",
      "execution_count": 162,
      "metadata": {
        "colab": {
          "base_uri": "https://localhost:8080/",
          "height": 74
        },
        "id": "gELf_pBvTvV1",
        "outputId": "5487ad21-0f90-4b6a-f2c3-3b945ba205b5"
      },
      "outputs": [
        {
          "output_type": "execute_result",
          "data": {
            "text/plain": [
              "LinearRegression()"
            ],
            "text/html": [
              "<style>#sk-container-id-8 {color: black;background-color: white;}#sk-container-id-8 pre{padding: 0;}#sk-container-id-8 div.sk-toggleable {background-color: white;}#sk-container-id-8 label.sk-toggleable__label {cursor: pointer;display: block;width: 100%;margin-bottom: 0;padding: 0.3em;box-sizing: border-box;text-align: center;}#sk-container-id-8 label.sk-toggleable__label-arrow:before {content: \"▸\";float: left;margin-right: 0.25em;color: #696969;}#sk-container-id-8 label.sk-toggleable__label-arrow:hover:before {color: black;}#sk-container-id-8 div.sk-estimator:hover label.sk-toggleable__label-arrow:before {color: black;}#sk-container-id-8 div.sk-toggleable__content {max-height: 0;max-width: 0;overflow: hidden;text-align: left;background-color: #f0f8ff;}#sk-container-id-8 div.sk-toggleable__content pre {margin: 0.2em;color: black;border-radius: 0.25em;background-color: #f0f8ff;}#sk-container-id-8 input.sk-toggleable__control:checked~div.sk-toggleable__content {max-height: 200px;max-width: 100%;overflow: auto;}#sk-container-id-8 input.sk-toggleable__control:checked~label.sk-toggleable__label-arrow:before {content: \"▾\";}#sk-container-id-8 div.sk-estimator input.sk-toggleable__control:checked~label.sk-toggleable__label {background-color: #d4ebff;}#sk-container-id-8 div.sk-label input.sk-toggleable__control:checked~label.sk-toggleable__label {background-color: #d4ebff;}#sk-container-id-8 input.sk-hidden--visually {border: 0;clip: rect(1px 1px 1px 1px);clip: rect(1px, 1px, 1px, 1px);height: 1px;margin: -1px;overflow: hidden;padding: 0;position: absolute;width: 1px;}#sk-container-id-8 div.sk-estimator {font-family: monospace;background-color: #f0f8ff;border: 1px dotted black;border-radius: 0.25em;box-sizing: border-box;margin-bottom: 0.5em;}#sk-container-id-8 div.sk-estimator:hover {background-color: #d4ebff;}#sk-container-id-8 div.sk-parallel-item::after {content: \"\";width: 100%;border-bottom: 1px solid gray;flex-grow: 1;}#sk-container-id-8 div.sk-label:hover label.sk-toggleable__label {background-color: #d4ebff;}#sk-container-id-8 div.sk-serial::before {content: \"\";position: absolute;border-left: 1px solid gray;box-sizing: border-box;top: 0;bottom: 0;left: 50%;z-index: 0;}#sk-container-id-8 div.sk-serial {display: flex;flex-direction: column;align-items: center;background-color: white;padding-right: 0.2em;padding-left: 0.2em;position: relative;}#sk-container-id-8 div.sk-item {position: relative;z-index: 1;}#sk-container-id-8 div.sk-parallel {display: flex;align-items: stretch;justify-content: center;background-color: white;position: relative;}#sk-container-id-8 div.sk-item::before, #sk-container-id-8 div.sk-parallel-item::before {content: \"\";position: absolute;border-left: 1px solid gray;box-sizing: border-box;top: 0;bottom: 0;left: 50%;z-index: -1;}#sk-container-id-8 div.sk-parallel-item {display: flex;flex-direction: column;z-index: 1;position: relative;background-color: white;}#sk-container-id-8 div.sk-parallel-item:first-child::after {align-self: flex-end;width: 50%;}#sk-container-id-8 div.sk-parallel-item:last-child::after {align-self: flex-start;width: 50%;}#sk-container-id-8 div.sk-parallel-item:only-child::after {width: 0;}#sk-container-id-8 div.sk-dashed-wrapped {border: 1px dashed gray;margin: 0 0.4em 0.5em 0.4em;box-sizing: border-box;padding-bottom: 0.4em;background-color: white;}#sk-container-id-8 div.sk-label label {font-family: monospace;font-weight: bold;display: inline-block;line-height: 1.2em;}#sk-container-id-8 div.sk-label-container {text-align: center;}#sk-container-id-8 div.sk-container {/* jupyter's `normalize.less` sets `[hidden] { display: none; }` but bootstrap.min.css set `[hidden] { display: none !important; }` so we also need the `!important` here to be able to override the default hidden behavior on the sphinx rendered scikit-learn.org. See: https://github.com/scikit-learn/scikit-learn/issues/21755 */display: inline-block !important;position: relative;}#sk-container-id-8 div.sk-text-repr-fallback {display: none;}</style><div id=\"sk-container-id-8\" class=\"sk-top-container\"><div class=\"sk-text-repr-fallback\"><pre>LinearRegression()</pre><b>In a Jupyter environment, please rerun this cell to show the HTML representation or trust the notebook. <br />On GitHub, the HTML representation is unable to render, please try loading this page with nbviewer.org.</b></div><div class=\"sk-container\" hidden><div class=\"sk-item\"><div class=\"sk-estimator sk-toggleable\"><input class=\"sk-toggleable__control sk-hidden--visually\" id=\"sk-estimator-id-8\" type=\"checkbox\" checked><label for=\"sk-estimator-id-8\" class=\"sk-toggleable__label sk-toggleable__label-arrow\">LinearRegression</label><div class=\"sk-toggleable__content\"><pre>LinearRegression()</pre></div></div></div></div></div>"
            ]
          },
          "metadata": {},
          "execution_count": 162
        }
      ],
      "source": [
        "\n",
        "# Dividir el conjunto de datos en conjuntos de entrenamiento y prueba\n",
        "X = bikes[['season', 'hour']]\n",
        "y = bikes['total']\n",
        "XTrain, XTest, YTrain, YTest = train_test_split(X, y, test_size=0.2, random_state=0)\n",
        "\n",
        "# Convertir la variable categórica \"season\" en variables dummy\n",
        "XTrain = pd.get_dummies(XTrain, columns=['season'], drop_first=True)\n",
        "XTest = pd.get_dummies(XTest, columns=['season'], drop_first=True)\n",
        "\n",
        "# Entrenar el modelo de regresión lineal\n",
        "model = LinearRegression()\n",
        "model.fit(XTrain, YTrain)"
      ]
    },
    {
      "cell_type": "code",
      "source": [
        "# Imprimir los coeficientes\n",
        "print(\"Coeficientes del modelo:\")\n",
        "for feature, coef in zip(XTrain.columns, model.coef_):\n",
        "    print(f\"{feature}: {coef}\")\n",
        "\n",
        "# Predicciones en el conjunto de prueba\n",
        "y_pred = model.predict(XTest)\n",
        "\n",
        "# Calcular el Error Cuadrático Medio (MSE)\n",
        "mse = mean_squared_error(YTest, y_pred)\n",
        "print(\"MSE: \" + str(mse))"
      ],
      "metadata": {
        "colab": {
          "base_uri": "https://localhost:8080/"
        },
        "id": "R_moUpR0aci9",
        "outputId": "741193da-b715-440c-e050-33bdf2d1ca10"
      },
      "execution_count": 163,
      "outputs": [
        {
          "output_type": "stream",
          "name": "stdout",
          "text": [
            "Coeficientes del modelo:\n",
            "hour: 10.53927097567384\n",
            "season_2: 99.24935554363347\n",
            "season_3: 118.6136446555492\n",
            "season_4: 86.3478783438267\n",
            "MSE: 25931.648964912973\n"
          ]
        }
      ]
    },
    {
      "cell_type": "markdown",
      "source": [
        "Al observar los coeficientes del modelo de regresión lineal, puedo inferir que la hora del día y la temporada tienen un impacto significativo en el número total de alquileres de bicicletas en el sistema Capital Bikeshare.\n",
        "\n",
        "Por ejemplo, el coeficiente para la hora es positivo (10.53), lo que sugiere que, en promedio, cada hora adicional resulta en un aumento de aproximadamente 10 alquileres de bicicletas. Este hallazgo tiene sentido, ya que es probable que más personas alquilen bicicletas durante las horas pico de la mañana y la tarde.\n",
        "\n",
        "Además, los coeficientes para las diferentes estaciones también son notables. Por ejemplo, el coeficiente para la temporada de verano (99.24) indica que, en promedio, hay alrededor de 99 alquileres de bicicletas más durante el verano en comparación con la primavera. Este patrón puede explicarse por la preferencia de las personas por actividades al aire libre durante los meses más cálidos.\n",
        "\n",
        "Se podria afirmar que la hora del día y la temporada son factores cruciales para predecir la demanda de alquiler de bicicletas.\n",
        "\n",
        "La regresión lineal,presenta limitaciones al predecir la demanda de alquiler de bicicletas. Las suposiciones de linealidad pueden ser insuficientes para capturar relaciones complejas entre la hora del día, la temporada y la demanda de bicicletas."
      ],
      "metadata": {
        "id": "XfnPDuis5jlS"
      }
    },
    {
      "cell_type": "markdown",
      "metadata": {
        "id": "t8AieChWTvV1"
      },
      "source": [
        "### Punto 4 - Árbol de decisión manual\n",
        "En la celda 4 cree un árbol de decisiones para pronosticar la variable \"total\" iterando **manualmente** sobre las variables \"hour\" y  \"season\". El árbol debe tener al menos 6 nodos finales."
      ]
    },
    {
      "cell_type": "code",
      "execution_count": 164,
      "metadata": {
        "colab": {
          "base_uri": "https://localhost:8080/"
        },
        "id": "4N9bXlnBTvV2",
        "outputId": "c6048f58-bbcb-488c-c455-a162a07db35a"
      },
      "outputs": [
        {
          "output_type": "stream",
          "name": "stdout",
          "text": [
            "MSE del mejor modelo: 9.443877551020407\n"
          ]
        }
      ],
      "source": [
        "# Celda 4\n",
        "\n",
        "# Dividir el conjunto de datos en conjuntos de entrenamiento y prueba\n",
        "X = bikes[['season', 'hour']]\n",
        "y = bikes['total']\n",
        "XTrain, XTest, YTrain, YTest = train_test_split(X, y, test_size=0.2, random_state=0)\n",
        "\n",
        "# Crear listas para almacenar los modelos y mse\n",
        "modelos = []\n",
        "mse_scores = []\n",
        "\n",
        "# Iterar sobre las variables \"hour\" y \"season\"\n",
        "for hour in range(24):\n",
        "    for season in range(1, 5):\n",
        "        # Filtrar el conjunto de datos para la hora y la temporada actual\n",
        "        XTrain_filtered = XTrain[(XTrain['hour'] == hour) & (XTrain['season'] == season)]\n",
        "        YTrain_filtered = YTrain[XTrain_filtered.index]\n",
        "\n",
        "        # Crear y entrenar el modelo de árbol de decisiones con 6 nodos\n",
        "        model = DecisionTreeRegressor(max_leaf_nodes=6)\n",
        "        model.fit(XTrain_filtered, YTrain_filtered)\n",
        "\n",
        "        # Calcular el error cuadrático medio en el conjunto de entrenamiento\n",
        "        YTrain_pred = model.predict(XTrain_filtered)\n",
        "        mse_train = mean_squared_error(YTrain_filtered, YTrain_pred)\n",
        "\n",
        "        modelos.append(model)\n",
        "        mse_scores.append(mse_train)\n",
        "\n",
        "# Encontrar el índice del modelo de mejor modelo (error mas bajo)\n",
        "best_model_idx = np.argmin(mse_scores)\n",
        "\n",
        "# Obtener el mejor modelo y su error\n",
        "best_model = modelos[best_model_idx]\n",
        "best_mse = mse_scores[best_model_idx]\n",
        "\n",
        "print(\"MSE del mejor modelo: \" + str(best_mse))\n"
      ]
    },
    {
      "cell_type": "markdown",
      "metadata": {
        "id": "zBIKeh_7TvV2"
      },
      "source": [
        "### Punto 5 - Árbol de decisión con librería\n",
        "En la celda 5 entrene un árbol de decisiones con la **librería sklearn**, usando las variables predictoras \"season\" y \"hour\" y calibre los parámetros que considere conveniente para obtener un mejor desempeño. Recuerde dividir los datos en conjuntos de entrenamiento y validación para esto. Comente el desempeño del modelo con alguna métrica de desempeño de modelos de regresión y compare desempeño con el modelo del punto 3."
      ]
    },
    {
      "cell_type": "code",
      "execution_count": 165,
      "metadata": {
        "colab": {
          "base_uri": "https://localhost:8080/"
        },
        "id": "WcMfDEsBTvV2",
        "outputId": "55fb052f-2a37-4f61-8597-bcfff5c723ec"
      },
      "outputs": [
        {
          "output_type": "stream",
          "name": "stdout",
          "text": [
            "Mejores parámetros encontrados: {'max_depth': 8, 'max_features': 'auto', 'min_samples_leaf': 1, 'min_samples_split': 2}\n",
            "MSE:  13346.771363618856\n"
          ]
        }
      ],
      "source": [
        "# Celda 5\n",
        "\n",
        "X = bikes[['season', 'hour']]\n",
        "y = bikes['total']\n",
        "\n",
        "# Dividir los datos en conjuntos de entrenamiento y validación\n",
        "XTrain, XTest, YTrain, YTest = train_test_split(X, y, test_size=0.2, random_state=0)\n",
        "\n",
        "# Definir el espacio de búsqueda de parámetros\n",
        "param_grid = {\n",
        "    'max_depth': range(1, 21),\n",
        "    'min_samples_split': range(2, 21),\n",
        "    'min_samples_leaf': range(1, 21),\n",
        "    'max_features': ['auto', 'sqrt', 'log2', None]\n",
        "}\n",
        "\n",
        "# Inicializar el modelo de árbol de decisiones\n",
        "tree = DecisionTreeRegressor(random_state=0)\n",
        "\n",
        "# Configurar la búsqueda de cuadrícula utilizando validación cruzada de 5 veces\n",
        "grid_search = GridSearchCV(estimator=tree, param_grid=param_grid, cv=5, scoring='neg_mean_squared_error')\n",
        "\n",
        "# Realizar la búsqueda de cuadrícula en los datos de entrenamiento\n",
        "grid_search.fit(XTrain, YTrain)\n",
        "\n",
        "# Obtener el mejor modelo encontrado por la búsqueda de cuadrícula\n",
        "best_tree = grid_search.best_estimator_\n",
        "\n",
        "# Evaluar el mejor modelo en el conjunto de validación\n",
        "y_prob_pred = best_tree.predict(XTest)\n",
        "mse = mean_squared_error(YTest, y_prob_pred)\n",
        "\n",
        "print(\"Mejores parámetros encontrados:\", grid_search.best_params_)\n",
        "print(\"MSE: \", mse)\n"
      ]
    },
    {
      "cell_type": "markdown",
      "source": [
        "Después de realizar un análisis exhaustivo de hiperparámetros utilizando un árbol de decisiones, se encontró que el mejor modelo, tiene una configuración de hiperparámetros que incluye una profundidad máxima de 8 niveles, con una selección automática de características (`max_features='auto'`), y criterios de división mínima de una sola muestra en las hojas (`min_samples_leaf=1`) y dos muestras para realizar una división en los nodos internos (`min_samples_split=2`). Este modelo alcanzó un error cuadrático medio (MSE) de aproximadamente 13,346 en el conjunto de validación.\n",
        "\n",
        "Al comparar este desempeño con el modelo de regresión lineal, que obtuvo un MSE de aproximadamente 25,932, se observa una mejora significativa en la capacidad predictiva del árbol de decisiones. Esto sugiere que el modelo de árbol de decisiones, con una configuración óptima de hiperparámetros, es más capaz de capturar las relaciones complejas entre las variables predictoras y la variable objetivo, lo que resulta en predicciones más precisas en comparación con el modelo de regresión lineal."
      ],
      "metadata": {
        "id": "508fU4A-MPqN"
      }
    },
    {
      "cell_type": "markdown",
      "metadata": {
        "id": "bZz2gCAOTvV2"
      },
      "source": [
        "## Parte B - Métodos de ensamblajes\n",
        "En esta parte del taller se usará el conjunto de datos de Popularidad de Noticias Online. El objetivo es predecir si la notica es popular o no, la popularidad está dada por la cantidad de reacciones en redes sociales. Para más detalles puede visitar el siguiente enlace: [datos](https://archive.ics.uci.edu/ml/datasets/online+news+popularity)."
      ]
    },
    {
      "cell_type": "markdown",
      "metadata": {
        "id": "2ih_61ucTvV2"
      },
      "source": [
        "### Datos popularidad de noticias"
      ]
    },
    {
      "cell_type": "code",
      "execution_count": 166,
      "metadata": {
        "colab": {
          "base_uri": "https://localhost:8080/",
          "height": 342
        },
        "id": "ms5P7JUMTvV3",
        "outputId": "c5cac780-7e8f-4c3c-b99a-86439c05542d"
      },
      "outputs": [
        {
          "output_type": "execute_result",
          "data": {
            "text/plain": [
              "                                                 url  timedelta  \\\n",
              "0  http://mashable.com/2014/12/10/cia-torture-rep...       28.0   \n",
              "1  http://mashable.com/2013/10/18/bitlock-kicksta...      447.0   \n",
              "2  http://mashable.com/2013/07/24/google-glass-po...      533.0   \n",
              "3  http://mashable.com/2013/11/21/these-are-the-m...      413.0   \n",
              "4  http://mashable.com/2014/02/11/parking-ticket-...      331.0   \n",
              "\n",
              "   n_tokens_title  n_tokens_content  n_unique_tokens  n_non_stop_words  \\\n",
              "0             9.0             188.0         0.732620               1.0   \n",
              "1             7.0             297.0         0.653199               1.0   \n",
              "2            11.0             181.0         0.660377               1.0   \n",
              "3            12.0             781.0         0.497409               1.0   \n",
              "4             8.0             177.0         0.685714               1.0   \n",
              "\n",
              "   n_non_stop_unique_tokens  num_hrefs  num_self_hrefs  num_imgs  ...  \\\n",
              "0                  0.844262        5.0             1.0       1.0  ...   \n",
              "1                  0.815789        9.0             4.0       1.0  ...   \n",
              "2                  0.775701        4.0             3.0       1.0  ...   \n",
              "3                  0.677350       10.0             3.0       1.0  ...   \n",
              "4                  0.830357        3.0             2.0       1.0  ...   \n",
              "\n",
              "   min_positive_polarity  max_positive_polarity  avg_negative_polarity  \\\n",
              "0               0.200000                   0.80              -0.487500   \n",
              "1               0.160000                   0.50              -0.135340   \n",
              "2               0.136364                   1.00               0.000000   \n",
              "3               0.100000                   1.00              -0.195701   \n",
              "4               0.100000                   0.55              -0.175000   \n",
              "\n",
              "   min_negative_polarity  max_negative_polarity  title_subjectivity  \\\n",
              "0                  -0.60              -0.250000                 0.9   \n",
              "1                  -0.40              -0.050000                 0.1   \n",
              "2                   0.00               0.000000                 0.3   \n",
              "3                  -0.40              -0.071429                 0.0   \n",
              "4                  -0.25              -0.100000                 0.0   \n",
              "\n",
              "   title_sentiment_polarity  abs_title_subjectivity  \\\n",
              "0                       0.8                     0.4   \n",
              "1                      -0.1                     0.4   \n",
              "2                       1.0                     0.2   \n",
              "3                       0.0                     0.5   \n",
              "4                       0.0                     0.5   \n",
              "\n",
              "   abs_title_sentiment_polarity  Popular  \n",
              "0                           0.8        1  \n",
              "1                           0.1        0  \n",
              "2                           1.0        0  \n",
              "3                           0.0        0  \n",
              "4                           0.0        0  \n",
              "\n",
              "[5 rows x 61 columns]"
            ],
            "text/html": [
              "\n",
              "  <div id=\"df-add2a79b-17e1-4da8-8680-24404ba40e25\" class=\"colab-df-container\">\n",
              "    <div>\n",
              "<style scoped>\n",
              "    .dataframe tbody tr th:only-of-type {\n",
              "        vertical-align: middle;\n",
              "    }\n",
              "\n",
              "    .dataframe tbody tr th {\n",
              "        vertical-align: top;\n",
              "    }\n",
              "\n",
              "    .dataframe thead th {\n",
              "        text-align: right;\n",
              "    }\n",
              "</style>\n",
              "<table border=\"1\" class=\"dataframe\">\n",
              "  <thead>\n",
              "    <tr style=\"text-align: right;\">\n",
              "      <th></th>\n",
              "      <th>url</th>\n",
              "      <th>timedelta</th>\n",
              "      <th>n_tokens_title</th>\n",
              "      <th>n_tokens_content</th>\n",
              "      <th>n_unique_tokens</th>\n",
              "      <th>n_non_stop_words</th>\n",
              "      <th>n_non_stop_unique_tokens</th>\n",
              "      <th>num_hrefs</th>\n",
              "      <th>num_self_hrefs</th>\n",
              "      <th>num_imgs</th>\n",
              "      <th>...</th>\n",
              "      <th>min_positive_polarity</th>\n",
              "      <th>max_positive_polarity</th>\n",
              "      <th>avg_negative_polarity</th>\n",
              "      <th>min_negative_polarity</th>\n",
              "      <th>max_negative_polarity</th>\n",
              "      <th>title_subjectivity</th>\n",
              "      <th>title_sentiment_polarity</th>\n",
              "      <th>abs_title_subjectivity</th>\n",
              "      <th>abs_title_sentiment_polarity</th>\n",
              "      <th>Popular</th>\n",
              "    </tr>\n",
              "  </thead>\n",
              "  <tbody>\n",
              "    <tr>\n",
              "      <th>0</th>\n",
              "      <td>http://mashable.com/2014/12/10/cia-torture-rep...</td>\n",
              "      <td>28.0</td>\n",
              "      <td>9.0</td>\n",
              "      <td>188.0</td>\n",
              "      <td>0.732620</td>\n",
              "      <td>1.0</td>\n",
              "      <td>0.844262</td>\n",
              "      <td>5.0</td>\n",
              "      <td>1.0</td>\n",
              "      <td>1.0</td>\n",
              "      <td>...</td>\n",
              "      <td>0.200000</td>\n",
              "      <td>0.80</td>\n",
              "      <td>-0.487500</td>\n",
              "      <td>-0.60</td>\n",
              "      <td>-0.250000</td>\n",
              "      <td>0.9</td>\n",
              "      <td>0.8</td>\n",
              "      <td>0.4</td>\n",
              "      <td>0.8</td>\n",
              "      <td>1</td>\n",
              "    </tr>\n",
              "    <tr>\n",
              "      <th>1</th>\n",
              "      <td>http://mashable.com/2013/10/18/bitlock-kicksta...</td>\n",
              "      <td>447.0</td>\n",
              "      <td>7.0</td>\n",
              "      <td>297.0</td>\n",
              "      <td>0.653199</td>\n",
              "      <td>1.0</td>\n",
              "      <td>0.815789</td>\n",
              "      <td>9.0</td>\n",
              "      <td>4.0</td>\n",
              "      <td>1.0</td>\n",
              "      <td>...</td>\n",
              "      <td>0.160000</td>\n",
              "      <td>0.50</td>\n",
              "      <td>-0.135340</td>\n",
              "      <td>-0.40</td>\n",
              "      <td>-0.050000</td>\n",
              "      <td>0.1</td>\n",
              "      <td>-0.1</td>\n",
              "      <td>0.4</td>\n",
              "      <td>0.1</td>\n",
              "      <td>0</td>\n",
              "    </tr>\n",
              "    <tr>\n",
              "      <th>2</th>\n",
              "      <td>http://mashable.com/2013/07/24/google-glass-po...</td>\n",
              "      <td>533.0</td>\n",
              "      <td>11.0</td>\n",
              "      <td>181.0</td>\n",
              "      <td>0.660377</td>\n",
              "      <td>1.0</td>\n",
              "      <td>0.775701</td>\n",
              "      <td>4.0</td>\n",
              "      <td>3.0</td>\n",
              "      <td>1.0</td>\n",
              "      <td>...</td>\n",
              "      <td>0.136364</td>\n",
              "      <td>1.00</td>\n",
              "      <td>0.000000</td>\n",
              "      <td>0.00</td>\n",
              "      <td>0.000000</td>\n",
              "      <td>0.3</td>\n",
              "      <td>1.0</td>\n",
              "      <td>0.2</td>\n",
              "      <td>1.0</td>\n",
              "      <td>0</td>\n",
              "    </tr>\n",
              "    <tr>\n",
              "      <th>3</th>\n",
              "      <td>http://mashable.com/2013/11/21/these-are-the-m...</td>\n",
              "      <td>413.0</td>\n",
              "      <td>12.0</td>\n",
              "      <td>781.0</td>\n",
              "      <td>0.497409</td>\n",
              "      <td>1.0</td>\n",
              "      <td>0.677350</td>\n",
              "      <td>10.0</td>\n",
              "      <td>3.0</td>\n",
              "      <td>1.0</td>\n",
              "      <td>...</td>\n",
              "      <td>0.100000</td>\n",
              "      <td>1.00</td>\n",
              "      <td>-0.195701</td>\n",
              "      <td>-0.40</td>\n",
              "      <td>-0.071429</td>\n",
              "      <td>0.0</td>\n",
              "      <td>0.0</td>\n",
              "      <td>0.5</td>\n",
              "      <td>0.0</td>\n",
              "      <td>0</td>\n",
              "    </tr>\n",
              "    <tr>\n",
              "      <th>4</th>\n",
              "      <td>http://mashable.com/2014/02/11/parking-ticket-...</td>\n",
              "      <td>331.0</td>\n",
              "      <td>8.0</td>\n",
              "      <td>177.0</td>\n",
              "      <td>0.685714</td>\n",
              "      <td>1.0</td>\n",
              "      <td>0.830357</td>\n",
              "      <td>3.0</td>\n",
              "      <td>2.0</td>\n",
              "      <td>1.0</td>\n",
              "      <td>...</td>\n",
              "      <td>0.100000</td>\n",
              "      <td>0.55</td>\n",
              "      <td>-0.175000</td>\n",
              "      <td>-0.25</td>\n",
              "      <td>-0.100000</td>\n",
              "      <td>0.0</td>\n",
              "      <td>0.0</td>\n",
              "      <td>0.5</td>\n",
              "      <td>0.0</td>\n",
              "      <td>0</td>\n",
              "    </tr>\n",
              "  </tbody>\n",
              "</table>\n",
              "<p>5 rows × 61 columns</p>\n",
              "</div>\n",
              "    <div class=\"colab-df-buttons\">\n",
              "\n",
              "  <div class=\"colab-df-container\">\n",
              "    <button class=\"colab-df-convert\" onclick=\"convertToInteractive('df-add2a79b-17e1-4da8-8680-24404ba40e25')\"\n",
              "            title=\"Convert this dataframe to an interactive table.\"\n",
              "            style=\"display:none;\">\n",
              "\n",
              "  <svg xmlns=\"http://www.w3.org/2000/svg\" height=\"24px\" viewBox=\"0 -960 960 960\">\n",
              "    <path d=\"M120-120v-720h720v720H120Zm60-500h600v-160H180v160Zm220 220h160v-160H400v160Zm0 220h160v-160H400v160ZM180-400h160v-160H180v160Zm440 0h160v-160H620v160ZM180-180h160v-160H180v160Zm440 0h160v-160H620v160Z\"/>\n",
              "  </svg>\n",
              "    </button>\n",
              "\n",
              "  <style>\n",
              "    .colab-df-container {\n",
              "      display:flex;\n",
              "      gap: 12px;\n",
              "    }\n",
              "\n",
              "    .colab-df-convert {\n",
              "      background-color: #E8F0FE;\n",
              "      border: none;\n",
              "      border-radius: 50%;\n",
              "      cursor: pointer;\n",
              "      display: none;\n",
              "      fill: #1967D2;\n",
              "      height: 32px;\n",
              "      padding: 0 0 0 0;\n",
              "      width: 32px;\n",
              "    }\n",
              "\n",
              "    .colab-df-convert:hover {\n",
              "      background-color: #E2EBFA;\n",
              "      box-shadow: 0px 1px 2px rgba(60, 64, 67, 0.3), 0px 1px 3px 1px rgba(60, 64, 67, 0.15);\n",
              "      fill: #174EA6;\n",
              "    }\n",
              "\n",
              "    .colab-df-buttons div {\n",
              "      margin-bottom: 4px;\n",
              "    }\n",
              "\n",
              "    [theme=dark] .colab-df-convert {\n",
              "      background-color: #3B4455;\n",
              "      fill: #D2E3FC;\n",
              "    }\n",
              "\n",
              "    [theme=dark] .colab-df-convert:hover {\n",
              "      background-color: #434B5C;\n",
              "      box-shadow: 0px 1px 3px 1px rgba(0, 0, 0, 0.15);\n",
              "      filter: drop-shadow(0px 1px 2px rgba(0, 0, 0, 0.3));\n",
              "      fill: #FFFFFF;\n",
              "    }\n",
              "  </style>\n",
              "\n",
              "    <script>\n",
              "      const buttonEl =\n",
              "        document.querySelector('#df-add2a79b-17e1-4da8-8680-24404ba40e25 button.colab-df-convert');\n",
              "      buttonEl.style.display =\n",
              "        google.colab.kernel.accessAllowed ? 'block' : 'none';\n",
              "\n",
              "      async function convertToInteractive(key) {\n",
              "        const element = document.querySelector('#df-add2a79b-17e1-4da8-8680-24404ba40e25');\n",
              "        const dataTable =\n",
              "          await google.colab.kernel.invokeFunction('convertToInteractive',\n",
              "                                                    [key], {});\n",
              "        if (!dataTable) return;\n",
              "\n",
              "        const docLinkHtml = 'Like what you see? Visit the ' +\n",
              "          '<a target=\"_blank\" href=https://colab.research.google.com/notebooks/data_table.ipynb>data table notebook</a>'\n",
              "          + ' to learn more about interactive tables.';\n",
              "        element.innerHTML = '';\n",
              "        dataTable['output_type'] = 'display_data';\n",
              "        await google.colab.output.renderOutput(dataTable, element);\n",
              "        const docLink = document.createElement('div');\n",
              "        docLink.innerHTML = docLinkHtml;\n",
              "        element.appendChild(docLink);\n",
              "      }\n",
              "    </script>\n",
              "  </div>\n",
              "\n",
              "\n",
              "<div id=\"df-fab776e0-a155-4c04-9a3e-e6633f74521b\">\n",
              "  <button class=\"colab-df-quickchart\" onclick=\"quickchart('df-fab776e0-a155-4c04-9a3e-e6633f74521b')\"\n",
              "            title=\"Suggest charts\"\n",
              "            style=\"display:none;\">\n",
              "\n",
              "<svg xmlns=\"http://www.w3.org/2000/svg\" height=\"24px\"viewBox=\"0 0 24 24\"\n",
              "     width=\"24px\">\n",
              "    <g>\n",
              "        <path d=\"M19 3H5c-1.1 0-2 .9-2 2v14c0 1.1.9 2 2 2h14c1.1 0 2-.9 2-2V5c0-1.1-.9-2-2-2zM9 17H7v-7h2v7zm4 0h-2V7h2v10zm4 0h-2v-4h2v4z\"/>\n",
              "    </g>\n",
              "</svg>\n",
              "  </button>\n",
              "\n",
              "<style>\n",
              "  .colab-df-quickchart {\n",
              "      --bg-color: #E8F0FE;\n",
              "      --fill-color: #1967D2;\n",
              "      --hover-bg-color: #E2EBFA;\n",
              "      --hover-fill-color: #174EA6;\n",
              "      --disabled-fill-color: #AAA;\n",
              "      --disabled-bg-color: #DDD;\n",
              "  }\n",
              "\n",
              "  [theme=dark] .colab-df-quickchart {\n",
              "      --bg-color: #3B4455;\n",
              "      --fill-color: #D2E3FC;\n",
              "      --hover-bg-color: #434B5C;\n",
              "      --hover-fill-color: #FFFFFF;\n",
              "      --disabled-bg-color: #3B4455;\n",
              "      --disabled-fill-color: #666;\n",
              "  }\n",
              "\n",
              "  .colab-df-quickchart {\n",
              "    background-color: var(--bg-color);\n",
              "    border: none;\n",
              "    border-radius: 50%;\n",
              "    cursor: pointer;\n",
              "    display: none;\n",
              "    fill: var(--fill-color);\n",
              "    height: 32px;\n",
              "    padding: 0;\n",
              "    width: 32px;\n",
              "  }\n",
              "\n",
              "  .colab-df-quickchart:hover {\n",
              "    background-color: var(--hover-bg-color);\n",
              "    box-shadow: 0 1px 2px rgba(60, 64, 67, 0.3), 0 1px 3px 1px rgba(60, 64, 67, 0.15);\n",
              "    fill: var(--button-hover-fill-color);\n",
              "  }\n",
              "\n",
              "  .colab-df-quickchart-complete:disabled,\n",
              "  .colab-df-quickchart-complete:disabled:hover {\n",
              "    background-color: var(--disabled-bg-color);\n",
              "    fill: var(--disabled-fill-color);\n",
              "    box-shadow: none;\n",
              "  }\n",
              "\n",
              "  .colab-df-spinner {\n",
              "    border: 2px solid var(--fill-color);\n",
              "    border-color: transparent;\n",
              "    border-bottom-color: var(--fill-color);\n",
              "    animation:\n",
              "      spin 1s steps(1) infinite;\n",
              "  }\n",
              "\n",
              "  @keyframes spin {\n",
              "    0% {\n",
              "      border-color: transparent;\n",
              "      border-bottom-color: var(--fill-color);\n",
              "      border-left-color: var(--fill-color);\n",
              "    }\n",
              "    20% {\n",
              "      border-color: transparent;\n",
              "      border-left-color: var(--fill-color);\n",
              "      border-top-color: var(--fill-color);\n",
              "    }\n",
              "    30% {\n",
              "      border-color: transparent;\n",
              "      border-left-color: var(--fill-color);\n",
              "      border-top-color: var(--fill-color);\n",
              "      border-right-color: var(--fill-color);\n",
              "    }\n",
              "    40% {\n",
              "      border-color: transparent;\n",
              "      border-right-color: var(--fill-color);\n",
              "      border-top-color: var(--fill-color);\n",
              "    }\n",
              "    60% {\n",
              "      border-color: transparent;\n",
              "      border-right-color: var(--fill-color);\n",
              "    }\n",
              "    80% {\n",
              "      border-color: transparent;\n",
              "      border-right-color: var(--fill-color);\n",
              "      border-bottom-color: var(--fill-color);\n",
              "    }\n",
              "    90% {\n",
              "      border-color: transparent;\n",
              "      border-bottom-color: var(--fill-color);\n",
              "    }\n",
              "  }\n",
              "</style>\n",
              "\n",
              "  <script>\n",
              "    async function quickchart(key) {\n",
              "      const quickchartButtonEl =\n",
              "        document.querySelector('#' + key + ' button');\n",
              "      quickchartButtonEl.disabled = true;  // To prevent multiple clicks.\n",
              "      quickchartButtonEl.classList.add('colab-df-spinner');\n",
              "      try {\n",
              "        const charts = await google.colab.kernel.invokeFunction(\n",
              "            'suggestCharts', [key], {});\n",
              "      } catch (error) {\n",
              "        console.error('Error during call to suggestCharts:', error);\n",
              "      }\n",
              "      quickchartButtonEl.classList.remove('colab-df-spinner');\n",
              "      quickchartButtonEl.classList.add('colab-df-quickchart-complete');\n",
              "    }\n",
              "    (() => {\n",
              "      let quickchartButtonEl =\n",
              "        document.querySelector('#df-fab776e0-a155-4c04-9a3e-e6633f74521b button');\n",
              "      quickchartButtonEl.style.display =\n",
              "        google.colab.kernel.accessAllowed ? 'block' : 'none';\n",
              "    })();\n",
              "  </script>\n",
              "</div>\n",
              "\n",
              "    </div>\n",
              "  </div>\n"
            ],
            "application/vnd.google.colaboratory.intrinsic+json": {
              "type": "dataframe",
              "variable_name": "df"
            }
          },
          "metadata": {},
          "execution_count": 166
        }
      ],
      "source": [
        "# Lectura de la información de archivo .csv\n",
        "df = pd.read_csv('https://raw.githubusercontent.com/davidzarruk/MIAD_ML_NLP_2023/main/datasets/mashable.csv', index_col=0)\n",
        "df.head()"
      ]
    },
    {
      "cell_type": "code",
      "source": [
        "print(df.info())"
      ],
      "metadata": {
        "colab": {
          "base_uri": "https://localhost:8080/"
        },
        "id": "Amv4kY0AwfL9",
        "outputId": "2af71d26-bdeb-4d0e-d469-52a181575b0c"
      },
      "execution_count": 167,
      "outputs": [
        {
          "output_type": "stream",
          "name": "stdout",
          "text": [
            "<class 'pandas.core.frame.DataFrame'>\n",
            "Index: 6000 entries, 0 to 5999\n",
            "Data columns (total 61 columns):\n",
            " #   Column                         Non-Null Count  Dtype  \n",
            "---  ------                         --------------  -----  \n",
            " 0   url                            6000 non-null   object \n",
            " 1   timedelta                      6000 non-null   float64\n",
            " 2   n_tokens_title                 6000 non-null   float64\n",
            " 3   n_tokens_content               6000 non-null   float64\n",
            " 4   n_unique_tokens                6000 non-null   float64\n",
            " 5   n_non_stop_words               6000 non-null   float64\n",
            " 6   n_non_stop_unique_tokens       6000 non-null   float64\n",
            " 7   num_hrefs                      6000 non-null   float64\n",
            " 8   num_self_hrefs                 6000 non-null   float64\n",
            " 9   num_imgs                       6000 non-null   float64\n",
            " 10  num_videos                     6000 non-null   float64\n",
            " 11  average_token_length           6000 non-null   float64\n",
            " 12  num_keywords                   6000 non-null   float64\n",
            " 13  data_channel_is_lifestyle      6000 non-null   float64\n",
            " 14  data_channel_is_entertainment  6000 non-null   float64\n",
            " 15  data_channel_is_bus            6000 non-null   float64\n",
            " 16  data_channel_is_socmed         6000 non-null   float64\n",
            " 17  data_channel_is_tech           6000 non-null   float64\n",
            " 18  data_channel_is_world          6000 non-null   float64\n",
            " 19  kw_min_min                     6000 non-null   float64\n",
            " 20  kw_max_min                     6000 non-null   float64\n",
            " 21  kw_avg_min                     6000 non-null   float64\n",
            " 22  kw_min_max                     6000 non-null   float64\n",
            " 23  kw_max_max                     6000 non-null   float64\n",
            " 24  kw_avg_max                     6000 non-null   float64\n",
            " 25  kw_min_avg                     6000 non-null   float64\n",
            " 26  kw_max_avg                     6000 non-null   float64\n",
            " 27  kw_avg_avg                     6000 non-null   float64\n",
            " 28  self_reference_min_shares      6000 non-null   float64\n",
            " 29  self_reference_max_shares      6000 non-null   float64\n",
            " 30  self_reference_avg_sharess     6000 non-null   float64\n",
            " 31  weekday_is_monday              6000 non-null   float64\n",
            " 32  weekday_is_tuesday             6000 non-null   float64\n",
            " 33  weekday_is_wednesday           6000 non-null   float64\n",
            " 34  weekday_is_thursday            6000 non-null   float64\n",
            " 35  weekday_is_friday              6000 non-null   float64\n",
            " 36  weekday_is_saturday            6000 non-null   float64\n",
            " 37  weekday_is_sunday              6000 non-null   float64\n",
            " 38  is_weekend                     6000 non-null   float64\n",
            " 39  LDA_00                         6000 non-null   float64\n",
            " 40  LDA_01                         6000 non-null   float64\n",
            " 41  LDA_02                         6000 non-null   float64\n",
            " 42  LDA_03                         6000 non-null   float64\n",
            " 43  LDA_04                         6000 non-null   float64\n",
            " 44  global_subjectivity            6000 non-null   float64\n",
            " 45  global_sentiment_polarity      6000 non-null   float64\n",
            " 46  global_rate_positive_words     6000 non-null   float64\n",
            " 47  global_rate_negative_words     6000 non-null   float64\n",
            " 48  rate_positive_words            6000 non-null   float64\n",
            " 49  rate_negative_words            6000 non-null   float64\n",
            " 50  avg_positive_polarity          6000 non-null   float64\n",
            " 51  min_positive_polarity          6000 non-null   float64\n",
            " 52  max_positive_polarity          6000 non-null   float64\n",
            " 53  avg_negative_polarity          6000 non-null   float64\n",
            " 54  min_negative_polarity          6000 non-null   float64\n",
            " 55  max_negative_polarity          6000 non-null   float64\n",
            " 56  title_subjectivity             6000 non-null   float64\n",
            " 57  title_sentiment_polarity       6000 non-null   float64\n",
            " 58  abs_title_subjectivity         6000 non-null   float64\n",
            " 59  abs_title_sentiment_polarity   6000 non-null   float64\n",
            " 60  Popular                        6000 non-null   int64  \n",
            "dtypes: float64(59), int64(1), object(1)\n",
            "memory usage: 2.8+ MB\n",
            "None\n"
          ]
        }
      ]
    },
    {
      "cell_type": "code",
      "execution_count": 168,
      "metadata": {
        "colab": {
          "base_uri": "https://localhost:8080/"
        },
        "id": "w___2cc0TvV3",
        "outputId": "97571d2e-66bf-4a63-d57f-333bb16729ae"
      },
      "outputs": [
        {
          "output_type": "execute_result",
          "data": {
            "text/plain": [
              "0.5"
            ]
          },
          "metadata": {},
          "execution_count": 168
        }
      ],
      "source": [
        "# Definición variable de interes y variables predictoras\n",
        "X = df.drop(['url', 'Popular'], axis=1)\n",
        "y = df['Popular']\n",
        "y.mean()"
      ]
    },
    {
      "cell_type": "code",
      "execution_count": 169,
      "metadata": {
        "id": "5CgY3Ct-TvV3"
      },
      "outputs": [],
      "source": [
        "# División de la muestra en set de entrenamiento y prueba\n",
        "from sklearn.model_selection import train_test_split\n",
        "X_train, X_test, y_train, y_test = train_test_split(X, y, test_size = 0.33, random_state=1)"
      ]
    },
    {
      "cell_type": "markdown",
      "metadata": {
        "id": "hSZZvsKQTvV3"
      },
      "source": [
        "### Punto 6 - Árbol de decisión y regresión logística\n",
        "En la celda 6 construya un árbol de decisión y una regresión logística. Para el árbol calibre al menos un parámetro y evalúe el desempeño de cada modelo usando las métricas de Accuracy y F1-Score."
      ]
    },
    {
      "cell_type": "code",
      "execution_count": 170,
      "metadata": {
        "colab": {
          "base_uri": "https://localhost:8080/"
        },
        "id": "7MGmx-OCTvV4",
        "outputId": "03715f16-0dea-4428-a775-82c93d0de783"
      },
      "outputs": [
        {
          "output_type": "stream",
          "name": "stdout",
          "text": [
            "Desempeño del Árbol de Decisión:\n",
            "Accuracy: 0.6005050505050505\n",
            "F1-Score: 0.6235126130414088\n",
            "\n",
            "Desempeño de la Regresión Logística:\n",
            "Accuracy: 0.6136363636363636\n",
            "F1-Score: 0.5871559633027522\n"
          ]
        }
      ],
      "source": [
        "# Celda 6\n",
        "\n",
        "# 1. Construir y entrenar un árbol de decisión, parametro elegido es profundidad\n",
        "tree_clf = DecisionTreeClassifier(max_depth=10, random_state=0)\n",
        "tree_clf.fit(X_train, y_train)\n",
        "\n",
        "# 2. Construir y entrenar una regresión logística\n",
        "logistic_reg = LogisticRegression(random_state=0)\n",
        "logistic_reg.fit(X_train, y_train)\n",
        "\n",
        "# 3. Evaluar el desempeño de los modelos\n",
        "# Predicciones del árbol de decisión\n",
        "tree_pred = tree_clf.predict(X_test)\n",
        "# Predicciones de la regresión logística\n",
        "logistic_pred = logistic_reg.predict(X_test)\n",
        "\n",
        "# Calcular métricas de evaluación\n",
        "tree_accuracy = accuracy_score(y_test, tree_pred)\n",
        "tree_f1 = f1_score(y_test, tree_pred)\n",
        "\n",
        "logistic_accuracy = accuracy_score(y_test, logistic_pred)\n",
        "logistic_f1 = f1_score(y_test, logistic_pred)\n",
        "\n",
        "# Mostrar los resultados\n",
        "print(\"Desempeño del Árbol de Decisión:\")\n",
        "print(\"Accuracy:\", tree_accuracy)\n",
        "print(\"F1-Score:\", tree_f1)\n",
        "print(\"\\nDesempeño de la Regresión Logística:\")\n",
        "print(\"Accuracy:\", logistic_accuracy)\n",
        "print(\"F1-Score:\", logistic_f1)"
      ]
    },
    {
      "cell_type": "markdown",
      "metadata": {
        "id": "IUVYuS8qTvV4"
      },
      "source": [
        "### Punto 7 - Votación Mayoritaria\n",
        "En la celda 7 elabore un esamble con la metodología de **Votación mayoritaria** compuesto por 300 muestras bagged donde:\n",
        "\n",
        "-las primeras 100 muestras vienen de árboles de decisión donde max_depth tome un valor de su elección\\\n",
        "-las segundas 100 muestras vienen de árboles de decisión donde min_samples_leaf tome un valor de su elección\\\n",
        "-las últimas 100 muestras vienen de regresiones logísticas\n",
        "\n",
        "Evalúe cada uno de los tres modelos de manera independiente utilizando las métricas de Accuracy y F1-Score, luego evalúe el ensamble de modelos y compare los resultados.\n",
        "\n",
        "Nota:\n",
        "\n",
        "Para este ensamble de 300 modelos, deben hacer votación mayoritaria. Esto lo pueden hacer de distintas maneras. La más \"fácil\" es haciendo la votación \"manualmente\", como se hace a partir del minuto 5:45 del video de Ejemplo práctico de emsablajes en Coursera. Digo que es la más fácil porque si hacen la votación mayoritaria sobre las 300 predicciones van a obtener lo que se espera.\n",
        "\n",
        "Otra opción es: para cada uno de los 3 tipos de modelos, entrenar un ensamble de 100 modelos cada uno. Predecir para cada uno de esos tres ensambles y luego predecir como un ensamble de los 3 ensambles. La cuestión es que la votación mayoritaria al usar los 3 ensambles no necesariamente va a generar el mismo resultado que si hacen la votación mayoritaria directamente sobre los 300 modelos. Entonces, para los que quieran hacer esto, deben hacer ese último cálculo con cuidado.\n",
        "\n",
        "Para los que quieran hacerlo como ensamble de ensambles, digo que se debe hacer el ensamble final con cuidado por lo siguiente. Supongamos que:\n",
        "\n",
        "* para los 100 árboles del primer tipo, la votación mayoritaria es: 55% de los modelos predicen que la clase de una observación es \"1\"\n",
        "* para los 100 árboles del segundo tipo, la votación mayoritaria es: 55% de los modelos predicen que la clase de una observación es \"1\"\n",
        "* para las 100 regresiones logísticas, la votación mayoritaria es: 10% de los modelos predicen que la clase de una observación es \"1\"\n",
        "\n",
        "Si se hace la votación mayoritaria de los 300 modelos, la predicción de esa observación debería ser: (100*55%+100*55%+100*10%)/300 = 40% de los modelos votan porque la predicción debería ser \"1\". Es decir, la predicción del ensamble es \"0\" (dado que menos del 50% de modelos predijo un 1).\n",
        "\n",
        "Sin embargo, si miramos cada ensamble por separado, el primer ensamble predice \"1\", el segundo ensamble predice \"1\" y el último ensamble predice \"0\". Si hago votación mayoritaria sobre esto, la predicción va a ser \"1\", lo cual es distinto a si se hace la votación mayoritaria sobre los 300 modelos."
      ]
    },
    {
      "cell_type": "code",
      "source": [
        "# 1. árboles de decisión donde max_depth\n",
        "\n",
        "# Creación de 100 muestras\n",
        "n_estimators = 100\n",
        "np.random.seed(123)\n",
        "\n",
        "n_samples = X_train.shape[0]\n",
        "samples_tree_1 = [np.random.choice(a=n_samples, size=n_samples, replace=True) for _ in range(n_estimators)]\n",
        "\n",
        "# Entrenamiento de 100 modelos con las 100 muestras\n",
        "np.random.seed(123)\n",
        "seeds = np.random.randint(1, 10000, size=n_estimators)\n",
        "\n",
        "trees = {}\n",
        "for i in range(n_estimators):\n",
        "    trees[i] = DecisionTreeClassifier(max_features=\"sqrt\", max_depth=5, random_state=seeds[i])\n",
        "    trees[i].fit(X_train.iloc[samples_tree_1[i]], y_train.iloc[samples_tree_1[i]])\n",
        "\n",
        "# Predicción para los datos del set de test con cada modelo\n",
        "y_pred_df = pd.DataFrame(index=X_test.index, columns=list(range(n_estimators)))\n",
        "for i in range(n_estimators):\n",
        "    y_pred_df.iloc[:, i] = trees[i].predict(X_test)\n",
        "\n",
        "# y_pred_df.head()\n"
      ],
      "metadata": {
        "id": "8SJpKxhPZZkD"
      },
      "execution_count": 171,
      "outputs": []
    },
    {
      "cell_type": "code",
      "source": [
        "# 2. árboles de decisión donde min_samples_leaf\n",
        "\n",
        "# Creación de 100 muestras\n",
        "n_estimators = 100\n",
        "np.random.seed(123)\n",
        "\n",
        "n_samples = X_train.shape[0]\n",
        "samples_tree_2 = [np.random.choice(a=n_samples, size=n_samples, replace=True) for _ in range(n_estimators)]\n",
        "\n",
        "# Entrenamiento de 100 modelos con las 100 muestras\n",
        "np.random.seed(123)\n",
        "seeds = np.random.randint(1, 10000, size=n_estimators)\n",
        "\n",
        "trees_2 = {}\n",
        "for i in range(n_estimators):\n",
        "    trees_2[i] = DecisionTreeClassifier(max_features=\"sqrt\", min_samples_leaf=10, random_state=seeds[i])\n",
        "    trees_2[i].fit(X_train.iloc[samples_tree_2[i]], y_train.iloc[samples_tree_2[i]])\n",
        "\n",
        "# Predicción para los datos del set de test con cada modelo\n",
        "y_pred_df_2 = pd.DataFrame(index=X_test.index, columns=list(range(n_estimators)))\n",
        "for i in range(n_estimators):\n",
        "    y_pred_df_2.iloc[:, i] = trees_2[i].predict(X_test)\n",
        "\n",
        "# y_pred_df.head()\n"
      ],
      "metadata": {
        "id": "B03Zuw2mbctJ"
      },
      "execution_count": 172,
      "outputs": []
    },
    {
      "cell_type": "code",
      "source": [
        "# 3. Logistic Regression\n",
        "\n",
        "# Creación de 100 muestras\n",
        "n_estimators = 100\n",
        "np.random.seed(123)\n",
        "\n",
        "n_samples = X_train.shape[0]\n",
        "samples_log = [np.random.choice(a=n_samples, size=n_samples, replace=True) for _ in range(n_estimators)]\n",
        "\n",
        "# Entrenamiento de 100 modelos con las 100 muestras\n",
        "np.random.seed(123)\n",
        "seeds = np.random.randint(1, 10000, size=n_estimators)\n",
        "\n",
        "logistic_regressions = {}\n",
        "for i in range(n_estimators):\n",
        "    logistic_regressions[i] = LogisticRegression(random_state=seeds[i])\n",
        "    logistic_regressions[i].fit(X_train.iloc[samples_log[i]], y_train.iloc[samples_log[i]])\n",
        "\n",
        "# Predicción para los datos del set de test con cada modelo\n",
        "y_pred_df_3 = pd.DataFrame(index=X_test.index, columns=list(range(n_estimators)))\n",
        "for i in range(n_estimators):\n",
        "    y_pred_df_3.iloc[:, i] = logistic_regressions[i].predict(X_test)\n"
      ],
      "metadata": {
        "id": "1jryUdj4eizQ"
      },
      "execution_count": 173,
      "outputs": []
    },
    {
      "cell_type": "code",
      "source": [
        "# Concatenar las matrices de predicciones\n",
        "y_pred_total = np.concatenate((y_pred_df, y_pred_df_2, y_pred_df_3), axis=1)\n",
        "\n",
        "# Aplicar la votación mayoritaria en la matriz y_pred_total\n",
        "y_pred = (y_pred_total.sum(axis=1) >= ((n_estimators*3) / 2)).astype(np.int64)\n",
        "\n",
        "# Desempeño al hacer votación mayoritaria\n",
        "print(\"F1 Score:\", metrics.f1_score(y_pred, y_test))\n",
        "print(\"Accuracy Score:\", metrics.accuracy_score(y_pred, y_test))"
      ],
      "metadata": {
        "colab": {
          "base_uri": "https://localhost:8080/"
        },
        "id": "TAUAoS4pjFeX",
        "outputId": "da330c69-528b-4f75-e0a2-553182f7404e"
      },
      "execution_count": 174,
      "outputs": [
        {
          "output_type": "stream",
          "name": "stdout",
          "text": [
            "F1 Score: 0.6294573643410852\n",
            "Accuracy Score: 0.6378787878787879\n"
          ]
        }
      ]
    },
    {
      "cell_type": "markdown",
      "metadata": {
        "id": "nw-KOY3eTvV5"
      },
      "source": [
        "### Punto 8 - Votación Ponderada\n",
        "En la celda 8 elabore un ensamble con la metodología de **Votación ponderada** compuesto por 300 muestras bagged para los mismos tres escenarios del punto 7. Evalúe los modelos utilizando las métricas de Accuracy y F1-Score"
      ]
    },
    {
      "cell_type": "code",
      "execution_count": 175,
      "metadata": {
        "id": "qD3keggiTvV5"
      },
      "outputs": [],
      "source": [
        "# Celda 8\n",
        "# 1. árboles de decisión donde max_depth\n",
        "samples_oob_tree_1 = []\n",
        "# Obtención de las observaciones fuera de la bolsa \"out-of-bag\" para cada muestra\n",
        "for sample in samples_tree_1:\n",
        "    samples_oob_tree_1.append(sorted(set(range(n_samples)) - set(sample)))\n",
        "\n",
        "# Estimación de los errores OOB para cada clasificador\n",
        "errors_tree_1 = np.zeros(n_estimators)\n",
        "\n",
        "for i in range(n_estimators):\n",
        "    y_pred_tree_1 = trees[i].predict(X_train.iloc[samples_oob_tree_1[i]])\n",
        "    errors_tree_1[i] = 1 - metrics.accuracy_score(y_train.iloc[samples_oob_tree_1[i]], y_pred_tree_1)"
      ]
    },
    {
      "cell_type": "code",
      "source": [
        "# 2. árboles de decisión donde min_samples_leaf\n",
        "samples_oob_tree_2 = []\n",
        "# Obtención de las observaciones fuera de la bolsa \"out-of-bag\" para cada muestra\n",
        "for sample in samples_tree_2:\n",
        "    samples_oob_tree_2.append(sorted(set(range(n_samples)) - set(sample)))\n",
        "\n",
        "# Estimación de los errores OOB para cada clasificador\n",
        "errors_tree_2 = np.zeros(n_estimators)\n",
        "\n",
        "for i in range(n_estimators):\n",
        "    y_pred_tree_2 = trees_2[i].predict(X_train.iloc[samples_oob_tree_2[i]])\n",
        "    errors_tree_2[i] = 1 - metrics.accuracy_score(y_train.iloc[samples_oob_tree_2[i]], y_pred_tree_2)"
      ],
      "metadata": {
        "id": "GxCsp4HNkxAa"
      },
      "execution_count": 176,
      "outputs": []
    },
    {
      "cell_type": "code",
      "source": [
        "# 3. Logistic Regression\n",
        "samples_oob_log = []\n",
        "# Obtención de las observaciones fuera de la bolsa \"out-of-bag\" para cada muestra\n",
        "for sample in samples_log:\n",
        "    samples_oob_log.append(sorted(set(range(n_samples)) - set(sample)))\n",
        "\n",
        "# Estimación de los errores OOB para cada clasificador\n",
        "errors_log = np.zeros(n_estimators)\n",
        "\n",
        "for i in range(n_estimators):\n",
        "    y_pred_log = logistic_regressions[i].predict(X_train.iloc[samples_oob_log[i]])\n",
        "    errors_log[i] = 1 - metrics.accuracy_score(y_train.iloc[samples_oob_log[i]], y_pred_log)"
      ],
      "metadata": {
        "id": "8SBh1IzXk0Vt"
      },
      "execution_count": 177,
      "outputs": []
    },
    {
      "cell_type": "code",
      "source": [
        "# Todos lo errores\n",
        "errors_total = np.concatenate((errors_tree_1, errors_tree_2, errors_log), axis=0)\n",
        "\n",
        "# Obtención de los pesos alpha de cada modelo de acuerdo al error OOB\n",
        "alpha = (1 - errors_total) / (1 - errors_total).sum()\n",
        "\n",
        "# Ponderación de las predicciones con los pesos alpha\n",
        "weighted_sum_1 = ((y_pred_total) * alpha).sum(axis=1)\n",
        "\n",
        "# Desempeño al hacer votación ponderada\n",
        "y_pred_pond = (weighted_sum_1 >= 0.5).astype(np.int64)\n",
        "\n",
        "# Desempeño al hacer votación mayoritaria\n",
        "print(\"F1 Score:\", metrics.f1_score(y_pred_pond, y_test))\n",
        "print(\"Accuracy Score:\", metrics.accuracy_score(y_pred_pond, y_test))"
      ],
      "metadata": {
        "colab": {
          "base_uri": "https://localhost:8080/"
        },
        "id": "v4h5F6UBnB1d",
        "outputId": "fe30570d-5c2f-4805-f359-c7c324f2768e"
      },
      "execution_count": 178,
      "outputs": [
        {
          "output_type": "stream",
          "name": "stdout",
          "text": [
            "F1 Score: 0.628099173553719\n",
            "Accuracy Score: 0.6363636363636364\n"
          ]
        }
      ]
    },
    {
      "cell_type": "markdown",
      "metadata": {
        "id": "28nyZSXwTvV5"
      },
      "source": [
        "### Punto 9 - Comparación y análisis de resultados\n",
        "En la celda 9 comente sobre los resultados obtenidos con las metodologías usadas en los puntos 7 y 8, compare los resultados y enuncie posibles ventajas o desventajas de cada una de ellas."
      ]
    },
    {
      "cell_type": "markdown",
      "source": [
        "La comparación entre la votación ponderada y la votación mayoritaria puede proporcionar una perspectiva interesante sobre cómo diferentes enfoques pueden afectar el rendimiento de un modelo de ensamblaje. En cuanto a las métricas de evaluación obtenidas, ambas técnicas muestran resultados similares en términos de F1 Score y Accuracy Score. Esto sugiere que, en este caso particular, no hay una diferencia significativa en el rendimiento entre ambas estrategias de votación.\n",
        "\n",
        "Una ventaja de la votación ponderada es que permite asignar diferentes pesos a los modelos individuales, lo que puede ser útil cuando algunos modelos tienen un rendimiento mejor o peor en ciertas características. Sin embargo, determinar los pesos óptimos puede ser un desafío y requerir un ajuste de cuidado. Por otro lado, la votación mayoritaria es más simple de implementar y entender, ya que simplemente cuenta el número de votos para cada clase y elige la clase con más votos.\n",
        "\n",
        "Los resultados obtenidos sugieren que los modelos individuales utilizados en el ensamblaje tienen un rendimiento equilibrado, lo que resulta en resultados similares para ambas técnicas de votación."
      ],
      "metadata": {
        "id": "KdZ8ZN_ZqHzT"
      }
    }
  ],
  "metadata": {
    "kernelspec": {
      "display_name": "Python 3 (ipykernel)",
      "language": "python",
      "name": "python3"
    },
    "language_info": {
      "codemirror_mode": {
        "name": "ipython",
        "version": 3
      },
      "file_extension": ".py",
      "mimetype": "text/x-python",
      "name": "python",
      "nbconvert_exporter": "python",
      "pygments_lexer": "ipython3",
      "version": "3.9.12"
    },
    "colab": {
      "provenance": []
    }
  },
  "nbformat": 4,
  "nbformat_minor": 0
}