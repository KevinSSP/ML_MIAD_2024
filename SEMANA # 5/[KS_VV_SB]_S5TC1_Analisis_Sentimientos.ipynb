{
  "cells": [
    {
      "cell_type": "markdown",
      "metadata": {
        "id": "nnSk9DaG-4Fj"
      },
      "source": [
        "![image info](https://raw.githubusercontent.com/albahnsen/MIAD_ML_and_NLP/main/images/banner_1.png)"
      ]
    },
    {
      "cell_type": "markdown",
      "metadata": {
        "id": "psdh16cU-4Fm"
      },
      "source": [
        "# Taller: Análisis de sentimientos y técnicas de NLP\n",
        "\n",
        "En este taller podrán poner en práctica sus conocimientos sobre las diferentes técnicas para el procesamiento de lenguaje natural. El taller está constituido por 5 puntos, en los cuales deberan seguir las intrucciones de cada numeral para su desarrollo."
      ]
    },
    {
      "cell_type": "markdown",
      "metadata": {
        "id": "TLIIGqZR-4Fn"
      },
      "source": [
        "## Datos predicción sentimientos de viajeros en Twitter\n",
        "\n",
        "En este taller se usará el conjunto de datos de sentimientos sobre distintas aerolíneas de EE.UU. provenientes de Twitter. Cada observación contiene si el sentimiento de los tweets es positivo, neutral o negativo teniendo en cuenta distintas variables como aerolínea y las razones de los sentimientos negativos (como \"retraso en el vuelo\" o \"servicio grosero\"). El objetivo es predecir el sentimiento asociado a cada tweet. Para más detalles pueden visitar el siguiente enlace: [datos](https://www.kaggle.com/crowdflower/twitter-airline-sentiment)."
      ]
    },
    {
      "cell_type": "code",
      "execution_count": null,
      "metadata": {
        "id": "vXomRWBl-4Fo"
      },
      "outputs": [],
      "source": [
        "import warnings\n",
        "warnings.filterwarnings('ignore')"
      ]
    },
    {
      "cell_type": "code",
      "execution_count": null,
      "metadata": {
        "id": "NOJoQXKt-4Fp"
      },
      "outputs": [],
      "source": [
        "# Importación de librerías\n",
        "import pandas as pd\n",
        "import numpy as np\n",
        "%matplotlib inline\n",
        "import matplotlib.pyplot as plt"
      ]
    },
    {
      "cell_type": "code",
      "execution_count": null,
      "metadata": {
        "colab": {
          "base_uri": "https://localhost:8080/",
          "height": 483
        },
        "id": "khTlaIrp-4Fp",
        "outputId": "7805f9e5-ee88-41a9-d481-100a426eda66"
      },
      "outputs": [
        {
          "data": {
            "application/vnd.google.colaboratory.intrinsic+json": {
              "summary": "{\n  \"name\": \"tweets\",\n  \"rows\": 14640,\n  \"fields\": [\n    {\n      \"column\": \"tweet_id\",\n      \"properties\": {\n        \"dtype\": \"number\",\n        \"std\": 779111158481835,\n        \"min\": 567588278875213824,\n        \"max\": 570310600460525568,\n        \"num_unique_values\": 14485,\n        \"samples\": [\n          567917894144770049,\n          567813976492417024,\n          569243676594941953\n        ],\n        \"semantic_type\": \"\",\n        \"description\": \"\"\n      }\n    },\n    {\n      \"column\": \"airline_sentiment\",\n      \"properties\": {\n        \"dtype\": \"category\",\n        \"num_unique_values\": 3,\n        \"samples\": [\n          \"neutral\",\n          \"positive\",\n          \"negative\"\n        ],\n        \"semantic_type\": \"\",\n        \"description\": \"\"\n      }\n    },\n    {\n      \"column\": \"airline_sentiment_confidence\",\n      \"properties\": {\n        \"dtype\": \"number\",\n        \"std\": 0.16282995909867212,\n        \"min\": 0.335,\n        \"max\": 1.0,\n        \"num_unique_values\": 1023,\n        \"samples\": [\n          0.6723,\n          0.3551,\n          0.6498\n        ],\n        \"semantic_type\": \"\",\n        \"description\": \"\"\n      }\n    },\n    {\n      \"column\": \"negativereason\",\n      \"properties\": {\n        \"dtype\": \"category\",\n        \"num_unique_values\": 10,\n        \"samples\": [\n          \"Damaged Luggage\",\n          \"Can't Tell\",\n          \"Lost Luggage\"\n        ],\n        \"semantic_type\": \"\",\n        \"description\": \"\"\n      }\n    },\n    {\n      \"column\": \"negativereason_confidence\",\n      \"properties\": {\n        \"dtype\": \"number\",\n        \"std\": 0.3304397596377297,\n        \"min\": 0.0,\n        \"max\": 1.0,\n        \"num_unique_values\": 1410,\n        \"samples\": [\n          0.6677,\n          0.6622,\n          0.6905\n        ],\n        \"semantic_type\": \"\",\n        \"description\": \"\"\n      }\n    },\n    {\n      \"column\": \"airline\",\n      \"properties\": {\n        \"dtype\": \"category\",\n        \"num_unique_values\": 6,\n        \"samples\": [\n          \"Virgin America\",\n          \"United\",\n          \"American\"\n        ],\n        \"semantic_type\": \"\",\n        \"description\": \"\"\n      }\n    },\n    {\n      \"column\": \"airline_sentiment_gold\",\n      \"properties\": {\n        \"dtype\": \"category\",\n        \"num_unique_values\": 3,\n        \"samples\": [\n          \"negative\",\n          \"neutral\",\n          \"positive\"\n        ],\n        \"semantic_type\": \"\",\n        \"description\": \"\"\n      }\n    },\n    {\n      \"column\": \"name\",\n      \"properties\": {\n        \"dtype\": \"string\",\n        \"num_unique_values\": 7701,\n        \"samples\": [\n          \"smckenna719\",\n          \"thisAnneM\",\n          \"jmspool\"\n        ],\n        \"semantic_type\": \"\",\n        \"description\": \"\"\n      }\n    },\n    {\n      \"column\": \"negativereason_gold\",\n      \"properties\": {\n        \"dtype\": \"category\",\n        \"num_unique_values\": 13,\n        \"samples\": [\n          \"Customer Service Issue\\nLost Luggage\",\n          \"Late Flight\\nCancelled Flight\",\n          \"Late Flight\\nFlight Attendant Complaints\"\n        ],\n        \"semantic_type\": \"\",\n        \"description\": \"\"\n      }\n    },\n    {\n      \"column\": \"retweet_count\",\n      \"properties\": {\n        \"dtype\": \"number\",\n        \"std\": 0,\n        \"min\": 0,\n        \"max\": 44,\n        \"num_unique_values\": 18,\n        \"samples\": [\n          0,\n          1,\n          6\n        ],\n        \"semantic_type\": \"\",\n        \"description\": \"\"\n      }\n    },\n    {\n      \"column\": \"text\",\n      \"properties\": {\n        \"dtype\": \"string\",\n        \"num_unique_values\": 14427,\n        \"samples\": [\n          \"@JetBlue so technically I could drive to JFK now and put in. Request for tomorrow's flight?\",\n          \"@united why I won't check my carry on. Watched a handler throw this bag -- miss the conveyer belt -- sat there 10 min http://t.co/lyoocx5mSH\",\n          \"@SouthwestAir you guys are so clever \\ud83d\\ude03 http://t.co/qn5odUGFqK\"\n        ],\n        \"semantic_type\": \"\",\n        \"description\": \"\"\n      }\n    },\n    {\n      \"column\": \"tweet_coord\",\n      \"properties\": {\n        \"dtype\": \"category\",\n        \"num_unique_values\": 832,\n        \"samples\": [\n          \"[40.04915451, -75.10364317]\",\n          \"[32.97609561, -96.53349238]\",\n          \"[26.37852293, -81.78472152]\"\n        ],\n        \"semantic_type\": \"\",\n        \"description\": \"\"\n      }\n    },\n    {\n      \"column\": \"tweet_created\",\n      \"properties\": {\n        \"dtype\": \"object\",\n        \"num_unique_values\": 14247,\n        \"samples\": [\n          \"2015-02-23 07:40:55 -0800\",\n          \"2015-02-21 16:20:09 -0800\",\n          \"2015-02-21 21:33:21 -0800\"\n        ],\n        \"semantic_type\": \"\",\n        \"description\": \"\"\n      }\n    },\n    {\n      \"column\": \"tweet_location\",\n      \"properties\": {\n        \"dtype\": \"category\",\n        \"num_unique_values\": 3081,\n        \"samples\": [\n          \"Oakland, California\",\n          \"Beverly Hills, CA\",\n          \"Austin, TX/NY, NY\"\n        ],\n        \"semantic_type\": \"\",\n        \"description\": \"\"\n      }\n    },\n    {\n      \"column\": \"user_timezone\",\n      \"properties\": {\n        \"dtype\": \"category\",\n        \"num_unique_values\": 85,\n        \"samples\": [\n          \"Helsinki\",\n          \"Eastern Time (US & Canada)\",\n          \"America/Detroit\"\n        ],\n        \"semantic_type\": \"\",\n        \"description\": \"\"\n      }\n    }\n  ]\n}",
              "type": "dataframe",
              "variable_name": "tweets"
            },
            "text/html": [
              "\n",
              "  <div id=\"df-6ef443d5-7a73-4878-a1a9-081b046cf079\" class=\"colab-df-container\">\n",
              "    <div>\n",
              "<style scoped>\n",
              "    .dataframe tbody tr th:only-of-type {\n",
              "        vertical-align: middle;\n",
              "    }\n",
              "\n",
              "    .dataframe tbody tr th {\n",
              "        vertical-align: top;\n",
              "    }\n",
              "\n",
              "    .dataframe thead th {\n",
              "        text-align: right;\n",
              "    }\n",
              "</style>\n",
              "<table border=\"1\" class=\"dataframe\">\n",
              "  <thead>\n",
              "    <tr style=\"text-align: right;\">\n",
              "      <th></th>\n",
              "      <th>airline_sentiment</th>\n",
              "      <th>airline_sentiment_confidence</th>\n",
              "      <th>negativereason</th>\n",
              "      <th>negativereason_confidence</th>\n",
              "      <th>airline</th>\n",
              "      <th>airline_sentiment_gold</th>\n",
              "      <th>name</th>\n",
              "      <th>negativereason_gold</th>\n",
              "      <th>retweet_count</th>\n",
              "      <th>text</th>\n",
              "      <th>tweet_coord</th>\n",
              "      <th>tweet_created</th>\n",
              "      <th>tweet_location</th>\n",
              "      <th>user_timezone</th>\n",
              "    </tr>\n",
              "    <tr>\n",
              "      <th>tweet_id</th>\n",
              "      <th></th>\n",
              "      <th></th>\n",
              "      <th></th>\n",
              "      <th></th>\n",
              "      <th></th>\n",
              "      <th></th>\n",
              "      <th></th>\n",
              "      <th></th>\n",
              "      <th></th>\n",
              "      <th></th>\n",
              "      <th></th>\n",
              "      <th></th>\n",
              "      <th></th>\n",
              "      <th></th>\n",
              "    </tr>\n",
              "  </thead>\n",
              "  <tbody>\n",
              "    <tr>\n",
              "      <th>570306133677760513</th>\n",
              "      <td>neutral</td>\n",
              "      <td>1.0000</td>\n",
              "      <td>NaN</td>\n",
              "      <td>NaN</td>\n",
              "      <td>Virgin America</td>\n",
              "      <td>NaN</td>\n",
              "      <td>cairdin</td>\n",
              "      <td>NaN</td>\n",
              "      <td>0</td>\n",
              "      <td>@VirginAmerica What @dhepburn said.</td>\n",
              "      <td>NaN</td>\n",
              "      <td>2015-02-24 11:35:52 -0800</td>\n",
              "      <td>NaN</td>\n",
              "      <td>Eastern Time (US &amp; Canada)</td>\n",
              "    </tr>\n",
              "    <tr>\n",
              "      <th>570301130888122368</th>\n",
              "      <td>positive</td>\n",
              "      <td>0.3486</td>\n",
              "      <td>NaN</td>\n",
              "      <td>0.0000</td>\n",
              "      <td>Virgin America</td>\n",
              "      <td>NaN</td>\n",
              "      <td>jnardino</td>\n",
              "      <td>NaN</td>\n",
              "      <td>0</td>\n",
              "      <td>@VirginAmerica plus you've added commercials t...</td>\n",
              "      <td>NaN</td>\n",
              "      <td>2015-02-24 11:15:59 -0800</td>\n",
              "      <td>NaN</td>\n",
              "      <td>Pacific Time (US &amp; Canada)</td>\n",
              "    </tr>\n",
              "    <tr>\n",
              "      <th>570301083672813571</th>\n",
              "      <td>neutral</td>\n",
              "      <td>0.6837</td>\n",
              "      <td>NaN</td>\n",
              "      <td>NaN</td>\n",
              "      <td>Virgin America</td>\n",
              "      <td>NaN</td>\n",
              "      <td>yvonnalynn</td>\n",
              "      <td>NaN</td>\n",
              "      <td>0</td>\n",
              "      <td>@VirginAmerica I didn't today... Must mean I n...</td>\n",
              "      <td>NaN</td>\n",
              "      <td>2015-02-24 11:15:48 -0800</td>\n",
              "      <td>Lets Play</td>\n",
              "      <td>Central Time (US &amp; Canada)</td>\n",
              "    </tr>\n",
              "    <tr>\n",
              "      <th>570301031407624196</th>\n",
              "      <td>negative</td>\n",
              "      <td>1.0000</td>\n",
              "      <td>Bad Flight</td>\n",
              "      <td>0.7033</td>\n",
              "      <td>Virgin America</td>\n",
              "      <td>NaN</td>\n",
              "      <td>jnardino</td>\n",
              "      <td>NaN</td>\n",
              "      <td>0</td>\n",
              "      <td>@VirginAmerica it's really aggressive to blast...</td>\n",
              "      <td>NaN</td>\n",
              "      <td>2015-02-24 11:15:36 -0800</td>\n",
              "      <td>NaN</td>\n",
              "      <td>Pacific Time (US &amp; Canada)</td>\n",
              "    </tr>\n",
              "    <tr>\n",
              "      <th>570300817074462722</th>\n",
              "      <td>negative</td>\n",
              "      <td>1.0000</td>\n",
              "      <td>Can't Tell</td>\n",
              "      <td>1.0000</td>\n",
              "      <td>Virgin America</td>\n",
              "      <td>NaN</td>\n",
              "      <td>jnardino</td>\n",
              "      <td>NaN</td>\n",
              "      <td>0</td>\n",
              "      <td>@VirginAmerica and it's a really big bad thing...</td>\n",
              "      <td>NaN</td>\n",
              "      <td>2015-02-24 11:14:45 -0800</td>\n",
              "      <td>NaN</td>\n",
              "      <td>Pacific Time (US &amp; Canada)</td>\n",
              "    </tr>\n",
              "  </tbody>\n",
              "</table>\n",
              "</div>\n",
              "    <div class=\"colab-df-buttons\">\n",
              "\n",
              "  <div class=\"colab-df-container\">\n",
              "    <button class=\"colab-df-convert\" onclick=\"convertToInteractive('df-6ef443d5-7a73-4878-a1a9-081b046cf079')\"\n",
              "            title=\"Convert this dataframe to an interactive table.\"\n",
              "            style=\"display:none;\">\n",
              "\n",
              "  <svg xmlns=\"http://www.w3.org/2000/svg\" height=\"24px\" viewBox=\"0 -960 960 960\">\n",
              "    <path d=\"M120-120v-720h720v720H120Zm60-500h600v-160H180v160Zm220 220h160v-160H400v160Zm0 220h160v-160H400v160ZM180-400h160v-160H180v160Zm440 0h160v-160H620v160ZM180-180h160v-160H180v160Zm440 0h160v-160H620v160Z\"/>\n",
              "  </svg>\n",
              "    </button>\n",
              "\n",
              "  <style>\n",
              "    .colab-df-container {\n",
              "      display:flex;\n",
              "      gap: 12px;\n",
              "    }\n",
              "\n",
              "    .colab-df-convert {\n",
              "      background-color: #E8F0FE;\n",
              "      border: none;\n",
              "      border-radius: 50%;\n",
              "      cursor: pointer;\n",
              "      display: none;\n",
              "      fill: #1967D2;\n",
              "      height: 32px;\n",
              "      padding: 0 0 0 0;\n",
              "      width: 32px;\n",
              "    }\n",
              "\n",
              "    .colab-df-convert:hover {\n",
              "      background-color: #E2EBFA;\n",
              "      box-shadow: 0px 1px 2px rgba(60, 64, 67, 0.3), 0px 1px 3px 1px rgba(60, 64, 67, 0.15);\n",
              "      fill: #174EA6;\n",
              "    }\n",
              "\n",
              "    .colab-df-buttons div {\n",
              "      margin-bottom: 4px;\n",
              "    }\n",
              "\n",
              "    [theme=dark] .colab-df-convert {\n",
              "      background-color: #3B4455;\n",
              "      fill: #D2E3FC;\n",
              "    }\n",
              "\n",
              "    [theme=dark] .colab-df-convert:hover {\n",
              "      background-color: #434B5C;\n",
              "      box-shadow: 0px 1px 3px 1px rgba(0, 0, 0, 0.15);\n",
              "      filter: drop-shadow(0px 1px 2px rgba(0, 0, 0, 0.3));\n",
              "      fill: #FFFFFF;\n",
              "    }\n",
              "  </style>\n",
              "\n",
              "    <script>\n",
              "      const buttonEl =\n",
              "        document.querySelector('#df-6ef443d5-7a73-4878-a1a9-081b046cf079 button.colab-df-convert');\n",
              "      buttonEl.style.display =\n",
              "        google.colab.kernel.accessAllowed ? 'block' : 'none';\n",
              "\n",
              "      async function convertToInteractive(key) {\n",
              "        const element = document.querySelector('#df-6ef443d5-7a73-4878-a1a9-081b046cf079');\n",
              "        const dataTable =\n",
              "          await google.colab.kernel.invokeFunction('convertToInteractive',\n",
              "                                                    [key], {});\n",
              "        if (!dataTable) return;\n",
              "\n",
              "        const docLinkHtml = 'Like what you see? Visit the ' +\n",
              "          '<a target=\"_blank\" href=https://colab.research.google.com/notebooks/data_table.ipynb>data table notebook</a>'\n",
              "          + ' to learn more about interactive tables.';\n",
              "        element.innerHTML = '';\n",
              "        dataTable['output_type'] = 'display_data';\n",
              "        await google.colab.output.renderOutput(dataTable, element);\n",
              "        const docLink = document.createElement('div');\n",
              "        docLink.innerHTML = docLinkHtml;\n",
              "        element.appendChild(docLink);\n",
              "      }\n",
              "    </script>\n",
              "  </div>\n",
              "\n",
              "\n",
              "<div id=\"df-f57d021f-f9e4-47ef-b1cd-7aa2bf9fee4a\">\n",
              "  <button class=\"colab-df-quickchart\" onclick=\"quickchart('df-f57d021f-f9e4-47ef-b1cd-7aa2bf9fee4a')\"\n",
              "            title=\"Suggest charts\"\n",
              "            style=\"display:none;\">\n",
              "\n",
              "<svg xmlns=\"http://www.w3.org/2000/svg\" height=\"24px\"viewBox=\"0 0 24 24\"\n",
              "     width=\"24px\">\n",
              "    <g>\n",
              "        <path d=\"M19 3H5c-1.1 0-2 .9-2 2v14c0 1.1.9 2 2 2h14c1.1 0 2-.9 2-2V5c0-1.1-.9-2-2-2zM9 17H7v-7h2v7zm4 0h-2V7h2v10zm4 0h-2v-4h2v4z\"/>\n",
              "    </g>\n",
              "</svg>\n",
              "  </button>\n",
              "\n",
              "<style>\n",
              "  .colab-df-quickchart {\n",
              "      --bg-color: #E8F0FE;\n",
              "      --fill-color: #1967D2;\n",
              "      --hover-bg-color: #E2EBFA;\n",
              "      --hover-fill-color: #174EA6;\n",
              "      --disabled-fill-color: #AAA;\n",
              "      --disabled-bg-color: #DDD;\n",
              "  }\n",
              "\n",
              "  [theme=dark] .colab-df-quickchart {\n",
              "      --bg-color: #3B4455;\n",
              "      --fill-color: #D2E3FC;\n",
              "      --hover-bg-color: #434B5C;\n",
              "      --hover-fill-color: #FFFFFF;\n",
              "      --disabled-bg-color: #3B4455;\n",
              "      --disabled-fill-color: #666;\n",
              "  }\n",
              "\n",
              "  .colab-df-quickchart {\n",
              "    background-color: var(--bg-color);\n",
              "    border: none;\n",
              "    border-radius: 50%;\n",
              "    cursor: pointer;\n",
              "    display: none;\n",
              "    fill: var(--fill-color);\n",
              "    height: 32px;\n",
              "    padding: 0;\n",
              "    width: 32px;\n",
              "  }\n",
              "\n",
              "  .colab-df-quickchart:hover {\n",
              "    background-color: var(--hover-bg-color);\n",
              "    box-shadow: 0 1px 2px rgba(60, 64, 67, 0.3), 0 1px 3px 1px rgba(60, 64, 67, 0.15);\n",
              "    fill: var(--button-hover-fill-color);\n",
              "  }\n",
              "\n",
              "  .colab-df-quickchart-complete:disabled,\n",
              "  .colab-df-quickchart-complete:disabled:hover {\n",
              "    background-color: var(--disabled-bg-color);\n",
              "    fill: var(--disabled-fill-color);\n",
              "    box-shadow: none;\n",
              "  }\n",
              "\n",
              "  .colab-df-spinner {\n",
              "    border: 2px solid var(--fill-color);\n",
              "    border-color: transparent;\n",
              "    border-bottom-color: var(--fill-color);\n",
              "    animation:\n",
              "      spin 1s steps(1) infinite;\n",
              "  }\n",
              "\n",
              "  @keyframes spin {\n",
              "    0% {\n",
              "      border-color: transparent;\n",
              "      border-bottom-color: var(--fill-color);\n",
              "      border-left-color: var(--fill-color);\n",
              "    }\n",
              "    20% {\n",
              "      border-color: transparent;\n",
              "      border-left-color: var(--fill-color);\n",
              "      border-top-color: var(--fill-color);\n",
              "    }\n",
              "    30% {\n",
              "      border-color: transparent;\n",
              "      border-left-color: var(--fill-color);\n",
              "      border-top-color: var(--fill-color);\n",
              "      border-right-color: var(--fill-color);\n",
              "    }\n",
              "    40% {\n",
              "      border-color: transparent;\n",
              "      border-right-color: var(--fill-color);\n",
              "      border-top-color: var(--fill-color);\n",
              "    }\n",
              "    60% {\n",
              "      border-color: transparent;\n",
              "      border-right-color: var(--fill-color);\n",
              "    }\n",
              "    80% {\n",
              "      border-color: transparent;\n",
              "      border-right-color: var(--fill-color);\n",
              "      border-bottom-color: var(--fill-color);\n",
              "    }\n",
              "    90% {\n",
              "      border-color: transparent;\n",
              "      border-bottom-color: var(--fill-color);\n",
              "    }\n",
              "  }\n",
              "</style>\n",
              "\n",
              "  <script>\n",
              "    async function quickchart(key) {\n",
              "      const quickchartButtonEl =\n",
              "        document.querySelector('#' + key + ' button');\n",
              "      quickchartButtonEl.disabled = true;  // To prevent multiple clicks.\n",
              "      quickchartButtonEl.classList.add('colab-df-spinner');\n",
              "      try {\n",
              "        const charts = await google.colab.kernel.invokeFunction(\n",
              "            'suggestCharts', [key], {});\n",
              "      } catch (error) {\n",
              "        console.error('Error during call to suggestCharts:', error);\n",
              "      }\n",
              "      quickchartButtonEl.classList.remove('colab-df-spinner');\n",
              "      quickchartButtonEl.classList.add('colab-df-quickchart-complete');\n",
              "    }\n",
              "    (() => {\n",
              "      let quickchartButtonEl =\n",
              "        document.querySelector('#df-f57d021f-f9e4-47ef-b1cd-7aa2bf9fee4a button');\n",
              "      quickchartButtonEl.style.display =\n",
              "        google.colab.kernel.accessAllowed ? 'block' : 'none';\n",
              "    })();\n",
              "  </script>\n",
              "</div>\n",
              "\n",
              "    </div>\n",
              "  </div>\n"
            ],
            "text/plain": [
              "                   airline_sentiment  airline_sentiment_confidence  \\\n",
              "tweet_id                                                             \n",
              "570306133677760513           neutral                        1.0000   \n",
              "570301130888122368          positive                        0.3486   \n",
              "570301083672813571           neutral                        0.6837   \n",
              "570301031407624196          negative                        1.0000   \n",
              "570300817074462722          negative                        1.0000   \n",
              "\n",
              "                   negativereason  negativereason_confidence         airline  \\\n",
              "tweet_id                                                                       \n",
              "570306133677760513            NaN                        NaN  Virgin America   \n",
              "570301130888122368            NaN                     0.0000  Virgin America   \n",
              "570301083672813571            NaN                        NaN  Virgin America   \n",
              "570301031407624196     Bad Flight                     0.7033  Virgin America   \n",
              "570300817074462722     Can't Tell                     1.0000  Virgin America   \n",
              "\n",
              "                   airline_sentiment_gold        name negativereason_gold  \\\n",
              "tweet_id                                                                    \n",
              "570306133677760513                    NaN     cairdin                 NaN   \n",
              "570301130888122368                    NaN    jnardino                 NaN   \n",
              "570301083672813571                    NaN  yvonnalynn                 NaN   \n",
              "570301031407624196                    NaN    jnardino                 NaN   \n",
              "570300817074462722                    NaN    jnardino                 NaN   \n",
              "\n",
              "                    retweet_count  \\\n",
              "tweet_id                            \n",
              "570306133677760513              0   \n",
              "570301130888122368              0   \n",
              "570301083672813571              0   \n",
              "570301031407624196              0   \n",
              "570300817074462722              0   \n",
              "\n",
              "                                                                 text  \\\n",
              "tweet_id                                                                \n",
              "570306133677760513                @VirginAmerica What @dhepburn said.   \n",
              "570301130888122368  @VirginAmerica plus you've added commercials t...   \n",
              "570301083672813571  @VirginAmerica I didn't today... Must mean I n...   \n",
              "570301031407624196  @VirginAmerica it's really aggressive to blast...   \n",
              "570300817074462722  @VirginAmerica and it's a really big bad thing...   \n",
              "\n",
              "                   tweet_coord              tweet_created tweet_location  \\\n",
              "tweet_id                                                                   \n",
              "570306133677760513         NaN  2015-02-24 11:35:52 -0800            NaN   \n",
              "570301130888122368         NaN  2015-02-24 11:15:59 -0800            NaN   \n",
              "570301083672813571         NaN  2015-02-24 11:15:48 -0800      Lets Play   \n",
              "570301031407624196         NaN  2015-02-24 11:15:36 -0800            NaN   \n",
              "570300817074462722         NaN  2015-02-24 11:14:45 -0800            NaN   \n",
              "\n",
              "                                 user_timezone  \n",
              "tweet_id                                        \n",
              "570306133677760513  Eastern Time (US & Canada)  \n",
              "570301130888122368  Pacific Time (US & Canada)  \n",
              "570301083672813571  Central Time (US & Canada)  \n",
              "570301031407624196  Pacific Time (US & Canada)  \n",
              "570300817074462722  Pacific Time (US & Canada)  "
            ]
          },
          "execution_count": 3,
          "metadata": {},
          "output_type": "execute_result"
        }
      ],
      "source": [
        "# Lectura de la información de archivo .zip\n",
        "tweets = pd.read_csv('https://raw.githubusercontent.com/albahnsen/MIAD_ML_and_NLP/main/datasets/Tweets.zip', index_col=0)\n",
        "\n",
        "# Visualización dataset\n",
        "tweets.head()"
      ]
    },
    {
      "cell_type": "code",
      "execution_count": null,
      "metadata": {
        "colab": {
          "base_uri": "https://localhost:8080/"
        },
        "id": "0F3v9512gwVS",
        "outputId": "20504f46-b1ab-4d78-c5ca-f1c9089f7f58"
      },
      "outputs": [
        {
          "name": "stdout",
          "output_type": "stream",
          "text": [
            "<class 'pandas.core.frame.DataFrame'>\n",
            "Index: 14640 entries, 570306133677760513 to 569587140490866689\n",
            "Data columns (total 14 columns):\n",
            " #   Column                        Non-Null Count  Dtype  \n",
            "---  ------                        --------------  -----  \n",
            " 0   airline_sentiment             14640 non-null  object \n",
            " 1   airline_sentiment_confidence  14640 non-null  float64\n",
            " 2   negativereason                9178 non-null   object \n",
            " 3   negativereason_confidence     10522 non-null  float64\n",
            " 4   airline                       14640 non-null  object \n",
            " 5   airline_sentiment_gold        40 non-null     object \n",
            " 6   name                          14640 non-null  object \n",
            " 7   negativereason_gold           32 non-null     object \n",
            " 8   retweet_count                 14640 non-null  int64  \n",
            " 9   text                          14640 non-null  object \n",
            " 10  tweet_coord                   1019 non-null   object \n",
            " 11  tweet_created                 14640 non-null  object \n",
            " 12  tweet_location                9907 non-null   object \n",
            " 13  user_timezone                 9820 non-null   object \n",
            "dtypes: float64(2), int64(1), object(11)\n",
            "memory usage: 1.7+ MB\n"
          ]
        }
      ],
      "source": [
        "tweets.info()"
      ]
    },
    {
      "cell_type": "code",
      "execution_count": null,
      "metadata": {
        "colab": {
          "base_uri": "https://localhost:8080/"
        },
        "id": "fJYERDa3-4Fp",
        "outputId": "4bf0e879-efbc-4293-c12a-e0c2db384e44"
      },
      "outputs": [
        {
          "data": {
            "text/plain": [
              "(14640, 14)"
            ]
          },
          "execution_count": 7,
          "metadata": {},
          "output_type": "execute_result"
        }
      ],
      "source": [
        "# Impresión tamaño del cojunto de datos\n",
        "tweets.shape"
      ]
    },
    {
      "cell_type": "markdown",
      "metadata": {
        "id": "A1nw7UeL-4Fq"
      },
      "source": [
        "### Análisis descriptivo"
      ]
    },
    {
      "cell_type": "code",
      "execution_count": null,
      "metadata": {
        "colab": {
          "base_uri": "https://localhost:8080/"
        },
        "id": "op9sP0Y0-4Fq",
        "outputId": "b52ea317-8a90-4cd8-ee92-efdbeb5cd5d4"
      },
      "outputs": [
        {
          "data": {
            "text/plain": [
              "airline_sentiment\n",
              "negative    9178\n",
              "neutral     3099\n",
              "positive    2363\n",
              "Name: count, dtype: int64"
            ]
          },
          "execution_count": 8,
          "metadata": {},
          "output_type": "execute_result"
        }
      ],
      "source": [
        "# Cuenta de tweets por cada sentimiento\n",
        "tweets['airline_sentiment'].value_counts()"
      ]
    },
    {
      "cell_type": "code",
      "execution_count": null,
      "metadata": {
        "colab": {
          "base_uri": "https://localhost:8080/"
        },
        "id": "hWX24nre-4Fq",
        "outputId": "a1bbf7b5-ab14-4f9e-8c98-abcd5eee0bce"
      },
      "outputs": [
        {
          "data": {
            "text/plain": [
              "airline\n",
              "United            3822\n",
              "US Airways        2913\n",
              "American          2759\n",
              "Southwest         2420\n",
              "Delta             2222\n",
              "Virgin America     504\n",
              "Name: count, dtype: int64"
            ]
          },
          "execution_count": 9,
          "metadata": {},
          "output_type": "execute_result"
        }
      ],
      "source": [
        "# Cuenta de tweets por cada aerolínea\n",
        "tweets['airline'].value_counts()"
      ]
    },
    {
      "cell_type": "code",
      "execution_count": null,
      "metadata": {
        "colab": {
          "base_uri": "https://localhost:8080/",
          "height": 582
        },
        "id": "gYmJigOJ-4Fr",
        "outputId": "99894847-72be-45c4-e2d4-53705fb4f01f"
      },
      "outputs": [
        {
          "data": {
            "text/plain": [
              "<Axes: title={'center': 'Sentiminetos por aerolínea'}, xlabel='airline'>"
            ]
          },
          "execution_count": 10,
          "metadata": {},
          "output_type": "execute_result"
        },
        {
          "data": {
            "image/png": "[encoded data removed]",
            "text/plain": [
              "<Figure size 1000x600 with 1 Axes>"
            ]
          },
          "metadata": {},
          "output_type": "display_data"
        }
      ],
      "source": [
        "# Plot con cuenta de tweets por cada aerolínea y sentimiento\n",
        "pd.crosstab(index = tweets[\"airline\"],columns = tweets[\"airline_sentiment\"]).plot(kind='bar',figsize=(10, 6),alpha=0.5,rot=0,stacked=True,title=\"Sentiminetos por aerolínea\")"
      ]
    },
    {
      "cell_type": "markdown",
      "metadata": {
        "id": "NqgiKcbBixKD"
      },
      "source": [
        "**Conclusiones:**\n",
        "\n",
        "Al analizar los sentimientos expresados en los tweets sobre diferentes aerolíneas de EE.UU., se observa una tendencia muy marcada hacia los sentimientos negativos. Las aerolíneas United y US Airways son las que reciben la mayor cantidad de tweets negativos y son las mas mencionadas, con 2633 y 2263 respectivamente. Esto indica una alta proporción de experiencias negativas sobre estas aerolíneas específicas.\n",
        "\n",
        "Por otro lado, las aerolíneas Delta, Southwest y American muestran una distribución más equilibrada de sentimientos, con un número importante de tweets neutrales y positivos, aunque también tienen tweets negativos, la proporción de sentimientos neutrales y positivos es más alta en comparación con United y US Airways.\n",
        "\n",
        "Por último, Virgin America, aunque menos mencionada en general, muestra una distribución similar a Delta, Southwest y American, con un número importante de tweets neutrales y positivos en comparación con los negativos."
      ]
    },
    {
      "cell_type": "markdown",
      "metadata": {
        "id": "tAQIi73L-4Fr"
      },
      "source": [
        "### Liberias y Variables de interés y predicción"
      ]
    },
    {
      "cell_type": "code",
      "execution_count": null,
      "metadata": {
        "id": "fRQ8aYf5-4Fr"
      },
      "outputs": [],
      "source": [
        "from sklearn.model_selection import train_test_split, cross_val_score\n",
        "from sklearn.feature_extraction.text import CountVectorizer, TfidfVectorizer\n",
        "from sklearn.ensemble import RandomForestClassifier\n",
        "from nltk.stem.snowball import SnowballStemmer\n",
        "from nltk.stem import WordNetLemmatizer\n",
        "from sklearn import metrics"
      ]
    },
    {
      "cell_type": "code",
      "execution_count": null,
      "metadata": {
        "id": "aqyBJwMt-4Fr"
      },
      "outputs": [],
      "source": [
        "# Separación de variables predictoras (X) y de variable de interés (y)\n",
        "X = tweets['text']\n",
        "y = tweets['airline_sentiment'].map({'negative':-1,'neutral':0,'positive':1})"
      ]
    },
    {
      "cell_type": "code",
      "execution_count": null,
      "metadata": {
        "id": "SLa_Q-iS-4Fr"
      },
      "outputs": [],
      "source": [
        "# Separación de datos en set de entrenamiento y test\n",
        "X_train, X_test, y_train, y_test = train_test_split(X, y, test_size=0.33, random_state=42)"
      ]
    },
    {
      "cell_type": "markdown",
      "metadata": {
        "id": "uuB1quvi-4Fs"
      },
      "source": [
        "### Punto 1 - Uso de CountVectorizer\n",
        "\n",
        "En la celda 1 creen un modelo de random forest con la libreria sklearn que prediga el sentimiento de los tweets usando los set de entrenamiento y test definidos anteriormente. Usen la función **CountVectorizer** y presenten el desempeño del modelo con la métrica del acurracy.\n",
        "\n",
        "Recuerden que el preprocesamiento que se haga sobre los datos de entrenamiento  (*.fit_transform()*) deben ser aplicado al set de test (*.transform()*)."
      ]
    },
    {
      "cell_type": "code",
      "execution_count": null,
      "metadata": {
        "colab": {
          "base_uri": "https://localhost:8080/",
          "height": 484
        },
        "id": "YS4Zoqnl-4Fs",
        "outputId": "b4fb09ea-bd66-4bfa-ca98-3b51a238db65"
      },
      "outputs": [
        {
          "name": "stdout",
          "output_type": "stream",
          "text": [
            "Mejor N-Estimator: 30\n",
            "El accuracy del RF es de:  0.7553807947019867\n"
          ]
        },
        {
          "data": {
            "image/png": "[encoded data removed]",
            "text/plain": [
              "<Figure size 640x480 with 1 Axes>"
            ]
          },
          "metadata": {},
          "output_type": "display_data"
        }
      ],
      "source": [
        "# Celda 1\n",
        "vect_1 = CountVectorizer(lowercase=False)\n",
        "X_train_vect = vect_1.fit_transform(X_train)\n",
        "\n",
        "# Se estima el mejor parametro para el número de estimadores a usar en el modelo random forest\n",
        "acc = []\n",
        "for i in range(1,31):\n",
        "    modeloRF = RandomForestClassifier(n_estimators=i, random_state=42)\n",
        "    acc.append(cross_val_score(modeloRF, X_train_vect, y_train, cv=4, scoring='accuracy').mean())\n",
        "\n",
        "best_n_estimator = np.argmax(acc)\n",
        "\n",
        "print(\"Mejor N-Estimator: \" + str(best_n_estimator+1))\n",
        "\n",
        "plt.plot(range(1,31), acc)\n",
        "plt.xlabel('# de Estimadores')\n",
        "plt.ylabel('Accuracy')\n",
        "\n",
        "modeloRF = RandomForestClassifier(n_estimators=best_n_estimator+1, random_state=42)\n",
        "modeloRF.fit(X_train_vect, y_train)\n",
        "\n",
        "y_pred = modeloRF.predict(vect_1.transform(X_test))\n",
        "\n",
        "RF_accuracy_1 = metrics.accuracy_score(y_pred, y_test)\n",
        "print(\"El accuracy del RF es de: \", RF_accuracy_1)"
      ]
    },
    {
      "cell_type": "markdown",
      "metadata": {
        "id": "qIJoOplSUdd-"
      },
      "source": [
        "**Análisis Punto 1 - Uso de CountVectorizer**\n",
        "\n",
        "En primer lugar se crea un vector donde todos sus componentes se transforman en minusculas para evitar problemas con respecto a la diferencia entre mayusculas y minusculas. Posteriormente, se pasan los datos de entrenamiento al vector previamente creado para poder obtener una matriz resultante donde se encuentran los términos y la frecuencia de cada término en el texto. Luego se crea el modelo de random forest donde se itera el número de estimadores para así poder encontrar la cantidad de estimadores a usar que optimizen el desempéño del modelo. A partir de esto se gráfica el Accuracy obtenido según el número de estimadores utilizados en el modelo, en la cual se evidencia que usar 30 estimadores es el valor óptimo a utilizar ya que los valores mayores no generan una mejoría significativa en el desempeño del modelo, más sin embargo si le adicionan complejidad al modelo. Finalmente, se realiza otra vez el modelo de Random Forest con 30 estimadores y se obtiene un Accuracy de 0.7553 lo que indica que el 75.53% de las predicciones se realizaron correctamente lo que significa que el modelo tiene un buen desempeño predictivo."
      ]
    },
    {
      "cell_type": "markdown",
      "metadata": {
        "id": "Kx4L2yYc-4Fs"
      },
      "source": [
        "### Punto 2 - Eliminación de Stopwords\n",
        "\n",
        "En la celda 2 creen un modelo de random forest con la libreria sklearn que prediga el sentimiento de los tweets usando los set de entrenamiento y test definidos anteriormente. Usen la función CountVectorizer, **eliminen stopwords** y presenten el desempeño del modelo con la métrica del acurracy.\n",
        "\n",
        "Recuerden que el preprocesamiento que se haga sobre los datos de entrenamiento  (*.fit_transform()*) deben ser aplicado al set de test (*.transform()*)."
      ]
    },
    {
      "cell_type": "code",
      "execution_count": null,
      "metadata": {
        "colab": {
          "base_uri": "https://localhost:8080/",
          "height": 484
        },
        "id": "MIev6hir-4Fs",
        "outputId": "f22a0ed1-26df-4ade-d4dd-0810fb23321f"
      },
      "outputs": [
        {
          "name": "stdout",
          "output_type": "stream",
          "text": [
            "Mejor N-Estimators: 28\n",
            "El accuracy del RF quitando las stop words es de:  0.7543460264900662\n"
          ]
        },
        {
          "data": {
            "image/png": "[encoded data removed]",
            "text/plain": [
              "<Figure size 640x480 with 1 Axes>"
            ]
          },
          "metadata": {},
          "output_type": "display_data"
        }
      ],
      "source": [
        "# Celda 2\n",
        "vect_2 = CountVectorizer(lowercase=False,stop_words='english')\n",
        "X_train_sw = vect_2.fit_transform(X_train)\n",
        "\n",
        "# Se estima el mejor parametro para el número de estimadores a usar en el modelo de random forest\n",
        "acc = []\n",
        "for i in range(1,31):\n",
        "    modeloRF_SW = RandomForestClassifier(n_estimators=i, random_state=42)\n",
        "    acc.append(cross_val_score(modeloRF_SW, X_train_sw, y_train, cv=4, scoring='accuracy').mean())\n",
        "\n",
        "best_n_estimator = np.argmax(acc)\n",
        "\n",
        "print(\"Mejor N-Estimators: \" + str(best_n_estimator+1))\n",
        "\n",
        "plt.plot(range(1,31), acc)\n",
        "plt.xlabel('# de Estimadores')\n",
        "plt.ylabel('Accuracy')\n",
        "\n",
        "modeloRF_SW = RandomForestClassifier(n_estimators=best_n_estimator+1, random_state=42)\n",
        "modeloRF_SW.fit(X_train_sw, y_train)\n",
        "\n",
        "y_pred_sw = modeloRF_SW.predict(vect_2.transform(X_test))\n",
        "\n",
        "RF_accuracy_sw_2 = metrics.accuracy_score(y_pred_sw, y_test)\n",
        "print(\"El accuracy del RF quitando las stop words es de: \", RF_accuracy_sw_2)"
      ]
    },
    {
      "cell_type": "markdown",
      "metadata": {
        "id": "NuJOf-tTYwXW"
      },
      "source": [
        "**Análisis Punto 2 - Eliminación de Stopwords**\n",
        "\n",
        "Se realizó el mismo procedimiento que en el punto anterior pero en este caso se utilizo el parámetro \"stop_words\" ya que el texto se encuentra en inglés por lo que hay varios problemas conocidos con este idioma. Lo que realiza este parámetro es que hay palabras que se consideran vacías, que son palabras como “and”, “him”, “the”, que no se consideran como informativas al representar el contenido de un texto y que pueden eliminarse para evitar que se interpreten como una señal de predicción. Posteriormente se creo nuevamente el modelo de random forest donde se itera el número de estimadores para así poder encontrar la cantidad de estimadores a usar que optimizen el desempéño del modelo. A partir de esto se gráfica el Accuracy obtenido según el número de estimadores utilizados en el modelo, en la cual se evidencia que usar 28 estimadores es el valor óptimo a utilizar ya que los valores mayores no generan una mejoría significativa en el desempeño del modelo, más sin embargo si le adicionan complejidad al modelo. Finalmente, se realiza otra vez el modelo de Random Forest con 28 estimadores y se obtiene un Accuracy de 0.7543 lo que indica que el 75.43% de las predicciones se realizaron correctamente lo que significa que el modelo tiene un buen desempeño predictivo. Además, respecto al punto anterior, es posible concluir que a pesar de no tener un mayor accuracy la diferencia es minima, pero en relacion a la cantidad de estimadores sera menor, resultando en menor tiempo de entrenamiento."
      ]
    },
    {
      "cell_type": "markdown",
      "metadata": {
        "id": "m_CXvilr-4Fs"
      },
      "source": [
        "### Punto 3 - Lematización con verbos\n",
        "\n",
        "En la celda 3 creen un modelo de random forest con la libreria sklearn que prediga el sentimiento de los tweets usando los set de entrenamiento y test definidos anteriormente. Usen la función CountVectorizer, **lematizen el texto con verbos** y presenten el desempeño del modelo con la métrica del acurracy.\n",
        "\n",
        "Recuerden que el preprocesamiento que se haga sobre los datos de entrenamiento  (*.fit_transform()*) deben ser aplicado al set de test (*.transform()*)."
      ]
    },
    {
      "cell_type": "code",
      "execution_count": null,
      "metadata": {
        "colab": {
          "base_uri": "https://localhost:8080/",
          "height": 522
        },
        "id": "fuZE7tyO-4Fs",
        "outputId": "6a4089f9-5d5b-4e46-99c5-db90fcaa18ac"
      },
      "outputs": [
        {
          "name": "stderr",
          "output_type": "stream",
          "text": [
            "[nltk_data] Downloading package wordnet to /root/nltk_data...\n",
            "[nltk_data]   Package wordnet is already up-to-date!\n"
          ]
        },
        {
          "name": "stdout",
          "output_type": "stream",
          "text": [
            "Mejor N-Estimators: 38\n",
            "El accuracy del RF quitando las stop words es de:  0.7522764900662252\n"
          ]
        },
        {
          "data": {
            "image/png": "[encoded data removed]",
            "text/plain": [
              "<Figure size 640x480 with 1 Axes>"
            ]
          },
          "metadata": {},
          "output_type": "display_data"
        }
      ],
      "source": [
        "# Celda 3\n",
        "from nltk.stem import WordNetLemmatizer\n",
        "wordnet_lemmatizer = WordNetLemmatizer()\n",
        "import nltk\n",
        "nltk.download('wordnet')\n",
        "\n",
        "def split_into_lemmas(text):\n",
        "    text = text.lower()\n",
        "    words = text.split()\n",
        "    return [wordnet_lemmatizer.lemmatize(word) for word in words]\n",
        "\n",
        "vect_3 = CountVectorizer(lowercase=False,analyzer=split_into_lemmas)\n",
        "X_train_wl = vect_3.fit_transform(X_train)\n",
        "\n",
        "# Se estima el mejor parametro para el número de estimadores a usar en el modelo de random forest\n",
        "acc = []\n",
        "for i in range(1,41):\n",
        "    modeloRF_SW = RandomForestClassifier(n_estimators=i, random_state=42)\n",
        "    acc.append(cross_val_score(modeloRF_SW, X_train_wl, y_train, cv=4, scoring='accuracy').mean())\n",
        "\n",
        "best_n_estimator = np.argmax(acc)\n",
        "print(\"Mejor N-Estimators: \" + str(best_n_estimator+1))\n",
        "\n",
        "plt.plot(range(1,41), acc)\n",
        "plt.xlabel('# de Estimadores')\n",
        "plt.ylabel('Accuracy')\n",
        "\n",
        "modeloRF_SW = RandomForestClassifier(n_estimators=best_n_estimator+1, random_state=42)\n",
        "modeloRF_SW.fit(X_train_wl, y_train)\n",
        "\n",
        "y_pred_wl = modeloRF_SW.predict(vect_3.transform(X_test))\n",
        "\n",
        "RF_accuracy_sw_3 = metrics.accuracy_score(y_pred_wl, y_test)\n",
        "print(\"El accuracy del RF quitando las stop words es de: \", RF_accuracy_sw_3)"
      ]
    },
    {
      "cell_type": "markdown",
      "metadata": {
        "id": "IU4Y3wpyo_es"
      },
      "source": [
        "**Analisis Punto 3 - Lematización**\n",
        "\n",
        "Se implemento un modelo de clasificación de sentimientos en tweets utilizando Random Forest, CountVectorizer y lematización de verbos.\n",
        "\n",
        "Durante el entrenamiento, exploramos varios números de estimadores y seleccionamos aquel que maximizara el Accuracy del modelo, siendo 38 el valor optimo de los estimadores. En la evaluación con datos de Test, logramos un accuracy del 75.22%.\n",
        "\n",
        "La lematización proporcionó una representación más precisa de las palabras, lo que ayudó al modelo a capturar mejor las relaciones semánticas y mejorar su capacidad predictiva. Pero tambien se puede ver de que el valor optimo se encuentra con 38 estimadores, lo cual repercute en los tiempos de entranamiento del modelo, comparando con el modelo del punto 1 no mejora el accuracy."
      ]
    },
    {
      "cell_type": "markdown",
      "metadata": {
        "id": "nD4bK8Wm-4Fs"
      },
      "source": [
        "### Punto 4 - Multiples técnicas\n",
        "\n",
        "En la celda 4 creen un modelo de random forest con la libreria sklearn que prediga el sentimiento de los tweets usando los set de entrenamiento y test definidos anteriormente. Usen la función **CountVectorizer, eliminen stopwords, lematizen el texto con verbos** y presenten el desempeño del modelo con la métrica del acurracy.\n",
        "\n",
        "Recuerden que el preprocesamiento que se haga sobre los datos de entrenamiento  (*.fit_transform()*) deben ser aplicado al set de test (*.transform()*)."
      ]
    },
    {
      "cell_type": "code",
      "execution_count": null,
      "metadata": {
        "colab": {
          "base_uri": "https://localhost:8080/",
          "height": 484
        },
        "id": "hZfbm_bB-4Fs",
        "outputId": "c3a24503-9d21-451c-9f89-4eac0e0cb74e"
      },
      "outputs": [
        {
          "name": "stdout",
          "output_type": "stream",
          "text": [
            "Mejor N-Estimators: 1\n",
            "El accuracy del RF quitando las stop words es de:  0.7520695364238411\n"
          ]
        },
        {
          "data": {
            "image/png": "[encoded data removed]",
            "text/plain": [
              "<Figure size 640x480 with 1 Axes>"
            ]
          },
          "metadata": {},
          "output_type": "display_data"
        }
      ],
      "source": [
        "# Celda 4\n",
        "vect_4 = CountVectorizer(lowercase=False,analyzer=split_into_lemmas,stop_words='english')\n",
        "X_train_swl = vect_4.fit_transform(X_train)\n",
        "\n",
        "# Se estima el mejor parametro para el número de estimadores a usar en el modelo de random forest\n",
        "acc = []\n",
        "for i in range(1,41):\n",
        "    modeloRF_SWL = RandomForestClassifier(n_estimators=i, random_state=42)\n",
        "    acc.append(cross_val_score(modeloRF_SW, X_train_swl, y_train, cv=4, scoring='accuracy').mean())\n",
        "\n",
        "best_n_estimator = np.argmax(acc)\n",
        "print(\"Mejor N-Estimators: \" + str(best_n_estimator+1))\n",
        "\n",
        "plt.plot(range(1,41), acc)\n",
        "plt.xlabel('# de Estimadores')\n",
        "plt.ylabel('Accuracy')\n",
        "\n",
        "modeloRF_SW = RandomForestClassifier(n_estimators=best_n_estimator+1, random_state=42)\n",
        "modeloRF_SWL.fit(X_train_swl, y_train)\n",
        "\n",
        "y_pred_wl = modeloRF_SWL.predict(vect_4.transform(X_test))\n",
        "\n",
        "RF_accuracy_sw_4 = metrics.accuracy_score(y_pred_wl, y_test)\n",
        "print(\"El accuracy del RF quitando las stop words es de: \", RF_accuracy_sw_4)"
      ]
    },
    {
      "cell_type": "markdown",
      "metadata": {
        "id": "eYdwVyIDqR8d"
      },
      "source": [
        "**Analisis Punto 4 - Eliminacion de StopWors y Lematizacion**\n",
        "\n",
        "Esta implementación combina Random Forest como lo hemos aplicado anteriormente, con eliminacion de stopwords y lematizacion.\n",
        "\n",
        "Durante el entrenamiento, realizamos una búsqueda del mejor número de estimadores para el Random Forest, utilizando validación cruzada para evaluar diferentes opciones y selecionar el número óptimo de estimadores que maximizaba el accuracy del modelo, el cual sorprendente es que se mantiene constante el accuracy desde 1 estimador hasta 40 estimadores.\n",
        "\n",
        "Al evaluar el modelo entrenado en datos de test, observamos un accuracy del 75.20%. Este resultado es bueno, ya que indica que el modelo es capaz de clasificar correctamente aproximadamente el 75.20% de los tweets sobre aerolíneas en el conjunto de prueba.\n",
        "\n",
        "El hecho que el accuracy optimo sea constante por ende tendremos el optimo en 1 estimador, resultando en menor tiempo de entrenamiento en comparacion con los otros modelos junto con una mayor robustez del modelo."
      ]
    },
    {
      "cell_type": "markdown",
      "metadata": {
        "id": "b4q0V26k-4Ft"
      },
      "source": [
        "### Punto 5 - Comparación y análisis de resultados\n",
        "\n",
        "En la celda 5 comparen los resultados obtenidos de los diferentes modelos (random forest) y comenten las ventajas del mejor modelo y las desventajas del modelo con el menor desempeño."
      ]
    },
    {
      "cell_type": "code",
      "execution_count": null,
      "metadata": {
        "colab": {
          "base_uri": "https://localhost:8080/",
          "height": 565
        },
        "id": "XtZB2ffZ-4Ft",
        "outputId": "9c3adac0-e040-47d9-9caf-61ed1973106f"
      },
      "outputs": [
        {
          "data": {
            "image/png": "[encoded data removed]",
            "text/plain": [
              "<Figure size 800x600 with 1 Axes>"
            ]
          },
          "metadata": {},
          "output_type": "display_data"
        }
      ],
      "source": [
        "# Celda 5\n",
        "accuracies = [RF_accuracy_1, RF_accuracy_sw_2, RF_accuracy_sw_3, RF_accuracy_sw_4]\n",
        "\n",
        "models = ['Punto 1', 'Punto 2', 'Punto 3', 'Punto 4']\n",
        "\n",
        "plt.figure(figsize=(8, 6))\n",
        "plt.bar(models, accuracies, color=['blue', 'orange', 'green', 'red'])\n",
        "plt.xlabel('Modelos')\n",
        "plt.ylabel('Accuracy')\n",
        "plt.title('Comparación de Accuracies de los Modelos')\n",
        "plt.ylim(0.7, 0.76)\n",
        "\n",
        "for i in range(len(accuracies)):\n",
        "    plt.text(i, accuracies[i] + 0.001, f'{accuracies[i]:.4f}', ha='center')\n",
        "\n",
        "plt.show()"
      ]
    },
    {
      "cell_type": "markdown",
      "metadata": {
        "id": "OG1qxtCqyckw"
      },
      "source": [
        "**Comparación de los 4 Modelos:**\n",
        "\n",
        "+ **Modelo 1:** Se aplico CountVectorizer sin eliminar stopwords ni lematización, con un accuracy de 75.53%\n",
        "* **Modelo 2:** Se aplico CountVectorizer con eliminación de stopwords, sin lematización, con un accuracy de 75.43%.\n",
        "* **Modelo 3:** Se aplico CountVectorizer con lematización de verbos, sin eliminación de stopwords, alcanzando un accuracy de 75.22%.\n",
        "* **Modelo 4:** Se aplico CountVectorizer con eliminación de stopwords y lematización de verbos, con un accuracy de 75.20%.\n",
        "\n",
        "El mejor modelo teniendo en cuenta no solo el accuracy sino tambien menor tiempo de entranamiento, uso adecaudo de recursos computacionales y robustez es el modelo # 4 (punto 4).\n",
        "\n",
        "A pesar de que el modelo 1 (punto 1) tiene un mejor accuracy el modelo # 4 varia en apenas 0.33% que no es tan significativo, pero gano mayor robustez, eficiencia en recursos, robustez del modelo al mantener el accuracy constante a pesar de ajustar el hiperparametro de los estimadores y por ultimo un menor tiempo de entrenamiento en consideracion a los otros modelos.\n",
        "\n",
        "**Ventajas del Mejor Modelo (Mejor desempeño) (Modelo 4):**\n",
        "\n",
        " * La eliminación de stopwords ayuda a reducir el ruido y a enfocar el modelo 4 en las palabras más relevantes para la clasificación de sentimientos.\n",
        " * Un accuracy constante indica que el modelo 4 es robusto frente a cambios en el número de estimadores.\n",
        " * No es necesario utilizar un número excesivo de árboles, solo 1 estimador en el bosque, lo que hace que el modelo sea más eficiente en términos de recursos computacionales y memoria.\n",
        " * El modelo 4 puede generalizar bien los patrones en los datos independientemente del número de árboles utilizados.\n",
        "\n",
        "**Desventajas del Modelo con el Menor Desempeño (Modelo 3):**\n",
        "\n",
        "El Modelo 3 obtuvo el accuracy más bajo de 0.7522, lo que sugiere una capacidad ligeramente menor a los otros modelos para clasificar correctamente los sentimientos.\n",
        "\n",
        "La falta de preprocesamiento adicional, como la eliminación de stopwords y la lematización, podría haber afectado la capacidad del modelo para capturar las características semánticas importantes en los tweets.\n",
        "\n",
        "Entre las desventajas se podria destacar:\n",
        "* La lematización puede generar un vocabulario más grande, ya que cada verbo puede tener múltiples formas lematizadas. Esto puede resultar en una matriz de términos más grande, lo que aumenta la complejidad del modelo y el tiempo de entrenamiento.\n",
        "* Cada palabra debe ser lematizada, lo que puede llevar más tiempo en comparación con la tokenización o el uso de stopwords.\n",
        "* La lematización puede no ser suficiente para mejorar la calidad del modelo en comparación con otras técnicas de preprocesamiento, como la eliminación de stopwords.\n",
        "* Mayor cantidad de estimadores (38) que repercute en mayor tiempo de entranamiento y mneor eficiencia de recursos."
      ]
    }
  ],
  "metadata": {
    "colab": {
      "provenance": []
    },
    "kernelspec": {
      "display_name": "Python 3",
      "language": "python",
      "name": "python3"
    },
    "language_info": {
      "codemirror_mode": {
        "name": "ipython",
        "version": 3
      },
      "file_extension": ".py",
      "mimetype": "text/x-python",
      "name": "python",
      "nbconvert_exporter": "python",
      "pygments_lexer": "ipython3",
      "version": "3.7.3"
    }
  },
  "nbformat": 4,
  "nbformat_minor": 0
}
